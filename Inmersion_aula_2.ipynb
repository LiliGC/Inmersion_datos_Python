{
  "nbformat": 4,
  "nbformat_minor": 0,
  "metadata": {
    "colab": {
      "provenance": [],
      "include_colab_link": true
    },
    "kernelspec": {
      "name": "python3",
      "display_name": "Python 3"
    },
    "language_info": {
      "name": "python"
    }
  },
  "cells": [
    {
      "cell_type": "markdown",
      "metadata": {
        "id": "view-in-github",
        "colab_type": "text"
      },
      "source": [
        "<a href=\"https://colab.research.google.com/github/LiliGC/Inmersion_datos_Python/blob/main/Inmersion_aula_2.ipynb\" target=\"_parent\"><img src=\"https://colab.research.google.com/assets/colab-badge.svg\" alt=\"Open In Colab\"/></a>"
      ]
    },
    {
      "cell_type": "markdown",
      "source": [
        "# **Inmersión Datos Aula 2** LiliGC"
      ],
      "metadata": {
        "id": "qGW8k7mWhP7O"
      }
    },
    {
      "cell_type": "code",
      "source": [
        "from google.colab import drive\n",
        "\n",
        "drive.mount('/content/drive')"
      ],
      "metadata": {
        "id": "Y2BMxIBqhcl7",
        "colab": {
          "base_uri": "https://localhost:8080/"
        },
        "outputId": "ad907c09-188c-4870-ee08-4cbe3e97ecb7"
      },
      "execution_count": 1,
      "outputs": [
        {
          "output_type": "stream",
          "name": "stdout",
          "text": [
            "Mounted at /content/drive\n"
          ]
        }
      ]
    },
    {
      "cell_type": "code",
      "source": [
        "import pandas as pd\n",
        "\n",
        "inmuebles = pd.read_csv('/content/drive/MyDrive/inmersion_datos/inmuebles_bogota.csv') \n",
        "inmuebles.head()"
      ],
      "metadata": {
        "colab": {
          "base_uri": "https://localhost:8080/",
          "height": 389
        },
        "id": "S73Bs_z6j2QX",
        "outputId": "0934067d-b609-4a05-d9f6-9b85470fa054"
      },
      "execution_count": 2,
      "outputs": [
        {
          "output_type": "execute_result",
          "data": {
            "text/plain": [
              "          Tipo                                 Descripcion  Habitaciones  \\\n",
              "0  Apartamento  Apartamento en venta en Zona Noroccidental             3   \n",
              "1         Casa                   Casa en venta en Castilla             4   \n",
              "2  Apartamento     Apartamento en venta en Chico Reservado             3   \n",
              "3  Apartamento             Apartamento en venta en Usaquén             3   \n",
              "4  Apartamento         Apartamento en venta en Bella Suiza             2   \n",
              "\n",
              "   Baños  Área              Barrio                                    UPZ  \\\n",
              "0      2    70  Zona Noroccidental     CHAPINERO: Pardo Rubio + Chapinero   \n",
              "1      3   170            Castilla            KENNEDY: Castilla + Bavaria   \n",
              "2      3   144     Chico Reservado     CHAPINERO: Chicó Lago + El Refugio   \n",
              "3      2   154             Usaquén                                Usaquén   \n",
              "4      3   128         Bella Suiza  USAQUÉN: Country Club + Santa Bárbara   \n",
              "\n",
              "             Valor  \n",
              "0    $ 360.000.000  \n",
              "1    $ 670.000.000  \n",
              "2  $ 1.120.000.000  \n",
              "3    $ 890.000.000  \n",
              "4    $ 970.000.000  "
            ],
            "text/html": [
              "\n",
              "  <div id=\"df-2a172147-382c-4a85-bd3d-7616dc057ee0\">\n",
              "    <div class=\"colab-df-container\">\n",
              "      <div>\n",
              "<style scoped>\n",
              "    .dataframe tbody tr th:only-of-type {\n",
              "        vertical-align: middle;\n",
              "    }\n",
              "\n",
              "    .dataframe tbody tr th {\n",
              "        vertical-align: top;\n",
              "    }\n",
              "\n",
              "    .dataframe thead th {\n",
              "        text-align: right;\n",
              "    }\n",
              "</style>\n",
              "<table border=\"1\" class=\"dataframe\">\n",
              "  <thead>\n",
              "    <tr style=\"text-align: right;\">\n",
              "      <th></th>\n",
              "      <th>Tipo</th>\n",
              "      <th>Descripcion</th>\n",
              "      <th>Habitaciones</th>\n",
              "      <th>Baños</th>\n",
              "      <th>Área</th>\n",
              "      <th>Barrio</th>\n",
              "      <th>UPZ</th>\n",
              "      <th>Valor</th>\n",
              "    </tr>\n",
              "  </thead>\n",
              "  <tbody>\n",
              "    <tr>\n",
              "      <th>0</th>\n",
              "      <td>Apartamento</td>\n",
              "      <td>Apartamento en venta en Zona Noroccidental</td>\n",
              "      <td>3</td>\n",
              "      <td>2</td>\n",
              "      <td>70</td>\n",
              "      <td>Zona Noroccidental</td>\n",
              "      <td>CHAPINERO: Pardo Rubio + Chapinero</td>\n",
              "      <td>$ 360.000.000</td>\n",
              "    </tr>\n",
              "    <tr>\n",
              "      <th>1</th>\n",
              "      <td>Casa</td>\n",
              "      <td>Casa en venta en Castilla</td>\n",
              "      <td>4</td>\n",
              "      <td>3</td>\n",
              "      <td>170</td>\n",
              "      <td>Castilla</td>\n",
              "      <td>KENNEDY: Castilla + Bavaria</td>\n",
              "      <td>$ 670.000.000</td>\n",
              "    </tr>\n",
              "    <tr>\n",
              "      <th>2</th>\n",
              "      <td>Apartamento</td>\n",
              "      <td>Apartamento en venta en Chico Reservado</td>\n",
              "      <td>3</td>\n",
              "      <td>3</td>\n",
              "      <td>144</td>\n",
              "      <td>Chico Reservado</td>\n",
              "      <td>CHAPINERO: Chicó Lago + El Refugio</td>\n",
              "      <td>$ 1.120.000.000</td>\n",
              "    </tr>\n",
              "    <tr>\n",
              "      <th>3</th>\n",
              "      <td>Apartamento</td>\n",
              "      <td>Apartamento en venta en Usaquén</td>\n",
              "      <td>3</td>\n",
              "      <td>2</td>\n",
              "      <td>154</td>\n",
              "      <td>Usaquén</td>\n",
              "      <td>Usaquén</td>\n",
              "      <td>$ 890.000.000</td>\n",
              "    </tr>\n",
              "    <tr>\n",
              "      <th>4</th>\n",
              "      <td>Apartamento</td>\n",
              "      <td>Apartamento en venta en Bella Suiza</td>\n",
              "      <td>2</td>\n",
              "      <td>3</td>\n",
              "      <td>128</td>\n",
              "      <td>Bella Suiza</td>\n",
              "      <td>USAQUÉN: Country Club + Santa Bárbara</td>\n",
              "      <td>$ 970.000.000</td>\n",
              "    </tr>\n",
              "  </tbody>\n",
              "</table>\n",
              "</div>\n",
              "      <button class=\"colab-df-convert\" onclick=\"convertToInteractive('df-2a172147-382c-4a85-bd3d-7616dc057ee0')\"\n",
              "              title=\"Convert this dataframe to an interactive table.\"\n",
              "              style=\"display:none;\">\n",
              "        \n",
              "  <svg xmlns=\"http://www.w3.org/2000/svg\" height=\"24px\"viewBox=\"0 0 24 24\"\n",
              "       width=\"24px\">\n",
              "    <path d=\"M0 0h24v24H0V0z\" fill=\"none\"/>\n",
              "    <path d=\"M18.56 5.44l.94 2.06.94-2.06 2.06-.94-2.06-.94-.94-2.06-.94 2.06-2.06.94zm-11 1L8.5 8.5l.94-2.06 2.06-.94-2.06-.94L8.5 2.5l-.94 2.06-2.06.94zm10 10l.94 2.06.94-2.06 2.06-.94-2.06-.94-.94-2.06-.94 2.06-2.06.94z\"/><path d=\"M17.41 7.96l-1.37-1.37c-.4-.4-.92-.59-1.43-.59-.52 0-1.04.2-1.43.59L10.3 9.45l-7.72 7.72c-.78.78-.78 2.05 0 2.83L4 21.41c.39.39.9.59 1.41.59.51 0 1.02-.2 1.41-.59l7.78-7.78 2.81-2.81c.8-.78.8-2.07 0-2.86zM5.41 20L4 18.59l7.72-7.72 1.47 1.35L5.41 20z\"/>\n",
              "  </svg>\n",
              "      </button>\n",
              "      \n",
              "  <style>\n",
              "    .colab-df-container {\n",
              "      display:flex;\n",
              "      flex-wrap:wrap;\n",
              "      gap: 12px;\n",
              "    }\n",
              "\n",
              "    .colab-df-convert {\n",
              "      background-color: #E8F0FE;\n",
              "      border: none;\n",
              "      border-radius: 50%;\n",
              "      cursor: pointer;\n",
              "      display: none;\n",
              "      fill: #1967D2;\n",
              "      height: 32px;\n",
              "      padding: 0 0 0 0;\n",
              "      width: 32px;\n",
              "    }\n",
              "\n",
              "    .colab-df-convert:hover {\n",
              "      background-color: #E2EBFA;\n",
              "      box-shadow: 0px 1px 2px rgba(60, 64, 67, 0.3), 0px 1px 3px 1px rgba(60, 64, 67, 0.15);\n",
              "      fill: #174EA6;\n",
              "    }\n",
              "\n",
              "    [theme=dark] .colab-df-convert {\n",
              "      background-color: #3B4455;\n",
              "      fill: #D2E3FC;\n",
              "    }\n",
              "\n",
              "    [theme=dark] .colab-df-convert:hover {\n",
              "      background-color: #434B5C;\n",
              "      box-shadow: 0px 1px 3px 1px rgba(0, 0, 0, 0.15);\n",
              "      filter: drop-shadow(0px 1px 2px rgba(0, 0, 0, 0.3));\n",
              "      fill: #FFFFFF;\n",
              "    }\n",
              "  </style>\n",
              "\n",
              "      <script>\n",
              "        const buttonEl =\n",
              "          document.querySelector('#df-2a172147-382c-4a85-bd3d-7616dc057ee0 button.colab-df-convert');\n",
              "        buttonEl.style.display =\n",
              "          google.colab.kernel.accessAllowed ? 'block' : 'none';\n",
              "\n",
              "        async function convertToInteractive(key) {\n",
              "          const element = document.querySelector('#df-2a172147-382c-4a85-bd3d-7616dc057ee0');\n",
              "          const dataTable =\n",
              "            await google.colab.kernel.invokeFunction('convertToInteractive',\n",
              "                                                     [key], {});\n",
              "          if (!dataTable) return;\n",
              "\n",
              "          const docLinkHtml = 'Like what you see? Visit the ' +\n",
              "            '<a target=\"_blank\" href=https://colab.research.google.com/notebooks/data_table.ipynb>data table notebook</a>'\n",
              "            + ' to learn more about interactive tables.';\n",
              "          element.innerHTML = '';\n",
              "          dataTable['output_type'] = 'display_data';\n",
              "          await google.colab.output.renderOutput(dataTable, element);\n",
              "          const docLink = document.createElement('div');\n",
              "          docLink.innerHTML = docLinkHtml;\n",
              "          element.appendChild(docLink);\n",
              "        }\n",
              "      </script>\n",
              "    </div>\n",
              "  </div>\n",
              "  "
            ]
          },
          "metadata": {},
          "execution_count": 2
        }
      ]
    },
    {
      "cell_type": "code",
      "source": [
        "inmuebles.shape"
      ],
      "metadata": {
        "colab": {
          "base_uri": "https://localhost:8080/"
        },
        "id": "qkcJjAQrmyfN",
        "outputId": "2c9e4eac-c6fc-41fe-e75f-2dd0af357bba"
      },
      "execution_count": 3,
      "outputs": [
        {
          "output_type": "execute_result",
          "data": {
            "text/plain": [
              "(9520, 8)"
            ]
          },
          "metadata": {},
          "execution_count": 3
        }
      ]
    },
    {
      "cell_type": "code",
      "source": [
        "inmuebles.columns"
      ],
      "metadata": {
        "colab": {
          "base_uri": "https://localhost:8080/"
        },
        "id": "K-4LMluEnha_",
        "outputId": "fdc260be-c6f9-4c58-aee1-1464a25f4b29"
      },
      "execution_count": 4,
      "outputs": [
        {
          "output_type": "execute_result",
          "data": {
            "text/plain": [
              "Index(['Tipo', 'Descripcion', 'Habitaciones', 'Baños', 'Área', 'Barrio', 'UPZ',\n",
              "       'Valor'],\n",
              "      dtype='object')"
            ]
          },
          "metadata": {},
          "execution_count": 4
        }
      ]
    },
    {
      "cell_type": "code",
      "source": [
        "columnas = {'Baños':'Banos','Área':'Area'}\n",
        "inmuebles = inmuebles.rename(columns=columnas)\n",
        "inmuebles.sample(10)"
      ],
      "metadata": {
        "colab": {
          "base_uri": "https://localhost:8080/",
          "height": 668
        },
        "id": "X2nLnlFIn2EM",
        "outputId": "135cb4b0-7b8d-405a-d6c0-df51d8268da9"
      },
      "execution_count": 5,
      "outputs": [
        {
          "output_type": "execute_result",
          "data": {
            "text/plain": [
              "             Tipo                                 Descripcion  Habitaciones  \\\n",
              "5745  Apartamento         Apartamento en venta en Los Rosales             2   \n",
              "1037  Apartamento  Apartamento en venta en Zona Noroccidental             3   \n",
              "1238  Apartamento            Apartamento en venta en Fontibón             2   \n",
              "8262         Casa                   Casa en venta en Engativa             7   \n",
              "2814  Apartamento             Apartamento en venta en Usaquén             2   \n",
              "6658  Apartamento          Apartamento en venta en Cantagallo             3   \n",
              "2097  Apartamento      Apartamento en venta en Barrios Unidos             3   \n",
              "219   Apartamento  Apartamento en venta en Zona Noroccidental             3   \n",
              "1145         Casa                    Casa en venta en Mazuren             3   \n",
              "1586         Casa                    Casa en venta en Usaquén             3   \n",
              "\n",
              "      Banos  Area              Barrio                                 UPZ  \\\n",
              "5745      3   201         Los Rosales  CHAPINERO: Chicó Lago + El Refugio   \n",
              "1037      2  5458  Zona Noroccidental  CHAPINERO: Pardo Rubio + Chapinero   \n",
              "1238      2    47            Fontibón                            Fontibón   \n",
              "8262      6   295            Engativa                            Engativá   \n",
              "2814      2    69             Usaquén                             Usaquén   \n",
              "6658      2    90          Cantagallo                            Britalia   \n",
              "2097      4   346      Barrios Unidos                           Los Andes   \n",
              "219       4   300  Zona Noroccidental  CHAPINERO: Pardo Rubio + Chapinero   \n",
              "1145      2   113             Mazuren                            El Prado   \n",
              "1586      4    97             Usaquén                             Usaquén   \n",
              "\n",
              "                Valor  \n",
              "5745  $ 1.150.000.000  \n",
              "1037    $ 178.000.000  \n",
              "1238    $ 257.000.000  \n",
              "8262    $ 750.000.000  \n",
              "2814    $ 499.000.000  \n",
              "6658    $ 580.000.000  \n",
              "2097  $ 3.627.099.904  \n",
              "219   $ 1.560.000.000  \n",
              "1145    $ 560.000.000  \n",
              "1586    $ 450.000.000  "
            ],
            "text/html": [
              "\n",
              "  <div id=\"df-12393b8c-0905-4ade-9c46-74cdd6a37fd9\">\n",
              "    <div class=\"colab-df-container\">\n",
              "      <div>\n",
              "<style scoped>\n",
              "    .dataframe tbody tr th:only-of-type {\n",
              "        vertical-align: middle;\n",
              "    }\n",
              "\n",
              "    .dataframe tbody tr th {\n",
              "        vertical-align: top;\n",
              "    }\n",
              "\n",
              "    .dataframe thead th {\n",
              "        text-align: right;\n",
              "    }\n",
              "</style>\n",
              "<table border=\"1\" class=\"dataframe\">\n",
              "  <thead>\n",
              "    <tr style=\"text-align: right;\">\n",
              "      <th></th>\n",
              "      <th>Tipo</th>\n",
              "      <th>Descripcion</th>\n",
              "      <th>Habitaciones</th>\n",
              "      <th>Banos</th>\n",
              "      <th>Area</th>\n",
              "      <th>Barrio</th>\n",
              "      <th>UPZ</th>\n",
              "      <th>Valor</th>\n",
              "    </tr>\n",
              "  </thead>\n",
              "  <tbody>\n",
              "    <tr>\n",
              "      <th>5745</th>\n",
              "      <td>Apartamento</td>\n",
              "      <td>Apartamento en venta en Los Rosales</td>\n",
              "      <td>2</td>\n",
              "      <td>3</td>\n",
              "      <td>201</td>\n",
              "      <td>Los Rosales</td>\n",
              "      <td>CHAPINERO: Chicó Lago + El Refugio</td>\n",
              "      <td>$ 1.150.000.000</td>\n",
              "    </tr>\n",
              "    <tr>\n",
              "      <th>1037</th>\n",
              "      <td>Apartamento</td>\n",
              "      <td>Apartamento en venta en Zona Noroccidental</td>\n",
              "      <td>3</td>\n",
              "      <td>2</td>\n",
              "      <td>5458</td>\n",
              "      <td>Zona Noroccidental</td>\n",
              "      <td>CHAPINERO: Pardo Rubio + Chapinero</td>\n",
              "      <td>$ 178.000.000</td>\n",
              "    </tr>\n",
              "    <tr>\n",
              "      <th>1238</th>\n",
              "      <td>Apartamento</td>\n",
              "      <td>Apartamento en venta en Fontibón</td>\n",
              "      <td>2</td>\n",
              "      <td>2</td>\n",
              "      <td>47</td>\n",
              "      <td>Fontibón</td>\n",
              "      <td>Fontibón</td>\n",
              "      <td>$ 257.000.000</td>\n",
              "    </tr>\n",
              "    <tr>\n",
              "      <th>8262</th>\n",
              "      <td>Casa</td>\n",
              "      <td>Casa en venta en Engativa</td>\n",
              "      <td>7</td>\n",
              "      <td>6</td>\n",
              "      <td>295</td>\n",
              "      <td>Engativa</td>\n",
              "      <td>Engativá</td>\n",
              "      <td>$ 750.000.000</td>\n",
              "    </tr>\n",
              "    <tr>\n",
              "      <th>2814</th>\n",
              "      <td>Apartamento</td>\n",
              "      <td>Apartamento en venta en Usaquén</td>\n",
              "      <td>2</td>\n",
              "      <td>2</td>\n",
              "      <td>69</td>\n",
              "      <td>Usaquén</td>\n",
              "      <td>Usaquén</td>\n",
              "      <td>$ 499.000.000</td>\n",
              "    </tr>\n",
              "    <tr>\n",
              "      <th>6658</th>\n",
              "      <td>Apartamento</td>\n",
              "      <td>Apartamento en venta en Cantagallo</td>\n",
              "      <td>3</td>\n",
              "      <td>2</td>\n",
              "      <td>90</td>\n",
              "      <td>Cantagallo</td>\n",
              "      <td>Britalia</td>\n",
              "      <td>$ 580.000.000</td>\n",
              "    </tr>\n",
              "    <tr>\n",
              "      <th>2097</th>\n",
              "      <td>Apartamento</td>\n",
              "      <td>Apartamento en venta en Barrios Unidos</td>\n",
              "      <td>3</td>\n",
              "      <td>4</td>\n",
              "      <td>346</td>\n",
              "      <td>Barrios Unidos</td>\n",
              "      <td>Los Andes</td>\n",
              "      <td>$ 3.627.099.904</td>\n",
              "    </tr>\n",
              "    <tr>\n",
              "      <th>219</th>\n",
              "      <td>Apartamento</td>\n",
              "      <td>Apartamento en venta en Zona Noroccidental</td>\n",
              "      <td>3</td>\n",
              "      <td>4</td>\n",
              "      <td>300</td>\n",
              "      <td>Zona Noroccidental</td>\n",
              "      <td>CHAPINERO: Pardo Rubio + Chapinero</td>\n",
              "      <td>$ 1.560.000.000</td>\n",
              "    </tr>\n",
              "    <tr>\n",
              "      <th>1145</th>\n",
              "      <td>Casa</td>\n",
              "      <td>Casa en venta en Mazuren</td>\n",
              "      <td>3</td>\n",
              "      <td>2</td>\n",
              "      <td>113</td>\n",
              "      <td>Mazuren</td>\n",
              "      <td>El Prado</td>\n",
              "      <td>$ 560.000.000</td>\n",
              "    </tr>\n",
              "    <tr>\n",
              "      <th>1586</th>\n",
              "      <td>Casa</td>\n",
              "      <td>Casa en venta en Usaquén</td>\n",
              "      <td>3</td>\n",
              "      <td>4</td>\n",
              "      <td>97</td>\n",
              "      <td>Usaquén</td>\n",
              "      <td>Usaquén</td>\n",
              "      <td>$ 450.000.000</td>\n",
              "    </tr>\n",
              "  </tbody>\n",
              "</table>\n",
              "</div>\n",
              "      <button class=\"colab-df-convert\" onclick=\"convertToInteractive('df-12393b8c-0905-4ade-9c46-74cdd6a37fd9')\"\n",
              "              title=\"Convert this dataframe to an interactive table.\"\n",
              "              style=\"display:none;\">\n",
              "        \n",
              "  <svg xmlns=\"http://www.w3.org/2000/svg\" height=\"24px\"viewBox=\"0 0 24 24\"\n",
              "       width=\"24px\">\n",
              "    <path d=\"M0 0h24v24H0V0z\" fill=\"none\"/>\n",
              "    <path d=\"M18.56 5.44l.94 2.06.94-2.06 2.06-.94-2.06-.94-.94-2.06-.94 2.06-2.06.94zm-11 1L8.5 8.5l.94-2.06 2.06-.94-2.06-.94L8.5 2.5l-.94 2.06-2.06.94zm10 10l.94 2.06.94-2.06 2.06-.94-2.06-.94-.94-2.06-.94 2.06-2.06.94z\"/><path d=\"M17.41 7.96l-1.37-1.37c-.4-.4-.92-.59-1.43-.59-.52 0-1.04.2-1.43.59L10.3 9.45l-7.72 7.72c-.78.78-.78 2.05 0 2.83L4 21.41c.39.39.9.59 1.41.59.51 0 1.02-.2 1.41-.59l7.78-7.78 2.81-2.81c.8-.78.8-2.07 0-2.86zM5.41 20L4 18.59l7.72-7.72 1.47 1.35L5.41 20z\"/>\n",
              "  </svg>\n",
              "      </button>\n",
              "      \n",
              "  <style>\n",
              "    .colab-df-container {\n",
              "      display:flex;\n",
              "      flex-wrap:wrap;\n",
              "      gap: 12px;\n",
              "    }\n",
              "\n",
              "    .colab-df-convert {\n",
              "      background-color: #E8F0FE;\n",
              "      border: none;\n",
              "      border-radius: 50%;\n",
              "      cursor: pointer;\n",
              "      display: none;\n",
              "      fill: #1967D2;\n",
              "      height: 32px;\n",
              "      padding: 0 0 0 0;\n",
              "      width: 32px;\n",
              "    }\n",
              "\n",
              "    .colab-df-convert:hover {\n",
              "      background-color: #E2EBFA;\n",
              "      box-shadow: 0px 1px 2px rgba(60, 64, 67, 0.3), 0px 1px 3px 1px rgba(60, 64, 67, 0.15);\n",
              "      fill: #174EA6;\n",
              "    }\n",
              "\n",
              "    [theme=dark] .colab-df-convert {\n",
              "      background-color: #3B4455;\n",
              "      fill: #D2E3FC;\n",
              "    }\n",
              "\n",
              "    [theme=dark] .colab-df-convert:hover {\n",
              "      background-color: #434B5C;\n",
              "      box-shadow: 0px 1px 3px 1px rgba(0, 0, 0, 0.15);\n",
              "      filter: drop-shadow(0px 1px 2px rgba(0, 0, 0, 0.3));\n",
              "      fill: #FFFFFF;\n",
              "    }\n",
              "  </style>\n",
              "\n",
              "      <script>\n",
              "        const buttonEl =\n",
              "          document.querySelector('#df-12393b8c-0905-4ade-9c46-74cdd6a37fd9 button.colab-df-convert');\n",
              "        buttonEl.style.display =\n",
              "          google.colab.kernel.accessAllowed ? 'block' : 'none';\n",
              "\n",
              "        async function convertToInteractive(key) {\n",
              "          const element = document.querySelector('#df-12393b8c-0905-4ade-9c46-74cdd6a37fd9');\n",
              "          const dataTable =\n",
              "            await google.colab.kernel.invokeFunction('convertToInteractive',\n",
              "                                                     [key], {});\n",
              "          if (!dataTable) return;\n",
              "\n",
              "          const docLinkHtml = 'Like what you see? Visit the ' +\n",
              "            '<a target=\"_blank\" href=https://colab.research.google.com/notebooks/data_table.ipynb>data table notebook</a>'\n",
              "            + ' to learn more about interactive tables.';\n",
              "          element.innerHTML = '';\n",
              "          dataTable['output_type'] = 'display_data';\n",
              "          await google.colab.output.renderOutput(dataTable, element);\n",
              "          const docLink = document.createElement('div');\n",
              "          docLink.innerHTML = docLinkHtml;\n",
              "          element.appendChild(docLink);\n",
              "        }\n",
              "      </script>\n",
              "    </div>\n",
              "  </div>\n",
              "  "
            ]
          },
          "metadata": {},
          "execution_count": 5
        }
      ]
    },
    {
      "cell_type": "code",
      "source": [
        "inmuebles.info()"
      ],
      "metadata": {
        "colab": {
          "base_uri": "https://localhost:8080/"
        },
        "id": "KJT8oyJgo2hU",
        "outputId": "41690101-bdec-4885-e143-d283038531a5"
      },
      "execution_count": 6,
      "outputs": [
        {
          "output_type": "stream",
          "name": "stdout",
          "text": [
            "<class 'pandas.core.frame.DataFrame'>\n",
            "RangeIndex: 9520 entries, 0 to 9519\n",
            "Data columns (total 8 columns):\n",
            " #   Column        Non-Null Count  Dtype \n",
            "---  ------        --------------  ----- \n",
            " 0   Tipo          9520 non-null   object\n",
            " 1   Descripcion   9520 non-null   object\n",
            " 2   Habitaciones  9520 non-null   int64 \n",
            " 3   Banos         9520 non-null   int64 \n",
            " 4   Area          9520 non-null   int64 \n",
            " 5   Barrio        9520 non-null   object\n",
            " 6   UPZ           9478 non-null   object\n",
            " 7   Valor         9520 non-null   object\n",
            "dtypes: int64(3), object(5)\n",
            "memory usage: 595.1+ KB\n"
          ]
        }
      ]
    },
    {
      "cell_type": "code",
      "source": [
        "inmuebles.iloc[300]"
      ],
      "metadata": {
        "colab": {
          "base_uri": "https://localhost:8080/"
        },
        "id": "eyrj-ItzplxW",
        "outputId": "70f4d3e0-d714-4a54-99a2-48c174b880d8"
      },
      "execution_count": 7,
      "outputs": [
        {
          "output_type": "execute_result",
          "data": {
            "text/plain": [
              "Tipo                                Apartamento\n",
              "Descripcion     Apartamento en venta en Kennedy\n",
              "Habitaciones                                  2\n",
              "Banos                                         1\n",
              "Area                                         42\n",
              "Barrio                                  Kennedy\n",
              "UPZ                             Kennedy Central\n",
              "Valor                             $ 116.100.000\n",
              "Name: 300, dtype: object"
            ]
          },
          "metadata": {},
          "execution_count": 7
        }
      ]
    },
    {
      "cell_type": "code",
      "source": [
        "inmuebles.iloc[300:305]"
      ],
      "metadata": {
        "colab": {
          "base_uri": "https://localhost:8080/",
          "height": 337
        },
        "id": "NiK43WPcr0GG",
        "outputId": "aafe364f-6edc-477e-ef38-5160c8ae7ff0"
      },
      "execution_count": 8,
      "outputs": [
        {
          "output_type": "execute_result",
          "data": {
            "text/plain": [
              "            Tipo                          Descripcion  Habitaciones  Banos  \\\n",
              "300  Apartamento      Apartamento en venta en Kennedy             2      1   \n",
              "301  Apartamento  Apartamento en venta en Chico Norte             2      2   \n",
              "302  Apartamento      Apartamento en venta en Kennedy             3      2   \n",
              "303  Apartamento      Apartamento en venta en Kennedy             3      2   \n",
              "304  Apartamento     Apartamento en venta en Cedritos             4      4   \n",
              "\n",
              "     Area       Barrio                                 UPZ          Valor  \n",
              "300    42      Kennedy                     Kennedy Central  $ 116.100.000  \n",
              "301    95  Chico Norte  CHAPINERO: Chicó Lago + El Refugio  $ 980.000.000  \n",
              "302    54      Kennedy                     Kennedy Central  $ 237.000.000  \n",
              "303    67      Kennedy                     Kennedy Central  $ 320.000.000  \n",
              "304   132     Cedritos                             Usaquén  $ 530.000.000  "
            ],
            "text/html": [
              "\n",
              "  <div id=\"df-b64acae9-ae41-4aa1-8303-6333bc7c6e56\">\n",
              "    <div class=\"colab-df-container\">\n",
              "      <div>\n",
              "<style scoped>\n",
              "    .dataframe tbody tr th:only-of-type {\n",
              "        vertical-align: middle;\n",
              "    }\n",
              "\n",
              "    .dataframe tbody tr th {\n",
              "        vertical-align: top;\n",
              "    }\n",
              "\n",
              "    .dataframe thead th {\n",
              "        text-align: right;\n",
              "    }\n",
              "</style>\n",
              "<table border=\"1\" class=\"dataframe\">\n",
              "  <thead>\n",
              "    <tr style=\"text-align: right;\">\n",
              "      <th></th>\n",
              "      <th>Tipo</th>\n",
              "      <th>Descripcion</th>\n",
              "      <th>Habitaciones</th>\n",
              "      <th>Banos</th>\n",
              "      <th>Area</th>\n",
              "      <th>Barrio</th>\n",
              "      <th>UPZ</th>\n",
              "      <th>Valor</th>\n",
              "    </tr>\n",
              "  </thead>\n",
              "  <tbody>\n",
              "    <tr>\n",
              "      <th>300</th>\n",
              "      <td>Apartamento</td>\n",
              "      <td>Apartamento en venta en Kennedy</td>\n",
              "      <td>2</td>\n",
              "      <td>1</td>\n",
              "      <td>42</td>\n",
              "      <td>Kennedy</td>\n",
              "      <td>Kennedy Central</td>\n",
              "      <td>$ 116.100.000</td>\n",
              "    </tr>\n",
              "    <tr>\n",
              "      <th>301</th>\n",
              "      <td>Apartamento</td>\n",
              "      <td>Apartamento en venta en Chico Norte</td>\n",
              "      <td>2</td>\n",
              "      <td>2</td>\n",
              "      <td>95</td>\n",
              "      <td>Chico Norte</td>\n",
              "      <td>CHAPINERO: Chicó Lago + El Refugio</td>\n",
              "      <td>$ 980.000.000</td>\n",
              "    </tr>\n",
              "    <tr>\n",
              "      <th>302</th>\n",
              "      <td>Apartamento</td>\n",
              "      <td>Apartamento en venta en Kennedy</td>\n",
              "      <td>3</td>\n",
              "      <td>2</td>\n",
              "      <td>54</td>\n",
              "      <td>Kennedy</td>\n",
              "      <td>Kennedy Central</td>\n",
              "      <td>$ 237.000.000</td>\n",
              "    </tr>\n",
              "    <tr>\n",
              "      <th>303</th>\n",
              "      <td>Apartamento</td>\n",
              "      <td>Apartamento en venta en Kennedy</td>\n",
              "      <td>3</td>\n",
              "      <td>2</td>\n",
              "      <td>67</td>\n",
              "      <td>Kennedy</td>\n",
              "      <td>Kennedy Central</td>\n",
              "      <td>$ 320.000.000</td>\n",
              "    </tr>\n",
              "    <tr>\n",
              "      <th>304</th>\n",
              "      <td>Apartamento</td>\n",
              "      <td>Apartamento en venta en Cedritos</td>\n",
              "      <td>4</td>\n",
              "      <td>4</td>\n",
              "      <td>132</td>\n",
              "      <td>Cedritos</td>\n",
              "      <td>Usaquén</td>\n",
              "      <td>$ 530.000.000</td>\n",
              "    </tr>\n",
              "  </tbody>\n",
              "</table>\n",
              "</div>\n",
              "      <button class=\"colab-df-convert\" onclick=\"convertToInteractive('df-b64acae9-ae41-4aa1-8303-6333bc7c6e56')\"\n",
              "              title=\"Convert this dataframe to an interactive table.\"\n",
              "              style=\"display:none;\">\n",
              "        \n",
              "  <svg xmlns=\"http://www.w3.org/2000/svg\" height=\"24px\"viewBox=\"0 0 24 24\"\n",
              "       width=\"24px\">\n",
              "    <path d=\"M0 0h24v24H0V0z\" fill=\"none\"/>\n",
              "    <path d=\"M18.56 5.44l.94 2.06.94-2.06 2.06-.94-2.06-.94-.94-2.06-.94 2.06-2.06.94zm-11 1L8.5 8.5l.94-2.06 2.06-.94-2.06-.94L8.5 2.5l-.94 2.06-2.06.94zm10 10l.94 2.06.94-2.06 2.06-.94-2.06-.94-.94-2.06-.94 2.06-2.06.94z\"/><path d=\"M17.41 7.96l-1.37-1.37c-.4-.4-.92-.59-1.43-.59-.52 0-1.04.2-1.43.59L10.3 9.45l-7.72 7.72c-.78.78-.78 2.05 0 2.83L4 21.41c.39.39.9.59 1.41.59.51 0 1.02-.2 1.41-.59l7.78-7.78 2.81-2.81c.8-.78.8-2.07 0-2.86zM5.41 20L4 18.59l7.72-7.72 1.47 1.35L5.41 20z\"/>\n",
              "  </svg>\n",
              "      </button>\n",
              "      \n",
              "  <style>\n",
              "    .colab-df-container {\n",
              "      display:flex;\n",
              "      flex-wrap:wrap;\n",
              "      gap: 12px;\n",
              "    }\n",
              "\n",
              "    .colab-df-convert {\n",
              "      background-color: #E8F0FE;\n",
              "      border: none;\n",
              "      border-radius: 50%;\n",
              "      cursor: pointer;\n",
              "      display: none;\n",
              "      fill: #1967D2;\n",
              "      height: 32px;\n",
              "      padding: 0 0 0 0;\n",
              "      width: 32px;\n",
              "    }\n",
              "\n",
              "    .colab-df-convert:hover {\n",
              "      background-color: #E2EBFA;\n",
              "      box-shadow: 0px 1px 2px rgba(60, 64, 67, 0.3), 0px 1px 3px 1px rgba(60, 64, 67, 0.15);\n",
              "      fill: #174EA6;\n",
              "    }\n",
              "\n",
              "    [theme=dark] .colab-df-convert {\n",
              "      background-color: #3B4455;\n",
              "      fill: #D2E3FC;\n",
              "    }\n",
              "\n",
              "    [theme=dark] .colab-df-convert:hover {\n",
              "      background-color: #434B5C;\n",
              "      box-shadow: 0px 1px 3px 1px rgba(0, 0, 0, 0.15);\n",
              "      filter: drop-shadow(0px 1px 2px rgba(0, 0, 0, 0.3));\n",
              "      fill: #FFFFFF;\n",
              "    }\n",
              "  </style>\n",
              "\n",
              "      <script>\n",
              "        const buttonEl =\n",
              "          document.querySelector('#df-b64acae9-ae41-4aa1-8303-6333bc7c6e56 button.colab-df-convert');\n",
              "        buttonEl.style.display =\n",
              "          google.colab.kernel.accessAllowed ? 'block' : 'none';\n",
              "\n",
              "        async function convertToInteractive(key) {\n",
              "          const element = document.querySelector('#df-b64acae9-ae41-4aa1-8303-6333bc7c6e56');\n",
              "          const dataTable =\n",
              "            await google.colab.kernel.invokeFunction('convertToInteractive',\n",
              "                                                     [key], {});\n",
              "          if (!dataTable) return;\n",
              "\n",
              "          const docLinkHtml = 'Like what you see? Visit the ' +\n",
              "            '<a target=\"_blank\" href=https://colab.research.google.com/notebooks/data_table.ipynb>data table notebook</a>'\n",
              "            + ' to learn more about interactive tables.';\n",
              "          element.innerHTML = '';\n",
              "          dataTable['output_type'] = 'display_data';\n",
              "          await google.colab.output.renderOutput(dataTable, element);\n",
              "          const docLink = document.createElement('div');\n",
              "          docLink.innerHTML = docLinkHtml;\n",
              "          element.appendChild(docLink);\n",
              "        }\n",
              "      </script>\n",
              "    </div>\n",
              "  </div>\n",
              "  "
            ]
          },
          "metadata": {},
          "execution_count": 8
        }
      ]
    },
    {
      "cell_type": "code",
      "source": [
        "inmuebles['Valor'][300]"
      ],
      "metadata": {
        "colab": {
          "base_uri": "https://localhost:8080/",
          "height": 35
        },
        "id": "65he94kAsMXL",
        "outputId": "00bce22c-dfa7-424b-c9ff-fb4a48885d00"
      },
      "execution_count": 9,
      "outputs": [
        {
          "output_type": "execute_result",
          "data": {
            "text/plain": [
              "'$ 116.100.000'"
            ],
            "application/vnd.google.colaboratory.intrinsic+json": {
              "type": "string"
            }
          },
          "metadata": {},
          "execution_count": 9
        }
      ]
    },
    {
      "cell_type": "code",
      "source": [
        "type(inmuebles['Valor'][300:305])"
      ],
      "metadata": {
        "colab": {
          "base_uri": "https://localhost:8080/"
        },
        "id": "iFH5bi8EsbRe",
        "outputId": "14483b7d-49c4-4474-ed63-cb5bc1c95ca3"
      },
      "execution_count": 10,
      "outputs": [
        {
          "output_type": "execute_result",
          "data": {
            "text/plain": [
              "pandas.core.series.Series"
            ]
          },
          "metadata": {},
          "execution_count": 10
        }
      ]
    },
    {
      "cell_type": "code",
      "source": [
        "inmuebles.columns"
      ],
      "metadata": {
        "colab": {
          "base_uri": "https://localhost:8080/"
        },
        "id": "601xMJ2ashKu",
        "outputId": "7465a064-4415-4d95-ecbf-c160f808229e"
      },
      "execution_count": 11,
      "outputs": [
        {
          "output_type": "execute_result",
          "data": {
            "text/plain": [
              "Index(['Tipo', 'Descripcion', 'Habitaciones', 'Banos', 'Area', 'Barrio', 'UPZ',\n",
              "       'Valor'],\n",
              "      dtype='object')"
            ]
          },
          "metadata": {},
          "execution_count": 11
        }
      ]
    },
    {
      "cell_type": "code",
      "source": [
        "inmuebles.Area.mean()"
      ],
      "metadata": {
        "colab": {
          "base_uri": "https://localhost:8080/"
        },
        "id": "I1pyNc9Xs85S",
        "outputId": "ff52d6b8-79d3-4546-fd3b-007cafe5386c"
      },
      "execution_count": 12,
      "outputs": [
        {
          "output_type": "execute_result",
          "data": {
            "text/plain": [
              "146.66470588235293"
            ]
          },
          "metadata": {},
          "execution_count": 12
        }
      ]
    },
    {
      "cell_type": "code",
      "source": [
        "inmuebles.sample(100)"
      ],
      "metadata": {
        "colab": {
          "base_uri": "https://localhost:8080/",
          "height": 659
        },
        "id": "iYqOIwb_tPfj",
        "outputId": "13f9b3a8-f936-4f6b-c89a-5ffea36fe24f"
      },
      "execution_count": 13,
      "outputs": [
        {
          "output_type": "execute_result",
          "data": {
            "text/plain": [
              "             Tipo                            Descripcion  Habitaciones  Banos  \\\n",
              "7971  Apartamento           Apartamento en venta en Suba             3      2   \n",
              "4723  Apartamento  Apartamento en venta en Villa Alsacia             3      3   \n",
              "350   Apartamento       Apartamento en venta en Engativa             3      3   \n",
              "3981  Apartamento       Apartamento en venta en Cedritos             3      2   \n",
              "3071         Casa         Casa en venta en Bosa Porvenir             2      2   \n",
              "...           ...                                    ...           ...    ...   \n",
              "7791         Casa        Casa en venta en Barrios Unidos             4      2   \n",
              "8710  Apartamento  Apartamento en venta en Santa Barbara             1      2   \n",
              "8458  Apartamento        Apartamento en venta en Usaquén             3      1   \n",
              "6153  Apartamento        Apartamento en venta en Kennedy             3      1   \n",
              "888   Apartamento       Apartamento en venta en Engativa             3      2   \n",
              "\n",
              "      Area          Barrio                                    UPZ  \\\n",
              "7971   119            Suba                                   Suba   \n",
              "4723    70   Villa Alsacia            KENNEDY: Castilla + Bavaria   \n",
              "350     95        Engativa                               Engativá   \n",
              "3981    99        Cedritos                                Usaquén   \n",
              "3071    42   Bosa Porvenir                        Bosa Occidental   \n",
              "...    ...             ...                                    ...   \n",
              "7791   210  Barrios Unidos                              Los Andes   \n",
              "8710    69   Santa Barbara  USAQUÉN: Country Club + Santa Bárbara   \n",
              "8458    49         Usaquén                                Usaquén   \n",
              "6153    49         Kennedy                        Kennedy Central   \n",
              "888     67        Engativa                               Engativá   \n",
              "\n",
              "              Valor  \n",
              "7971  $ 539.000.000  \n",
              "4723  $ 340.000.000  \n",
              "350   $ 495.000.000  \n",
              "3981  $ 490.000.000  \n",
              "3071  $ 133.000.000  \n",
              "...             ...  \n",
              "7791  $ 610.000.000  \n",
              "8710  $ 425.000.000  \n",
              "8458  $ 171.171.000  \n",
              "6153  $ 149.000.000  \n",
              "888   $ 320.000.000  \n",
              "\n",
              "[100 rows x 8 columns]"
            ],
            "text/html": [
              "\n",
              "  <div id=\"df-c7bd3238-917e-4cd1-b0be-8e88832baf9a\">\n",
              "    <div class=\"colab-df-container\">\n",
              "      <div>\n",
              "<style scoped>\n",
              "    .dataframe tbody tr th:only-of-type {\n",
              "        vertical-align: middle;\n",
              "    }\n",
              "\n",
              "    .dataframe tbody tr th {\n",
              "        vertical-align: top;\n",
              "    }\n",
              "\n",
              "    .dataframe thead th {\n",
              "        text-align: right;\n",
              "    }\n",
              "</style>\n",
              "<table border=\"1\" class=\"dataframe\">\n",
              "  <thead>\n",
              "    <tr style=\"text-align: right;\">\n",
              "      <th></th>\n",
              "      <th>Tipo</th>\n",
              "      <th>Descripcion</th>\n",
              "      <th>Habitaciones</th>\n",
              "      <th>Banos</th>\n",
              "      <th>Area</th>\n",
              "      <th>Barrio</th>\n",
              "      <th>UPZ</th>\n",
              "      <th>Valor</th>\n",
              "    </tr>\n",
              "  </thead>\n",
              "  <tbody>\n",
              "    <tr>\n",
              "      <th>7971</th>\n",
              "      <td>Apartamento</td>\n",
              "      <td>Apartamento en venta en Suba</td>\n",
              "      <td>3</td>\n",
              "      <td>2</td>\n",
              "      <td>119</td>\n",
              "      <td>Suba</td>\n",
              "      <td>Suba</td>\n",
              "      <td>$ 539.000.000</td>\n",
              "    </tr>\n",
              "    <tr>\n",
              "      <th>4723</th>\n",
              "      <td>Apartamento</td>\n",
              "      <td>Apartamento en venta en Villa Alsacia</td>\n",
              "      <td>3</td>\n",
              "      <td>3</td>\n",
              "      <td>70</td>\n",
              "      <td>Villa Alsacia</td>\n",
              "      <td>KENNEDY: Castilla + Bavaria</td>\n",
              "      <td>$ 340.000.000</td>\n",
              "    </tr>\n",
              "    <tr>\n",
              "      <th>350</th>\n",
              "      <td>Apartamento</td>\n",
              "      <td>Apartamento en venta en Engativa</td>\n",
              "      <td>3</td>\n",
              "      <td>3</td>\n",
              "      <td>95</td>\n",
              "      <td>Engativa</td>\n",
              "      <td>Engativá</td>\n",
              "      <td>$ 495.000.000</td>\n",
              "    </tr>\n",
              "    <tr>\n",
              "      <th>3981</th>\n",
              "      <td>Apartamento</td>\n",
              "      <td>Apartamento en venta en Cedritos</td>\n",
              "      <td>3</td>\n",
              "      <td>2</td>\n",
              "      <td>99</td>\n",
              "      <td>Cedritos</td>\n",
              "      <td>Usaquén</td>\n",
              "      <td>$ 490.000.000</td>\n",
              "    </tr>\n",
              "    <tr>\n",
              "      <th>3071</th>\n",
              "      <td>Casa</td>\n",
              "      <td>Casa en venta en Bosa Porvenir</td>\n",
              "      <td>2</td>\n",
              "      <td>2</td>\n",
              "      <td>42</td>\n",
              "      <td>Bosa Porvenir</td>\n",
              "      <td>Bosa Occidental</td>\n",
              "      <td>$ 133.000.000</td>\n",
              "    </tr>\n",
              "    <tr>\n",
              "      <th>...</th>\n",
              "      <td>...</td>\n",
              "      <td>...</td>\n",
              "      <td>...</td>\n",
              "      <td>...</td>\n",
              "      <td>...</td>\n",
              "      <td>...</td>\n",
              "      <td>...</td>\n",
              "      <td>...</td>\n",
              "    </tr>\n",
              "    <tr>\n",
              "      <th>7791</th>\n",
              "      <td>Casa</td>\n",
              "      <td>Casa en venta en Barrios Unidos</td>\n",
              "      <td>4</td>\n",
              "      <td>2</td>\n",
              "      <td>210</td>\n",
              "      <td>Barrios Unidos</td>\n",
              "      <td>Los Andes</td>\n",
              "      <td>$ 610.000.000</td>\n",
              "    </tr>\n",
              "    <tr>\n",
              "      <th>8710</th>\n",
              "      <td>Apartamento</td>\n",
              "      <td>Apartamento en venta en Santa Barbara</td>\n",
              "      <td>1</td>\n",
              "      <td>2</td>\n",
              "      <td>69</td>\n",
              "      <td>Santa Barbara</td>\n",
              "      <td>USAQUÉN: Country Club + Santa Bárbara</td>\n",
              "      <td>$ 425.000.000</td>\n",
              "    </tr>\n",
              "    <tr>\n",
              "      <th>8458</th>\n",
              "      <td>Apartamento</td>\n",
              "      <td>Apartamento en venta en Usaquén</td>\n",
              "      <td>3</td>\n",
              "      <td>1</td>\n",
              "      <td>49</td>\n",
              "      <td>Usaquén</td>\n",
              "      <td>Usaquén</td>\n",
              "      <td>$ 171.171.000</td>\n",
              "    </tr>\n",
              "    <tr>\n",
              "      <th>6153</th>\n",
              "      <td>Apartamento</td>\n",
              "      <td>Apartamento en venta en Kennedy</td>\n",
              "      <td>3</td>\n",
              "      <td>1</td>\n",
              "      <td>49</td>\n",
              "      <td>Kennedy</td>\n",
              "      <td>Kennedy Central</td>\n",
              "      <td>$ 149.000.000</td>\n",
              "    </tr>\n",
              "    <tr>\n",
              "      <th>888</th>\n",
              "      <td>Apartamento</td>\n",
              "      <td>Apartamento en venta en Engativa</td>\n",
              "      <td>3</td>\n",
              "      <td>2</td>\n",
              "      <td>67</td>\n",
              "      <td>Engativa</td>\n",
              "      <td>Engativá</td>\n",
              "      <td>$ 320.000.000</td>\n",
              "    </tr>\n",
              "  </tbody>\n",
              "</table>\n",
              "<p>100 rows × 8 columns</p>\n",
              "</div>\n",
              "      <button class=\"colab-df-convert\" onclick=\"convertToInteractive('df-c7bd3238-917e-4cd1-b0be-8e88832baf9a')\"\n",
              "              title=\"Convert this dataframe to an interactive table.\"\n",
              "              style=\"display:none;\">\n",
              "        \n",
              "  <svg xmlns=\"http://www.w3.org/2000/svg\" height=\"24px\"viewBox=\"0 0 24 24\"\n",
              "       width=\"24px\">\n",
              "    <path d=\"M0 0h24v24H0V0z\" fill=\"none\"/>\n",
              "    <path d=\"M18.56 5.44l.94 2.06.94-2.06 2.06-.94-2.06-.94-.94-2.06-.94 2.06-2.06.94zm-11 1L8.5 8.5l.94-2.06 2.06-.94-2.06-.94L8.5 2.5l-.94 2.06-2.06.94zm10 10l.94 2.06.94-2.06 2.06-.94-2.06-.94-.94-2.06-.94 2.06-2.06.94z\"/><path d=\"M17.41 7.96l-1.37-1.37c-.4-.4-.92-.59-1.43-.59-.52 0-1.04.2-1.43.59L10.3 9.45l-7.72 7.72c-.78.78-.78 2.05 0 2.83L4 21.41c.39.39.9.59 1.41.59.51 0 1.02-.2 1.41-.59l7.78-7.78 2.81-2.81c.8-.78.8-2.07 0-2.86zM5.41 20L4 18.59l7.72-7.72 1.47 1.35L5.41 20z\"/>\n",
              "  </svg>\n",
              "      </button>\n",
              "      \n",
              "  <style>\n",
              "    .colab-df-container {\n",
              "      display:flex;\n",
              "      flex-wrap:wrap;\n",
              "      gap: 12px;\n",
              "    }\n",
              "\n",
              "    .colab-df-convert {\n",
              "      background-color: #E8F0FE;\n",
              "      border: none;\n",
              "      border-radius: 50%;\n",
              "      cursor: pointer;\n",
              "      display: none;\n",
              "      fill: #1967D2;\n",
              "      height: 32px;\n",
              "      padding: 0 0 0 0;\n",
              "      width: 32px;\n",
              "    }\n",
              "\n",
              "    .colab-df-convert:hover {\n",
              "      background-color: #E2EBFA;\n",
              "      box-shadow: 0px 1px 2px rgba(60, 64, 67, 0.3), 0px 1px 3px 1px rgba(60, 64, 67, 0.15);\n",
              "      fill: #174EA6;\n",
              "    }\n",
              "\n",
              "    [theme=dark] .colab-df-convert {\n",
              "      background-color: #3B4455;\n",
              "      fill: #D2E3FC;\n",
              "    }\n",
              "\n",
              "    [theme=dark] .colab-df-convert:hover {\n",
              "      background-color: #434B5C;\n",
              "      box-shadow: 0px 1px 3px 1px rgba(0, 0, 0, 0.15);\n",
              "      filter: drop-shadow(0px 1px 2px rgba(0, 0, 0, 0.3));\n",
              "      fill: #FFFFFF;\n",
              "    }\n",
              "  </style>\n",
              "\n",
              "      <script>\n",
              "        const buttonEl =\n",
              "          document.querySelector('#df-c7bd3238-917e-4cd1-b0be-8e88832baf9a button.colab-df-convert');\n",
              "        buttonEl.style.display =\n",
              "          google.colab.kernel.accessAllowed ? 'block' : 'none';\n",
              "\n",
              "        async function convertToInteractive(key) {\n",
              "          const element = document.querySelector('#df-c7bd3238-917e-4cd1-b0be-8e88832baf9a');\n",
              "          const dataTable =\n",
              "            await google.colab.kernel.invokeFunction('convertToInteractive',\n",
              "                                                     [key], {});\n",
              "          if (!dataTable) return;\n",
              "\n",
              "          const docLinkHtml = 'Like what you see? Visit the ' +\n",
              "            '<a target=\"_blank\" href=https://colab.research.google.com/notebooks/data_table.ipynb>data table notebook</a>'\n",
              "            + ' to learn more about interactive tables.';\n",
              "          element.innerHTML = '';\n",
              "          dataTable['output_type'] = 'display_data';\n",
              "          await google.colab.output.renderOutput(dataTable, element);\n",
              "          const docLink = document.createElement('div');\n",
              "          docLink.innerHTML = docLinkHtml;\n",
              "          element.appendChild(docLink);\n",
              "        }\n",
              "      </script>\n",
              "    </div>\n",
              "  </div>\n",
              "  "
            ]
          },
          "metadata": {},
          "execution_count": 13
        }
      ]
    },
    {
      "cell_type": "code",
      "source": [
        "(inmuebles.Barrio == 'Chico Reservado')"
      ],
      "metadata": {
        "colab": {
          "base_uri": "https://localhost:8080/"
        },
        "id": "YY-zAytFuBsA",
        "outputId": "32d9fc79-2fc1-48dd-9b9a-70587f9b4705"
      },
      "execution_count": 14,
      "outputs": [
        {
          "output_type": "execute_result",
          "data": {
            "text/plain": [
              "0       False\n",
              "1       False\n",
              "2        True\n",
              "3       False\n",
              "4       False\n",
              "        ...  \n",
              "9515    False\n",
              "9516    False\n",
              "9517    False\n",
              "9518    False\n",
              "9519    False\n",
              "Name: Barrio, Length: 9520, dtype: bool"
            ]
          },
          "metadata": {},
          "execution_count": 14
        }
      ]
    },
    {
      "cell_type": "code",
      "source": [
        "sum((inmuebles.Barrio == 'Chico Reservado'))"
      ],
      "metadata": {
        "colab": {
          "base_uri": "https://localhost:8080/"
        },
        "id": "3OJg8M1TuwcZ",
        "outputId": "7c1ba622-74c9-4415-ee3f-2fda2e3d1d16"
      },
      "execution_count": 15,
      "outputs": [
        {
          "output_type": "execute_result",
          "data": {
            "text/plain": [
              "225"
            ]
          },
          "metadata": {},
          "execution_count": 15
        }
      ]
    },
    {
      "cell_type": "code",
      "source": [
        "inmuebles_chico = (inmuebles.Barrio == 'Chico Reservado')\n",
        "type(inmuebles_chico)"
      ],
      "metadata": {
        "colab": {
          "base_uri": "https://localhost:8080/"
        },
        "id": "HtT_ZLvGu_CP",
        "outputId": "4c3530d3-3d52-4470-a94a-88cbeaa97e03"
      },
      "execution_count": 16,
      "outputs": [
        {
          "output_type": "execute_result",
          "data": {
            "text/plain": [
              "pandas.core.series.Series"
            ]
          },
          "metadata": {},
          "execution_count": 16
        }
      ]
    },
    {
      "cell_type": "code",
      "source": [
        "chico_reservado = inmuebles[inmuebles_chico]\n",
        "chico_reservado"
      ],
      "metadata": {
        "colab": {
          "base_uri": "https://localhost:8080/",
          "height": 815
        },
        "id": "mQJesAi_vLbs",
        "outputId": "abe91663-9d76-4162-9028-50e03a05ea0c"
      },
      "execution_count": 17,
      "outputs": [
        {
          "output_type": "execute_result",
          "data": {
            "text/plain": [
              "             Tipo                              Descripcion  Habitaciones  \\\n",
              "2     Apartamento  Apartamento en venta en Chico Reservado             3   \n",
              "39    Apartamento  Apartamento en venta en Chico Reservado             1   \n",
              "72    Apartamento  Apartamento en venta en Chico Reservado             1   \n",
              "126   Apartamento  Apartamento en venta en Chico Reservado             3   \n",
              "143   Apartamento  Apartamento en venta en Chico Reservado             2   \n",
              "...           ...                                      ...           ...   \n",
              "9299  Apartamento  Apartamento en venta en Chico Reservado             3   \n",
              "9335  Apartamento  Apartamento en venta en Chico Reservado             3   \n",
              "9341  Apartamento  Apartamento en venta en Chico Reservado             2   \n",
              "9472  Apartamento  Apartamento en venta en Chico Reservado             3   \n",
              "9506  Apartamento  Apartamento en venta en Chico Reservado             3   \n",
              "\n",
              "      Banos  Area           Barrio                                 UPZ  \\\n",
              "2         3   144  Chico Reservado  CHAPINERO: Chicó Lago + El Refugio   \n",
              "39        1    64  Chico Reservado  CHAPINERO: Chicó Lago + El Refugio   \n",
              "72        1    64  Chico Reservado  CHAPINERO: Chicó Lago + El Refugio   \n",
              "126       4   150  Chico Reservado  CHAPINERO: Chicó Lago + El Refugio   \n",
              "143       4   104  Chico Reservado  CHAPINERO: Chicó Lago + El Refugio   \n",
              "...     ...   ...              ...                                 ...   \n",
              "9299      3   148  Chico Reservado  CHAPINERO: Chicó Lago + El Refugio   \n",
              "9335      3   176  Chico Reservado  CHAPINERO: Chicó Lago + El Refugio   \n",
              "9341      3   118  Chico Reservado  CHAPINERO: Chicó Lago + El Refugio   \n",
              "9472      1    49  Chico Reservado  CHAPINERO: Chicó Lago + El Refugio   \n",
              "9506      4   390  Chico Reservado  CHAPINERO: Chicó Lago + El Refugio   \n",
              "\n",
              "                Valor  \n",
              "2     $ 1.120.000.000  \n",
              "39      $ 495.000.000  \n",
              "72      $ 495.000.000  \n",
              "126   $ 1.300.000.000  \n",
              "143   $ 1.100.000.000  \n",
              "...               ...  \n",
              "9299    $ 780.000.000  \n",
              "9335    $ 850.000.000  \n",
              "9341    $ 700.000.000  \n",
              "9472    $ 200.000.000  \n",
              "9506  $ 3.200.000.000  \n",
              "\n",
              "[225 rows x 8 columns]"
            ],
            "text/html": [
              "\n",
              "  <div id=\"df-fb001181-0106-45bd-acff-8dcd0f4fb0d9\">\n",
              "    <div class=\"colab-df-container\">\n",
              "      <div>\n",
              "<style scoped>\n",
              "    .dataframe tbody tr th:only-of-type {\n",
              "        vertical-align: middle;\n",
              "    }\n",
              "\n",
              "    .dataframe tbody tr th {\n",
              "        vertical-align: top;\n",
              "    }\n",
              "\n",
              "    .dataframe thead th {\n",
              "        text-align: right;\n",
              "    }\n",
              "</style>\n",
              "<table border=\"1\" class=\"dataframe\">\n",
              "  <thead>\n",
              "    <tr style=\"text-align: right;\">\n",
              "      <th></th>\n",
              "      <th>Tipo</th>\n",
              "      <th>Descripcion</th>\n",
              "      <th>Habitaciones</th>\n",
              "      <th>Banos</th>\n",
              "      <th>Area</th>\n",
              "      <th>Barrio</th>\n",
              "      <th>UPZ</th>\n",
              "      <th>Valor</th>\n",
              "    </tr>\n",
              "  </thead>\n",
              "  <tbody>\n",
              "    <tr>\n",
              "      <th>2</th>\n",
              "      <td>Apartamento</td>\n",
              "      <td>Apartamento en venta en Chico Reservado</td>\n",
              "      <td>3</td>\n",
              "      <td>3</td>\n",
              "      <td>144</td>\n",
              "      <td>Chico Reservado</td>\n",
              "      <td>CHAPINERO: Chicó Lago + El Refugio</td>\n",
              "      <td>$ 1.120.000.000</td>\n",
              "    </tr>\n",
              "    <tr>\n",
              "      <th>39</th>\n",
              "      <td>Apartamento</td>\n",
              "      <td>Apartamento en venta en Chico Reservado</td>\n",
              "      <td>1</td>\n",
              "      <td>1</td>\n",
              "      <td>64</td>\n",
              "      <td>Chico Reservado</td>\n",
              "      <td>CHAPINERO: Chicó Lago + El Refugio</td>\n",
              "      <td>$ 495.000.000</td>\n",
              "    </tr>\n",
              "    <tr>\n",
              "      <th>72</th>\n",
              "      <td>Apartamento</td>\n",
              "      <td>Apartamento en venta en Chico Reservado</td>\n",
              "      <td>1</td>\n",
              "      <td>1</td>\n",
              "      <td>64</td>\n",
              "      <td>Chico Reservado</td>\n",
              "      <td>CHAPINERO: Chicó Lago + El Refugio</td>\n",
              "      <td>$ 495.000.000</td>\n",
              "    </tr>\n",
              "    <tr>\n",
              "      <th>126</th>\n",
              "      <td>Apartamento</td>\n",
              "      <td>Apartamento en venta en Chico Reservado</td>\n",
              "      <td>3</td>\n",
              "      <td>4</td>\n",
              "      <td>150</td>\n",
              "      <td>Chico Reservado</td>\n",
              "      <td>CHAPINERO: Chicó Lago + El Refugio</td>\n",
              "      <td>$ 1.300.000.000</td>\n",
              "    </tr>\n",
              "    <tr>\n",
              "      <th>143</th>\n",
              "      <td>Apartamento</td>\n",
              "      <td>Apartamento en venta en Chico Reservado</td>\n",
              "      <td>2</td>\n",
              "      <td>4</td>\n",
              "      <td>104</td>\n",
              "      <td>Chico Reservado</td>\n",
              "      <td>CHAPINERO: Chicó Lago + El Refugio</td>\n",
              "      <td>$ 1.100.000.000</td>\n",
              "    </tr>\n",
              "    <tr>\n",
              "      <th>...</th>\n",
              "      <td>...</td>\n",
              "      <td>...</td>\n",
              "      <td>...</td>\n",
              "      <td>...</td>\n",
              "      <td>...</td>\n",
              "      <td>...</td>\n",
              "      <td>...</td>\n",
              "      <td>...</td>\n",
              "    </tr>\n",
              "    <tr>\n",
              "      <th>9299</th>\n",
              "      <td>Apartamento</td>\n",
              "      <td>Apartamento en venta en Chico Reservado</td>\n",
              "      <td>3</td>\n",
              "      <td>3</td>\n",
              "      <td>148</td>\n",
              "      <td>Chico Reservado</td>\n",
              "      <td>CHAPINERO: Chicó Lago + El Refugio</td>\n",
              "      <td>$ 780.000.000</td>\n",
              "    </tr>\n",
              "    <tr>\n",
              "      <th>9335</th>\n",
              "      <td>Apartamento</td>\n",
              "      <td>Apartamento en venta en Chico Reservado</td>\n",
              "      <td>3</td>\n",
              "      <td>3</td>\n",
              "      <td>176</td>\n",
              "      <td>Chico Reservado</td>\n",
              "      <td>CHAPINERO: Chicó Lago + El Refugio</td>\n",
              "      <td>$ 850.000.000</td>\n",
              "    </tr>\n",
              "    <tr>\n",
              "      <th>9341</th>\n",
              "      <td>Apartamento</td>\n",
              "      <td>Apartamento en venta en Chico Reservado</td>\n",
              "      <td>2</td>\n",
              "      <td>3</td>\n",
              "      <td>118</td>\n",
              "      <td>Chico Reservado</td>\n",
              "      <td>CHAPINERO: Chicó Lago + El Refugio</td>\n",
              "      <td>$ 700.000.000</td>\n",
              "    </tr>\n",
              "    <tr>\n",
              "      <th>9472</th>\n",
              "      <td>Apartamento</td>\n",
              "      <td>Apartamento en venta en Chico Reservado</td>\n",
              "      <td>3</td>\n",
              "      <td>1</td>\n",
              "      <td>49</td>\n",
              "      <td>Chico Reservado</td>\n",
              "      <td>CHAPINERO: Chicó Lago + El Refugio</td>\n",
              "      <td>$ 200.000.000</td>\n",
              "    </tr>\n",
              "    <tr>\n",
              "      <th>9506</th>\n",
              "      <td>Apartamento</td>\n",
              "      <td>Apartamento en venta en Chico Reservado</td>\n",
              "      <td>3</td>\n",
              "      <td>4</td>\n",
              "      <td>390</td>\n",
              "      <td>Chico Reservado</td>\n",
              "      <td>CHAPINERO: Chicó Lago + El Refugio</td>\n",
              "      <td>$ 3.200.000.000</td>\n",
              "    </tr>\n",
              "  </tbody>\n",
              "</table>\n",
              "<p>225 rows × 8 columns</p>\n",
              "</div>\n",
              "      <button class=\"colab-df-convert\" onclick=\"convertToInteractive('df-fb001181-0106-45bd-acff-8dcd0f4fb0d9')\"\n",
              "              title=\"Convert this dataframe to an interactive table.\"\n",
              "              style=\"display:none;\">\n",
              "        \n",
              "  <svg xmlns=\"http://www.w3.org/2000/svg\" height=\"24px\"viewBox=\"0 0 24 24\"\n",
              "       width=\"24px\">\n",
              "    <path d=\"M0 0h24v24H0V0z\" fill=\"none\"/>\n",
              "    <path d=\"M18.56 5.44l.94 2.06.94-2.06 2.06-.94-2.06-.94-.94-2.06-.94 2.06-2.06.94zm-11 1L8.5 8.5l.94-2.06 2.06-.94-2.06-.94L8.5 2.5l-.94 2.06-2.06.94zm10 10l.94 2.06.94-2.06 2.06-.94-2.06-.94-.94-2.06-.94 2.06-2.06.94z\"/><path d=\"M17.41 7.96l-1.37-1.37c-.4-.4-.92-.59-1.43-.59-.52 0-1.04.2-1.43.59L10.3 9.45l-7.72 7.72c-.78.78-.78 2.05 0 2.83L4 21.41c.39.39.9.59 1.41.59.51 0 1.02-.2 1.41-.59l7.78-7.78 2.81-2.81c.8-.78.8-2.07 0-2.86zM5.41 20L4 18.59l7.72-7.72 1.47 1.35L5.41 20z\"/>\n",
              "  </svg>\n",
              "      </button>\n",
              "      \n",
              "  <style>\n",
              "    .colab-df-container {\n",
              "      display:flex;\n",
              "      flex-wrap:wrap;\n",
              "      gap: 12px;\n",
              "    }\n",
              "\n",
              "    .colab-df-convert {\n",
              "      background-color: #E8F0FE;\n",
              "      border: none;\n",
              "      border-radius: 50%;\n",
              "      cursor: pointer;\n",
              "      display: none;\n",
              "      fill: #1967D2;\n",
              "      height: 32px;\n",
              "      padding: 0 0 0 0;\n",
              "      width: 32px;\n",
              "    }\n",
              "\n",
              "    .colab-df-convert:hover {\n",
              "      background-color: #E2EBFA;\n",
              "      box-shadow: 0px 1px 2px rgba(60, 64, 67, 0.3), 0px 1px 3px 1px rgba(60, 64, 67, 0.15);\n",
              "      fill: #174EA6;\n",
              "    }\n",
              "\n",
              "    [theme=dark] .colab-df-convert {\n",
              "      background-color: #3B4455;\n",
              "      fill: #D2E3FC;\n",
              "    }\n",
              "\n",
              "    [theme=dark] .colab-df-convert:hover {\n",
              "      background-color: #434B5C;\n",
              "      box-shadow: 0px 1px 3px 1px rgba(0, 0, 0, 0.15);\n",
              "      filter: drop-shadow(0px 1px 2px rgba(0, 0, 0, 0.3));\n",
              "      fill: #FFFFFF;\n",
              "    }\n",
              "  </style>\n",
              "\n",
              "      <script>\n",
              "        const buttonEl =\n",
              "          document.querySelector('#df-fb001181-0106-45bd-acff-8dcd0f4fb0d9 button.colab-df-convert');\n",
              "        buttonEl.style.display =\n",
              "          google.colab.kernel.accessAllowed ? 'block' : 'none';\n",
              "\n",
              "        async function convertToInteractive(key) {\n",
              "          const element = document.querySelector('#df-fb001181-0106-45bd-acff-8dcd0f4fb0d9');\n",
              "          const dataTable =\n",
              "            await google.colab.kernel.invokeFunction('convertToInteractive',\n",
              "                                                     [key], {});\n",
              "          if (!dataTable) return;\n",
              "\n",
              "          const docLinkHtml = 'Like what you see? Visit the ' +\n",
              "            '<a target=\"_blank\" href=https://colab.research.google.com/notebooks/data_table.ipynb>data table notebook</a>'\n",
              "            + ' to learn more about interactive tables.';\n",
              "          element.innerHTML = '';\n",
              "          dataTable['output_type'] = 'display_data';\n",
              "          await google.colab.output.renderOutput(dataTable, element);\n",
              "          const docLink = document.createElement('div');\n",
              "          docLink.innerHTML = docLinkHtml;\n",
              "          element.appendChild(docLink);\n",
              "        }\n",
              "      </script>\n",
              "    </div>\n",
              "  </div>\n",
              "  "
            ]
          },
          "metadata": {},
          "execution_count": 17
        }
      ]
    },
    {
      "cell_type": "code",
      "source": [
        "chico_reservado.Area.mean()"
      ],
      "metadata": {
        "colab": {
          "base_uri": "https://localhost:8080/"
        },
        "id": "j3IYReywvf26",
        "outputId": "f1b6768c-b819-4729-fcde-a0db18295ca4"
      },
      "execution_count": 18,
      "outputs": [
        {
          "output_type": "execute_result",
          "data": {
            "text/plain": [
              "142.78666666666666"
            ]
          },
          "metadata": {},
          "execution_count": 18
        }
      ]
    },
    {
      "cell_type": "code",
      "source": [
        "inmuebles.Area.mean()"
      ],
      "metadata": {
        "colab": {
          "base_uri": "https://localhost:8080/"
        },
        "id": "P7V5_WzXxCDl",
        "outputId": "85db5440-526e-4504-df55-74d1cecc181d"
      },
      "execution_count": 19,
      "outputs": [
        {
          "output_type": "execute_result",
          "data": {
            "text/plain": [
              "146.66470588235293"
            ]
          },
          "metadata": {},
          "execution_count": 19
        }
      ]
    },
    {
      "cell_type": "code",
      "source": [
        "len(inmuebles.Barrio.value_counts())"
      ],
      "metadata": {
        "colab": {
          "base_uri": "https://localhost:8080/"
        },
        "id": "54SeSdSFxZ9v",
        "outputId": "c4d0144f-15e1-45f5-8ebc-b01a148e3ab8"
      },
      "execution_count": 20,
      "outputs": [
        {
          "output_type": "execute_result",
          "data": {
            "text/plain": [
              "149"
            ]
          },
          "metadata": {},
          "execution_count": 20
        }
      ]
    },
    {
      "cell_type": "code",
      "source": [
        "inmuebles.Barrio.value_counts()"
      ],
      "metadata": {
        "colab": {
          "base_uri": "https://localhost:8080/"
        },
        "id": "aJz7RkSBxpVf",
        "outputId": "b8530b47-7096-4d30-dd11-f9af59d855cf"
      },
      "execution_count": 21,
      "outputs": [
        {
          "output_type": "execute_result",
          "data": {
            "text/plain": [
              "Usaquén               1105\n",
              "Zona Noroccidental     877\n",
              "Bosa                   589\n",
              "Kennedy                589\n",
              "Cedritos               554\n",
              "                      ... \n",
              "Colinas De Suba          1\n",
              "La Estanzuela            1\n",
              "Roma                     1\n",
              "Alameda                  1\n",
              "Prado Veraniego          1\n",
              "Name: Barrio, Length: 149, dtype: int64"
            ]
          },
          "metadata": {},
          "execution_count": 21
        }
      ]
    },
    {
      "cell_type": "code",
      "source": [
        "len(inmuebles.UPZ.value_counts())"
      ],
      "metadata": {
        "colab": {
          "base_uri": "https://localhost:8080/"
        },
        "id": "eN0cDITxxtvH",
        "outputId": "51116850-724b-4b69-86b3-1a0ef6110edd"
      },
      "execution_count": 22,
      "outputs": [
        {
          "output_type": "execute_result",
          "data": {
            "text/plain": [
              "63"
            ]
          },
          "metadata": {},
          "execution_count": 22
        }
      ]
    },
    {
      "cell_type": "code",
      "source": [
        "inmuebles_barrio = inmuebles.Barrio.value_counts()\n",
        "inmuebles_barrio.plot.bar()"
      ],
      "metadata": {
        "colab": {
          "base_uri": "https://localhost:8080/",
          "height": 389
        },
        "id": "BcKfcc3nx9fg",
        "outputId": "d90ea95d-7a26-43b5-d95e-4895daa33045"
      },
      "execution_count": 23,
      "outputs": [
        {
          "output_type": "execute_result",
          "data": {
            "text/plain": [
              "<Axes: >"
            ]
          },
          "metadata": {},
          "execution_count": 23
        },
        {
          "output_type": "display_data",
          "data": {
            "text/plain": [
              "<Figure size 432x288 with 1 Axes>"
            ],
            "image/png": "[encoded data removed]"
          },
          "metadata": {
            "needs_background": "light"
          }
        }
      ]
    },
    {
      "cell_type": "code",
      "source": [
        "inmuebles_barrio.head(10).plot.bar()"
      ],
      "metadata": {
        "colab": {
          "base_uri": "https://localhost:8080/",
          "height": 371
        },
        "id": "EXzn-YDLybRx",
        "outputId": "19913127-3e5d-49fc-b1c8-c3f9cc92422d"
      },
      "execution_count": 24,
      "outputs": [
        {
          "output_type": "execute_result",
          "data": {
            "text/plain": [
              "<Axes: >"
            ]
          },
          "metadata": {},
          "execution_count": 24
        },
        {
          "output_type": "display_data",
          "data": {
            "text/plain": [
              "<Figure size 432x288 with 1 Axes>"
            ],
            "image/png": "[encoded data removed]"
          },
          "metadata": {
            "needs_background": "light"
          }
        }
      ]
    },
    {
      "cell_type": "markdown",
      "source": [
        "**Desafío**\n",
        "\n",
        "\n",
        "1. Promedio de área de todos los inmuebles en los barrios en el dataset. El top 10.\n",
        "\n",
        "2. Consultar otros datos estadísticos, conteo, mediana, valores mínimo y máximo."
      ],
      "metadata": {
        "id": "owP_SeWgzaYR"
      }
    },
    {
      "cell_type": "markdown",
      "source": [
        "#**Aula 2**"
      ],
      "metadata": {
        "id": "YFNuHdUZJJtL"
      }
    },
    {
      "cell_type": "code",
      "source": [
        "inmuebles.sample(5) # Tomo una muestra de 5 de los inmuebles"
      ],
      "metadata": {
        "colab": {
          "base_uri": "https://localhost:8080/",
          "height": 389
        },
        "id": "HuNvVUa2ypG4",
        "outputId": "1c00ee26-8606-4bba-be84-9e59a00a768b"
      },
      "execution_count": 25,
      "outputs": [
        {
          "output_type": "execute_result",
          "data": {
            "text/plain": [
              "             Tipo                                 Descripcion  Habitaciones  \\\n",
              "5911  Apartamento            Apartamento en venta en Engativa             3   \n",
              "7751  Apartamento            Apartamento en venta en Engativa             1   \n",
              "9223  Apartamento         Apartamento en venta en Teusaquillo             3   \n",
              "2372         Casa              Casa en venta en Santa Barbara             3   \n",
              "2958  Apartamento  Apartamento en venta en Zona Noroccidental             3   \n",
              "\n",
              "      Banos  Area              Barrio                                    UPZ  \\\n",
              "5911      3   128            Engativa                               Engativá   \n",
              "7751      1    29            Engativa                               Engativá   \n",
              "9223      3   134         Teusaquillo                            Teusaquillo   \n",
              "2372      4   200       Santa Barbara  USAQUÉN: Country Club + Santa Bárbara   \n",
              "2958      2    66  Zona Noroccidental     CHAPINERO: Pardo Rubio + Chapinero   \n",
              "\n",
              "              Valor  \n",
              "5911  $ 890.000.000  \n",
              "7751  $ 155.000.000  \n",
              "9223  $ 780.000.000  \n",
              "2372  $ 800.000.000  \n",
              "2958  $ 285.000.000  "
            ],
            "text/html": [
              "\n",
              "  <div id=\"df-9fc638ba-9b98-4e45-aac6-55c822cdb2b1\">\n",
              "    <div class=\"colab-df-container\">\n",
              "      <div>\n",
              "<style scoped>\n",
              "    .dataframe tbody tr th:only-of-type {\n",
              "        vertical-align: middle;\n",
              "    }\n",
              "\n",
              "    .dataframe tbody tr th {\n",
              "        vertical-align: top;\n",
              "    }\n",
              "\n",
              "    .dataframe thead th {\n",
              "        text-align: right;\n",
              "    }\n",
              "</style>\n",
              "<table border=\"1\" class=\"dataframe\">\n",
              "  <thead>\n",
              "    <tr style=\"text-align: right;\">\n",
              "      <th></th>\n",
              "      <th>Tipo</th>\n",
              "      <th>Descripcion</th>\n",
              "      <th>Habitaciones</th>\n",
              "      <th>Banos</th>\n",
              "      <th>Area</th>\n",
              "      <th>Barrio</th>\n",
              "      <th>UPZ</th>\n",
              "      <th>Valor</th>\n",
              "    </tr>\n",
              "  </thead>\n",
              "  <tbody>\n",
              "    <tr>\n",
              "      <th>5911</th>\n",
              "      <td>Apartamento</td>\n",
              "      <td>Apartamento en venta en Engativa</td>\n",
              "      <td>3</td>\n",
              "      <td>3</td>\n",
              "      <td>128</td>\n",
              "      <td>Engativa</td>\n",
              "      <td>Engativá</td>\n",
              "      <td>$ 890.000.000</td>\n",
              "    </tr>\n",
              "    <tr>\n",
              "      <th>7751</th>\n",
              "      <td>Apartamento</td>\n",
              "      <td>Apartamento en venta en Engativa</td>\n",
              "      <td>1</td>\n",
              "      <td>1</td>\n",
              "      <td>29</td>\n",
              "      <td>Engativa</td>\n",
              "      <td>Engativá</td>\n",
              "      <td>$ 155.000.000</td>\n",
              "    </tr>\n",
              "    <tr>\n",
              "      <th>9223</th>\n",
              "      <td>Apartamento</td>\n",
              "      <td>Apartamento en venta en Teusaquillo</td>\n",
              "      <td>3</td>\n",
              "      <td>3</td>\n",
              "      <td>134</td>\n",
              "      <td>Teusaquillo</td>\n",
              "      <td>Teusaquillo</td>\n",
              "      <td>$ 780.000.000</td>\n",
              "    </tr>\n",
              "    <tr>\n",
              "      <th>2372</th>\n",
              "      <td>Casa</td>\n",
              "      <td>Casa en venta en Santa Barbara</td>\n",
              "      <td>3</td>\n",
              "      <td>4</td>\n",
              "      <td>200</td>\n",
              "      <td>Santa Barbara</td>\n",
              "      <td>USAQUÉN: Country Club + Santa Bárbara</td>\n",
              "      <td>$ 800.000.000</td>\n",
              "    </tr>\n",
              "    <tr>\n",
              "      <th>2958</th>\n",
              "      <td>Apartamento</td>\n",
              "      <td>Apartamento en venta en Zona Noroccidental</td>\n",
              "      <td>3</td>\n",
              "      <td>2</td>\n",
              "      <td>66</td>\n",
              "      <td>Zona Noroccidental</td>\n",
              "      <td>CHAPINERO: Pardo Rubio + Chapinero</td>\n",
              "      <td>$ 285.000.000</td>\n",
              "    </tr>\n",
              "  </tbody>\n",
              "</table>\n",
              "</div>\n",
              "      <button class=\"colab-df-convert\" onclick=\"convertToInteractive('df-9fc638ba-9b98-4e45-aac6-55c822cdb2b1')\"\n",
              "              title=\"Convert this dataframe to an interactive table.\"\n",
              "              style=\"display:none;\">\n",
              "        \n",
              "  <svg xmlns=\"http://www.w3.org/2000/svg\" height=\"24px\"viewBox=\"0 0 24 24\"\n",
              "       width=\"24px\">\n",
              "    <path d=\"M0 0h24v24H0V0z\" fill=\"none\"/>\n",
              "    <path d=\"M18.56 5.44l.94 2.06.94-2.06 2.06-.94-2.06-.94-.94-2.06-.94 2.06-2.06.94zm-11 1L8.5 8.5l.94-2.06 2.06-.94-2.06-.94L8.5 2.5l-.94 2.06-2.06.94zm10 10l.94 2.06.94-2.06 2.06-.94-2.06-.94-.94-2.06-.94 2.06-2.06.94z\"/><path d=\"M17.41 7.96l-1.37-1.37c-.4-.4-.92-.59-1.43-.59-.52 0-1.04.2-1.43.59L10.3 9.45l-7.72 7.72c-.78.78-.78 2.05 0 2.83L4 21.41c.39.39.9.59 1.41.59.51 0 1.02-.2 1.41-.59l7.78-7.78 2.81-2.81c.8-.78.8-2.07 0-2.86zM5.41 20L4 18.59l7.72-7.72 1.47 1.35L5.41 20z\"/>\n",
              "  </svg>\n",
              "      </button>\n",
              "      \n",
              "  <style>\n",
              "    .colab-df-container {\n",
              "      display:flex;\n",
              "      flex-wrap:wrap;\n",
              "      gap: 12px;\n",
              "    }\n",
              "\n",
              "    .colab-df-convert {\n",
              "      background-color: #E8F0FE;\n",
              "      border: none;\n",
              "      border-radius: 50%;\n",
              "      cursor: pointer;\n",
              "      display: none;\n",
              "      fill: #1967D2;\n",
              "      height: 32px;\n",
              "      padding: 0 0 0 0;\n",
              "      width: 32px;\n",
              "    }\n",
              "\n",
              "    .colab-df-convert:hover {\n",
              "      background-color: #E2EBFA;\n",
              "      box-shadow: 0px 1px 2px rgba(60, 64, 67, 0.3), 0px 1px 3px 1px rgba(60, 64, 67, 0.15);\n",
              "      fill: #174EA6;\n",
              "    }\n",
              "\n",
              "    [theme=dark] .colab-df-convert {\n",
              "      background-color: #3B4455;\n",
              "      fill: #D2E3FC;\n",
              "    }\n",
              "\n",
              "    [theme=dark] .colab-df-convert:hover {\n",
              "      background-color: #434B5C;\n",
              "      box-shadow: 0px 1px 3px 1px rgba(0, 0, 0, 0.15);\n",
              "      filter: drop-shadow(0px 1px 2px rgba(0, 0, 0, 0.3));\n",
              "      fill: #FFFFFF;\n",
              "    }\n",
              "  </style>\n",
              "\n",
              "      <script>\n",
              "        const buttonEl =\n",
              "          document.querySelector('#df-9fc638ba-9b98-4e45-aac6-55c822cdb2b1 button.colab-df-convert');\n",
              "        buttonEl.style.display =\n",
              "          google.colab.kernel.accessAllowed ? 'block' : 'none';\n",
              "\n",
              "        async function convertToInteractive(key) {\n",
              "          const element = document.querySelector('#df-9fc638ba-9b98-4e45-aac6-55c822cdb2b1');\n",
              "          const dataTable =\n",
              "            await google.colab.kernel.invokeFunction('convertToInteractive',\n",
              "                                                     [key], {});\n",
              "          if (!dataTable) return;\n",
              "\n",
              "          const docLinkHtml = 'Like what you see? Visit the ' +\n",
              "            '<a target=\"_blank\" href=https://colab.research.google.com/notebooks/data_table.ipynb>data table notebook</a>'\n",
              "            + ' to learn more about interactive tables.';\n",
              "          element.innerHTML = '';\n",
              "          dataTable['output_type'] = 'display_data';\n",
              "          await google.colab.output.renderOutput(dataTable, element);\n",
              "          const docLink = document.createElement('div');\n",
              "          docLink.innerHTML = docLinkHtml;\n",
              "          element.appendChild(docLink);\n",
              "        }\n",
              "      </script>\n",
              "    </div>\n",
              "  </div>\n",
              "  "
            ]
          },
          "metadata": {},
          "execution_count": 25
        }
      ]
    },
    {
      "cell_type": "code",
      "source": [
        "inmuebles.info() # Tipo de dato de las columnas"
      ],
      "metadata": {
        "colab": {
          "base_uri": "https://localhost:8080/"
        },
        "id": "jt_0FzVFz30-",
        "outputId": "d2b0ddc1-0011-4816-bf6a-8feb84795b22"
      },
      "execution_count": 26,
      "outputs": [
        {
          "output_type": "stream",
          "name": "stdout",
          "text": [
            "<class 'pandas.core.frame.DataFrame'>\n",
            "RangeIndex: 9520 entries, 0 to 9519\n",
            "Data columns (total 8 columns):\n",
            " #   Column        Non-Null Count  Dtype \n",
            "---  ------        --------------  ----- \n",
            " 0   Tipo          9520 non-null   object\n",
            " 1   Descripcion   9520 non-null   object\n",
            " 2   Habitaciones  9520 non-null   int64 \n",
            " 3   Banos         9520 non-null   int64 \n",
            " 4   Area          9520 non-null   int64 \n",
            " 5   Barrio        9520 non-null   object\n",
            " 6   UPZ           9478 non-null   object\n",
            " 7   Valor         9520 non-null   object\n",
            "dtypes: int64(3), object(5)\n",
            "memory usage: 595.1+ KB\n"
          ]
        }
      ]
    },
    {
      "cell_type": "code",
      "source": [
        "type(inmuebles.Valor[0]) #Tipo de dato del indice 0 de la columna valor"
      ],
      "metadata": {
        "colab": {
          "base_uri": "https://localhost:8080/"
        },
        "id": "nz5JDL5LLh5A",
        "outputId": "2384b94d-426c-4da4-9d1b-2e3a8c282f73"
      },
      "execution_count": 27,
      "outputs": [
        {
          "output_type": "execute_result",
          "data": {
            "text/plain": [
              "str"
            ]
          },
          "metadata": {},
          "execution_count": 27
        }
      ]
    },
    {
      "cell_type": "code",
      "source": [
        "inmuebles.Valor[0]+inmuebles.Valor[1]+inmuebles.Valor[:5] #Muestra la columna valor desde el indice 0 al 4."
      ],
      "metadata": {
        "colab": {
          "base_uri": "https://localhost:8080/"
        },
        "id": "fVgx7E33L9IJ",
        "outputId": "ee14c84a-4e5d-488f-940c-947189edc733"
      },
      "execution_count": 28,
      "outputs": [
        {
          "output_type": "execute_result",
          "data": {
            "text/plain": [
              "0      $ 360.000.000$ 670.000.000$ 360.000.000\n",
              "1      $ 360.000.000$ 670.000.000$ 670.000.000\n",
              "2    $ 360.000.000$ 670.000.000$ 1.120.000.000\n",
              "3      $ 360.000.000$ 670.000.000$ 890.000.000\n",
              "4      $ 360.000.000$ 670.000.000$ 970.000.000\n",
              "Name: Valor, dtype: object"
            ]
          },
          "metadata": {},
          "execution_count": 28
        }
      ]
    },
    {
      "cell_type": "code",
      "source": [
        "inmuebles.Valor[0].split()\n",
        "type(inmuebles.Valor[0].split())# COn split separo el símbolo y los números de la columna valor formando una lista "
      ],
      "metadata": {
        "colab": {
          "base_uri": "https://localhost:8080/"
        },
        "id": "RRDkYvkjMWtA",
        "outputId": "d30eb27d-5c6b-43fa-b5f1-b2a2afc802af"
      },
      "execution_count": 29,
      "outputs": [
        {
          "output_type": "execute_result",
          "data": {
            "text/plain": [
              "list"
            ]
          },
          "metadata": {},
          "execution_count": 29
        }
      ]
    },
    {
      "cell_type": "code",
      "source": [
        "# Al usar expand True devuelve el valor en formato de Dataframe y no Panda Series.\n",
        "# Es útil porque me permite generar nuevas columnas\n",
        "valor = inmuebles.Valor.str.split(expand=True)\n",
        "inmuebles['Moneda'] = valor[0]\n",
        "inmuebles['Precio'] = valor[1]\n",
        "inmuebles.sample(3)"
      ],
      "metadata": {
        "colab": {
          "base_uri": "https://localhost:8080/",
          "height": 433
        },
        "id": "JL4ilS3UMzlq",
        "outputId": "ec197aa4-b906-4429-d99c-f22576cdf617"
      },
      "execution_count": 30,
      "outputs": [
        {
          "output_type": "execute_result",
          "data": {
            "text/plain": [
              "             Tipo                            Descripcion  Habitaciones  Banos  \\\n",
              "5688  Apartamento  Apartamento en venta en Santa Barbara             3      3   \n",
              "7917         Casa         Casa en venta en Puente Aranda             7      4   \n",
              "1675  Apartamento  Apartamento en venta en Santa Barbara             1      2   \n",
              "\n",
              "      Area         Barrio                                             UPZ  \\\n",
              "5688   160  Santa Barbara           USAQUÉN: Country Club + Santa Bárbara   \n",
              "7917   265  Puente Aranda  PUENTE ARANDA: Zona Industrial + Puente Aranda   \n",
              "1675    51  Santa Barbara           USAQUÉN: Country Club + Santa Bárbara   \n",
              "\n",
              "              Valor Moneda       Precio  \n",
              "5688  $ 615.000.000      $  615.000.000  \n",
              "7917  $ 649.999.999      $  649.999.999  \n",
              "1675  $ 420.000.000      $  420.000.000  "
            ],
            "text/html": [
              "\n",
              "  <div id=\"df-d47dacd2-7322-4aac-bd16-d9c8833130dd\">\n",
              "    <div class=\"colab-df-container\">\n",
              "      <div>\n",
              "<style scoped>\n",
              "    .dataframe tbody tr th:only-of-type {\n",
              "        vertical-align: middle;\n",
              "    }\n",
              "\n",
              "    .dataframe tbody tr th {\n",
              "        vertical-align: top;\n",
              "    }\n",
              "\n",
              "    .dataframe thead th {\n",
              "        text-align: right;\n",
              "    }\n",
              "</style>\n",
              "<table border=\"1\" class=\"dataframe\">\n",
              "  <thead>\n",
              "    <tr style=\"text-align: right;\">\n",
              "      <th></th>\n",
              "      <th>Tipo</th>\n",
              "      <th>Descripcion</th>\n",
              "      <th>Habitaciones</th>\n",
              "      <th>Banos</th>\n",
              "      <th>Area</th>\n",
              "      <th>Barrio</th>\n",
              "      <th>UPZ</th>\n",
              "      <th>Valor</th>\n",
              "      <th>Moneda</th>\n",
              "      <th>Precio</th>\n",
              "    </tr>\n",
              "  </thead>\n",
              "  <tbody>\n",
              "    <tr>\n",
              "      <th>5688</th>\n",
              "      <td>Apartamento</td>\n",
              "      <td>Apartamento en venta en Santa Barbara</td>\n",
              "      <td>3</td>\n",
              "      <td>3</td>\n",
              "      <td>160</td>\n",
              "      <td>Santa Barbara</td>\n",
              "      <td>USAQUÉN: Country Club + Santa Bárbara</td>\n",
              "      <td>$ 615.000.000</td>\n",
              "      <td>$</td>\n",
              "      <td>615.000.000</td>\n",
              "    </tr>\n",
              "    <tr>\n",
              "      <th>7917</th>\n",
              "      <td>Casa</td>\n",
              "      <td>Casa en venta en Puente Aranda</td>\n",
              "      <td>7</td>\n",
              "      <td>4</td>\n",
              "      <td>265</td>\n",
              "      <td>Puente Aranda</td>\n",
              "      <td>PUENTE ARANDA: Zona Industrial + Puente Aranda</td>\n",
              "      <td>$ 649.999.999</td>\n",
              "      <td>$</td>\n",
              "      <td>649.999.999</td>\n",
              "    </tr>\n",
              "    <tr>\n",
              "      <th>1675</th>\n",
              "      <td>Apartamento</td>\n",
              "      <td>Apartamento en venta en Santa Barbara</td>\n",
              "      <td>1</td>\n",
              "      <td>2</td>\n",
              "      <td>51</td>\n",
              "      <td>Santa Barbara</td>\n",
              "      <td>USAQUÉN: Country Club + Santa Bárbara</td>\n",
              "      <td>$ 420.000.000</td>\n",
              "      <td>$</td>\n",
              "      <td>420.000.000</td>\n",
              "    </tr>\n",
              "  </tbody>\n",
              "</table>\n",
              "</div>\n",
              "      <button class=\"colab-df-convert\" onclick=\"convertToInteractive('df-d47dacd2-7322-4aac-bd16-d9c8833130dd')\"\n",
              "              title=\"Convert this dataframe to an interactive table.\"\n",
              "              style=\"display:none;\">\n",
              "        \n",
              "  <svg xmlns=\"http://www.w3.org/2000/svg\" height=\"24px\"viewBox=\"0 0 24 24\"\n",
              "       width=\"24px\">\n",
              "    <path d=\"M0 0h24v24H0V0z\" fill=\"none\"/>\n",
              "    <path d=\"M18.56 5.44l.94 2.06.94-2.06 2.06-.94-2.06-.94-.94-2.06-.94 2.06-2.06.94zm-11 1L8.5 8.5l.94-2.06 2.06-.94-2.06-.94L8.5 2.5l-.94 2.06-2.06.94zm10 10l.94 2.06.94-2.06 2.06-.94-2.06-.94-.94-2.06-.94 2.06-2.06.94z\"/><path d=\"M17.41 7.96l-1.37-1.37c-.4-.4-.92-.59-1.43-.59-.52 0-1.04.2-1.43.59L10.3 9.45l-7.72 7.72c-.78.78-.78 2.05 0 2.83L4 21.41c.39.39.9.59 1.41.59.51 0 1.02-.2 1.41-.59l7.78-7.78 2.81-2.81c.8-.78.8-2.07 0-2.86zM5.41 20L4 18.59l7.72-7.72 1.47 1.35L5.41 20z\"/>\n",
              "  </svg>\n",
              "      </button>\n",
              "      \n",
              "  <style>\n",
              "    .colab-df-container {\n",
              "      display:flex;\n",
              "      flex-wrap:wrap;\n",
              "      gap: 12px;\n",
              "    }\n",
              "\n",
              "    .colab-df-convert {\n",
              "      background-color: #E8F0FE;\n",
              "      border: none;\n",
              "      border-radius: 50%;\n",
              "      cursor: pointer;\n",
              "      display: none;\n",
              "      fill: #1967D2;\n",
              "      height: 32px;\n",
              "      padding: 0 0 0 0;\n",
              "      width: 32px;\n",
              "    }\n",
              "\n",
              "    .colab-df-convert:hover {\n",
              "      background-color: #E2EBFA;\n",
              "      box-shadow: 0px 1px 2px rgba(60, 64, 67, 0.3), 0px 1px 3px 1px rgba(60, 64, 67, 0.15);\n",
              "      fill: #174EA6;\n",
              "    }\n",
              "\n",
              "    [theme=dark] .colab-df-convert {\n",
              "      background-color: #3B4455;\n",
              "      fill: #D2E3FC;\n",
              "    }\n",
              "\n",
              "    [theme=dark] .colab-df-convert:hover {\n",
              "      background-color: #434B5C;\n",
              "      box-shadow: 0px 1px 3px 1px rgba(0, 0, 0, 0.15);\n",
              "      filter: drop-shadow(0px 1px 2px rgba(0, 0, 0, 0.3));\n",
              "      fill: #FFFFFF;\n",
              "    }\n",
              "  </style>\n",
              "\n",
              "      <script>\n",
              "        const buttonEl =\n",
              "          document.querySelector('#df-d47dacd2-7322-4aac-bd16-d9c8833130dd button.colab-df-convert');\n",
              "        buttonEl.style.display =\n",
              "          google.colab.kernel.accessAllowed ? 'block' : 'none';\n",
              "\n",
              "        async function convertToInteractive(key) {\n",
              "          const element = document.querySelector('#df-d47dacd2-7322-4aac-bd16-d9c8833130dd');\n",
              "          const dataTable =\n",
              "            await google.colab.kernel.invokeFunction('convertToInteractive',\n",
              "                                                     [key], {});\n",
              "          if (!dataTable) return;\n",
              "\n",
              "          const docLinkHtml = 'Like what you see? Visit the ' +\n",
              "            '<a target=\"_blank\" href=https://colab.research.google.com/notebooks/data_table.ipynb>data table notebook</a>'\n",
              "            + ' to learn more about interactive tables.';\n",
              "          element.innerHTML = '';\n",
              "          dataTable['output_type'] = 'display_data';\n",
              "          await google.colab.output.renderOutput(dataTable, element);\n",
              "          const docLink = document.createElement('div');\n",
              "          docLink.innerHTML = docLinkHtml;\n",
              "          element.appendChild(docLink);\n",
              "        }\n",
              "      </script>\n",
              "    </div>\n",
              "  </div>\n",
              "  "
            ]
          },
          "metadata": {},
          "execution_count": 30
        }
      ]
    },
    {
      "cell_type": "code",
      "source": [
        "inmuebles.info()"
      ],
      "metadata": {
        "colab": {
          "base_uri": "https://localhost:8080/"
        },
        "id": "S0QYDqaPNLhq",
        "outputId": "2a26c063-3e73-4dbf-a669-313689c02ced"
      },
      "execution_count": 31,
      "outputs": [
        {
          "output_type": "stream",
          "name": "stdout",
          "text": [
            "<class 'pandas.core.frame.DataFrame'>\n",
            "RangeIndex: 9520 entries, 0 to 9519\n",
            "Data columns (total 10 columns):\n",
            " #   Column        Non-Null Count  Dtype \n",
            "---  ------        --------------  ----- \n",
            " 0   Tipo          9520 non-null   object\n",
            " 1   Descripcion   9520 non-null   object\n",
            " 2   Habitaciones  9520 non-null   int64 \n",
            " 3   Banos         9520 non-null   int64 \n",
            " 4   Area          9520 non-null   int64 \n",
            " 5   Barrio        9520 non-null   object\n",
            " 6   UPZ           9478 non-null   object\n",
            " 7   Valor         9520 non-null   object\n",
            " 8   Moneda        9520 non-null   object\n",
            " 9   Precio        9520 non-null   object\n",
            "dtypes: int64(3), object(7)\n",
            "memory usage: 743.9+ KB\n"
          ]
        }
      ]
    },
    {
      "cell_type": "code",
      "source": [
        "inmuebles['Precio'].sum()"
      ],
      "metadata": {
        "colab": {
          "base_uri": "https://localhost:8080/",
          "height": 196
        },
        "id": "qwRAIGd9OCYq",
        "outputId": "4c69f63f-1a1a-44b1-deb7-7aaeb79c8286"
      },
      "execution_count": 32,
      "outputs": [
        {
          "output_type": "execute_result",
          "data": {
            "text/plain": [
              "'360.000.000670.000.0001.120.000.000890.000.000970.000.000510.000.000500.000.0002.350.000.000850.000.000642.000.000652.000.000168.000.000205.000.000300.000.000680.000.0002.519.000.000420.000.000620.000.000239.000.0001.600.000.000420.000.000625.000.0002.799.000.0001.450.000.0002.000.000.000670.000.0001.800.000.000469.000.000580.000.000445.000.000261.500.000278.000.000258.000.000520.000.000200.000.000129.000.000350.000.000290.500.000750.000.000495.000.000285.000.000900.000.0001.800.000.000990.000.000418.000.000349.000.000565.000.000370.000.000259.000.000310.000.000354.000.000372.000.000500.000.000420.000.0001.050.000.000185.000.000349.000.000515.000.000287.000.000265.000.000500.000.000261.500.000300.000.000278.000.000258.000.000520.000.000350.000.000290.500.000129.000.000200.000.000750.000.000418.000.000495.000.000349.000.000310.000.000565.000.000370.000.000259.000.000354.000.000285.000.000420.000.000372.000.000500.000.000185.000.0001.050.000.000349.000.0001.800.000.000900.000.000990.000.000225.000.000148.000.000331.500.000300.000.0001.030.000.000195.000.000200.000.000168.000.000323.000.000275.000.000510.000.000176.000.000680.000.000680.000.000217.000.0001.050.000.000375.000.000458.000.0002.000.000.000425.000.000318.000.000660.000.000730.000.000140.000.000343.000.000385.000.0001.300.000.0001.195.000.000519.000.000350.000.000202.000.000429.000.000640.000.000435.000.000610.000.000650.000.000421.000.0001.300.000.000155.000.000530.000.000330.000.000225.000.000143.000.000245.500.000433.000.000315.000.000450.000.000350.000.000205.000.0001.200.000.000169.000.000375.000.000460.000.000308.000.0001.100.000.000400.000.000860.000.0001.650.000.000565.000.000238.000.000503.000.000330.000.000400.000.0001.650.000.000580.000.000503.000.000635.000.000499.000.000371.000.000179.000.000348.200.000238.000.000173.000.000257.000.0001.100.000.000298.500.000680.000.000680.000.000217.000.0001.050.000.000375.000.000660.000.000318.000.000458.000.000425.000.0002.000.000.000343.000.000730.000.000140.000.0001.300.000.000385.000.000369.000.000366.000.000378.000.000355.000.000700.000.000990.000.000600.000.000516.000.000350.000.000475.000.000749.000.0001.195.000.000498.000.000269.000.000153.000.000335.000.000399.000.000373.000.000415.000.0001.550.000.000460.000.000225.000.000200.000.000234.000.000199.000.000450.000.0001.400.000.000202.000.000350.000.000519.000.000310.000.000355.000.000545.000.000720.000.000650.000.000343.000.000127.000.000370.000.000162.000.0001.560.000.000136.000.000265.000.000131.000.000416.000.000161.000.000900.000.000389.000.000190.000.000139.000.000319.000.000327.000.000474.500.000308.000.000720.000.000310.000.000177.500.0001.200.000.000380.000.000210.000.0001.290.000.000320.000.000445.000.000340.000.000510.000.000465.000.000220.000.000337.000.000260.000.000445.000.000290.000.000342.514.000625.000.000490.000.000350.000.000444.150.000360.000.000370.000.000150.000.000232.500.000271.000.000450.000.000163.500.000390.000.000300.000.000406.000.000465.000.000390.000.000175.000.000445.000.000422.000.000690.000.000445.000.000357.000.000465.000.000164.000.000300.000.000406.000.0001.700.000.000570.000.000460.000.000960.000.000510.000.000520.000.000142.000.000750.000.000160.000.000445.000.000570.000.000319.981.523510.000.000380.000.000134.000.000120.000.000460.000.000560.000.000351.000.0001.390.000.000422.000.000260.000.000980.000.000116.100.000980.000.000237.000.000320.000.000530.000.000503.000.000117.000.0001.300.000.000477.000.000450.000.000515.000.000730.000.000600.000.000480.000.000560.000.000308.000.000365.000.0001.200.000.000371.000.000850.000.000428.000.000421.000.000650.000.000295.000.000144.000.000280.000.000162.000.000620.000.0001.200.000.000360.000.000350.000.000650.000.000560.000.000295.000.000413.500.0001.200.000.000370.000.000600.000.000390.000.000447.500.000132.000.000180.000.000285.000.000620.000.000400.000.0001.380.000.000335.238.800820.000.000545.000.000217.000.000495.000.000330.000.000570.000.000280.000.0002.000.000.000390.000.000311.000.000164.000.000510.000.000319.000.000510.000.000303.960.000387.000.000390.000.000315.000.000245.000.000136.000.000151.000.000129.500.000150.000.000360.000.000141.000.000371.000.000272.000.000113.000.000237.000.000122.000.000243.000.000420.000.000125.000.000134.000.000177.000.000116.000.000930.000.000390.000.000490.000.000449.964.000650.000.000420.000.000600.000.000800.000.000134.000.000298.000.000315.000.000162.000.0002.570.000.000375.000.000400.000.000330.000.000447.500.000167.500.000125.000.000400.000.000310.000.000287.000.000516.000.000416.000.000144.000.000192.000.000290.000.000121.500.000413.500.000570.000.000110.000.000508.000.000124.000.000185.000.000290.000.000495.000.000750.000.000327.000.000390.000.000290.000.000310.000.000278.000.000330.000.000490.000.000249.000.000180.000.000370.000.000134.000.000450.000.000340.000.000144.000.000120.000.000131.000.000138.000.000357.000.000316.000.000162.000.000155.000.000290.000.000474.000.000295.000.000127.000.000390.000.000262.000.000117.000.0001.200.000.000990.000.000383.045.000371.000.000516.500.000750.000.000282.000.000371.000.000110.000.000144.000.000357.000.000134.000.000160.000.000850.000.000120.000.000116.000.000250.000.000111.000.000107.000.000123.000.000347.000.000400.000.000300.000.000141.000.000277.000.000420.000.000275.000.000850.000.000390.000.000445.000.000310.000.000277.000.000290.000.000347.000.000123.000.000340.000.000156.000.000395.000.000245.000.000130.000.000136.000.000476.500.000476.500.000225.000.000165.000.000451.000.000307.000.000138.000.000180.000.000620.000.000398.000.000276.000.000750.000.000245.000.000555.000.000450.000.000370.000.000162.000.000173.000.000629.000.000220.000.000390.000.000390.000.000314.000.000170.000.000200.000.000251.000.000168.000.000200.000.000340.000.000103.000.000230.000.0001.200.000.000355.000.000600.000.000378.300.0001.900.000.000160.000.000650.000.000102.000.000148.000.000500.000.000131.000.000142.000.000389.000.000522.500.000465.000.0001.250.000.000235.000.000164.000.000416.000.000318.000.000180.000.000390.000.000258.500.000205.000.000192.000.000522.500.000235.000.0001.250.000.000240.000.000320.000.000116.100.000224.000.000192.000.000250.000.000500.000.000345.000.000256.500.000323.000.000150.000.000245.000.000850.000.000127.000.000210.000.000354.000.000281.000.000200.000.000500.000.000300.000.000400.000.000330.000.000163.000.000430.000.000330.000.000320.000.000281.000.000850.000.000210.000.000127.000.000260.000.000525.000.000760.000.000387.000.000360.000.000246.000.000319.000.000190.000.000500.000.0001.400.000.000491.000.000970.000.000145.000.000420.000.000660.000.000515.000.000520.000.000770.000.000495.000.000160.000.000134.000.000489.900.000310.000.000270.000.000600.000.000261.500.000440.000.000372.000.000270.000.000880.000.000500.000.000590.000.000615.000.000131.000.000131.000.000131.000.000145.000.000125.000.000820.000.000319.000.000131.000.000142.000.000150.000.000125.000.000261.500.000248.000.000311.000.000620.000.000491.000.000460.000.000416.000.000216.000.000505.000.000492.000.000408.000.000245.000.000550.000.000177.000.000575.000.000270.000.000150.000.000270.000.000750.000.000880.000.000215.625.000176.000.000404.000.000250.000.000237.000.000340.000.000466.000.0002.900.000.000168.000.000168.000.000508.000.000160.000.000230.000.000426.000.000520.000.0003.500.000.000535.000.000373.000.000354.000.000245.000.000250.000.000500.000.000256.500.000210.000.000850.000.000525.000.000760.000.000260.000.000163.000.000430.000.000320.000.000330.000.000246.000.000300.000.000387.000.000360.000.000220.000.000193.000.000410.000.000247.990.000127.000.000281.000.000345.000.000183.000.000319.000.000500.000.000160.000.000270.000.000435.600.000491.000.000565.000.000159.000.000500.000.000322.000.000186.000.000444.000.000390.000.000202.000.000175.000.000190.000.000175.000.000386.990.000163.000.000530.000.000298.000.000238.000.000550.000.000145.000.000163.000.000570.000.000425.000.000330.700.000485.000.000500.000.000150.500.000367.000.000371.000.000394.500.000680.000.000600.000.000420.000.0001.650.000.000478.000.0001.350.000.000460.000.000455.000.000950.000.000620.000.000730.000.000800.000.000115.000.000503.000.000351.000.000325.000.000520.000.000330.000.000660.000.000570.000.000970.000.000450.000.000730.000.000400.000.000165.000.000630.000.000280.000.000315.000.000780.000.000138.000.000220.000.000300.000.000140.000.000425.000.000149.000.000163.000.000225.000.000332.000.000355.000.000136.000.000233.000.000350.000.000310.000.000450.000.000500.000.000340.000.000430.000.000258.000.000300.000.000745.000.000410.000.000440.000.000260.000.000600.000.000685.000.000870.000.000565.000.000460.000.000215.000.000400.000.000460.000.000215.000.000205.000.000280.000.000170.000.0001.050.000.000285.000.000530.000.0001.200.000.000800.000.000280.000.000280.000.000240.000.000290.000.000600.000.000250.000.000160.000.000550.000.000240.000.000315.000.000280.000.000400.000.000750.000.000520.000.000250.000.000440.000.000960.000.0002.200.000.000630.000.000970.000.0003.500.000.000265.500.000394.058.882220.000.000380.000.000509.395.301389.227.370300.000.000252.000.000233.000.000350.000.000175.000.000275.000.000330.000.000160.000.000510.000.000510.000.000495.000.000272.000.000312.000.000255.000.000317.000.000365.000.000510.000.000473.000.000272.000.000326.000.000245.000.000130.000.000250.000.000700.000.000444.000.000296.000.000565.000.000335.000.000498.000.000495.000.000342.000.000505.000.000295.000.000150.000.000450.000.000300.000.000534.000.000390.000.000500.000.000560.000.000490.000.000480.000.000190.000.000580.000.000118.000.000110.000.000420.000.000195.000.000491.000.0001.110.000.000350.000.000310.000.000490.000.0001.399.000.000400.000.000815.000.000160.000.000300.000.000280.000.000295.000.000175.000.000360.000.000550.000.000900.000.000519.000.000495.000.000840.000.0002.200.000.000720.000.000350.000.0001.350.000.000320.000.000650.000.000868.000.000305.000.000475.000.0001.200.000.000125.000.0001.800.000.000370.000.000480.000.000880.000.000483.000.000329.000.000198.000.000483.000.000530.000.000500.000.000491.000.000479.000.000519.000.000178.000.000491.000.000168.000.0001.000.000.000340.500.000366.000.000265.000.000500.000.000210.000.000388.000.000413.500.000282.000.000298.000.000350.000.000915.000.000240.000.000450.000.000237.000.000212.500.000535.000.000451.000.000499.800.000535.000.000550.000.000296.000.000530.000.000421.000.000435.800.000561.000.000167.000.000600.000.000530.000.0001.295.000.000474.500.000500.000.000347.000.000257.000.000315.000.000375.000.000311.000.000490.000.000600.000.000350.000.000330.000.000330.000.000490.000.000550.000.000850.000.000620.000.0001.200.000.000325.000.000460.000.000125.000.0001.550.000.000165.000.000750.000.000280.000.000220.000.000850.000.000155.000.000290.000.000212.500.000190.080.000390.000.000136.000.0001.250.000.000155.000.0001.300.000.0001.250.000.000278.000.000580.000.000340.000.000580.000.0001.500.000.000385.000.000355.000.000445.000.000740.000.0001.190.000.000173.000.000950.000.000355.000.000870.000.000740.000.000445.000.0001.500.000.000385.000.000640.000.000225.000.000137.000.000184.900.000154.000.000340.000.000104.000.000356.000.000460.000.000382.100.0001.700.000.000485.000.000370.000.000438.000.000230.000.000181.000.000113.000.000418.000.000311.000.000162.000.000176.000.000390.000.000136.000.0001.250.000.000155.000.0001.300.000.0001.250.000.000278.000.000580.000.000340.000.000580.000.0001.500.000.000385.000.000355.000.000445.000.000740.000.0001.190.000.000950.000.000144.000.000480.000.0001.080.000.0001.050.000.000178.000.000173.000.000870.000.000154.000.000340.000.000104.000.000225.000.000640.000.000184.900.000240.000.000400.000.000380.000.000260.000.000290.000.0001.350.000.000290.000.000530.000.000540.000.000290.000.000648.000.000300.000.000600.000.000520.000.000520.000.0001.200.000.000470.000.000250.000.000350.000.000322.000.000230.000.000435.000.000289.000.000168.000.000665.000.0004.200.000.000435.000.000580.000.000950.000.000350.000.000749.000.0001.100.000.000720.000.000360.000.0001.400.000.0001.200.000.000260.000.000315.000.000485.000.000380.000.000395.000.000145.000.000795.000.000215.000.0006.100.000.000370.000.000460.000.000910.000.000936.000.000270.000.000415.000.000399.000.000650.000.000970.000.0001.750.000.000510.000.000970.000.0008.800.000.000230.000.000600.000.000630.000.000200.000.000750.000.000489.000.000300.000.000155.500.0001.800.000.0002.100.000.000690.000.000499.000.000330.000.000495.000.000520.000.000470.000.000425.000.000480.000.000348.000.0001.300.000.000980.000.000950.000.000850.000.000650.000.0001.300.000.000260.000.000470.000.000495.000.000665.000.000980.000.000680.000.000495.000.000430.000.000800.000.0001.000.000.000890.000.0001.050.000.000525.000.000290.000.0001.100.000.000380.000.000560.000.000565.000.000570.000.000810.000.000340.000.000420.000.000465.000.000380.000.000484.000.000180.000.000160.000.000160.000.000980.000.000790.000.000790.000.000580.000.000200.000.000890.000.000680.000.000500.000.000400.000.0001.390.000.000220.000.0001.300.000.000280.000.000340.000.000347.000.000980.000.000175.000.000400.000.000825.000.000550.000.0002.000.000.000300.000.0001.100.000.000168.000.000600.000.000390.000.000390.000.000120.000.000390.000.000400.000.000140.580.0001.340.000.000360.000.0001.600.000.0001.200.000.000299.500.000850.000.000322.000.000600.000.000178.000.000160.000.0001.150.000.000290.000.0001.360.000.000601.000.000620.000.000417.780.000422.000.000350.000.000260.000.000280.000.000316.000.000357.000.000630.000.000317.000.000750.000.000220.000.000245.000.000247.000.000319.500.000250.000.000920.000.0003.600.000.000610.000.000430.000.000600.000.000178.000.000160.000.0001.150.000.000290.000.0001.360.000.000601.000.000620.000.000417.780.000422.000.000350.000.000260.000.000280.000.000225.000.000485.000.000325.000.000257.000.000129.000.000135.000.000296.000.000185.000.000209.500.000320.000.000236.000.000144.000.000149.000.000110.000.000335.000.000750.000.000510.000.000135.000.000185.000.000296.000.000209.500.000244.000.000425.000.0002.200.000.000371.000.000245.000.000275.000.000245.000.0001.350.000.000280.000.0002.150.000.000477.000.000675.000.000720.000.0001.250.000.000340.000.000260.000.000549.000.000400.000.000425.000.000280.000.000300.000.000264.000.000550.000.000620.000.000350.000.000245.000.000408.000.0001.120.000.000200.000.000320.000.0003.000.000.000404.000.000549.000.000618.000.0004.200.000.000406.000.000310.000.000810.000.0002.750.000.000330.000.000450.000.0001.800.000.000135.000.0001.650.000.000690.000.0008.550.000.000180.000.000249.000.000347.000.0003.900.000.000610.000.000160.500.000255.000.0003.300.000.000335.000.000189.000.000385.000.000189.000.000240.000.000294.000.000520.000.000475.000.000990.000.000289.000.000495.000.000666.000.000560.000.000518.000.0001.500.000.000170.000.000210.000.000178.000.0001.630.000.000450.000.000435.600.000257.000.000830.000.000485.000.000550.000.000530.000.000290.000.000380.000.000270.000.000480.000.000650.000.000187.000.000200.000.000205.000.000222.750.000486.000.000540.000.000130.000.000587.000.000150.000.000416.790.0001.250.000.000320.000.000540.000.000469.755.000138.000.000300.000.000300.000.0001.050.000.000430.000.000153.000.000420.750.000310.000.000287.000.000634.000.000125.000.000225.000.000374.500.000800.000.000900.000.000640.000.000210.000.000800.000.000327.000.000471.990.000519.800.000282.000.000311.000.000377.350.000316.000.000500.000.000528.000.000398.000.000300.000.000258.000.000356.000.000399.000.000336.000.000545.000.000570.000.000340.000.000451.000.000253.500.000370.990.000440.000.000385.000.000336.000.000357.400.000417.990.000480.650.000550.000.0002.200.000.000440.000.000357.400.000550.000.000163.000.000260.000.000417.990.000670.000.000379.990.000290.000.000500.000.000319.500.000180.000.000290.000.000472.000.000499.990.000559.947.000477.000.000270.000.000292.000.000419.990.000495.000.007276.000.000462.000.000288.000.000480.000.000479.030.000480.000.000534.000.000350.000.000458.000.000522.400.000480.000.000450.000.000322.000.000420.000.000395.990.0001.300.000.000685.000.000491.000.000520.000.000380.000.000633.900.000485.000.000530.000.000213.000.0002.500.000.000466.000.000160.000.000680.000.000432.990.000292.000.000170.000.000310.000.000570.000.000535.000.0001.250.000.000515.000.0002.700.000.000195.000.000325.000.000210.000.000350.000.000192.500.000337.000.000350.000.000311.000.0001.300.000.000940.000.000280.000.000340.000.000550.000.000472.000.000510.000.000380.000.000255.000.000290.000.000390.000.0001.400.000.000330.000.000140.000.000155.000.000680.000.0001.100.000.000360.000.000425.000.000147.000.000190.000.000120.000.000420.000.000505.000.000130.000.0001.380.000.000420.000.000550.000.000420.000.000310.000.000580.000.000980.000.000270.000.000435.000.000900.000.000490.000.000380.000.000660.000.000850.000.0001.550.000.000390.000.000230.000.000620.000.000180.000.000900.000.000660.000.000455.000.000450.000.000700.000.0002.300.000.000280.000.000930.000.000850.000.000980.000.000480.000.000840.000.000410.000.000520.000.000390.000.000535.000.000374.000.000117.000.000520.000.000274.600.000362.000.000601.000.000200.000.000183.000.000260.000.000230.000.000130.000.000300.000.000495.000.000170.000.000650.000.000485.200.000840.000.000520.000.0003.300.000.000420.000.000699.000.0001.150.000.000480.000.000282.000.000450.000.000365.000.000800.000.000483.000.000514.990.000500.000.000850.000.000350.000.000280.000.0003.300.000.000340.000.000609.800.000346.990.000339.000.000116.000.000230.000.0001.100.000.000680.000.000133.200.000423.000.000586.700.0001.080.000.000748.900.000339.000.000370.000.000270.000.000500.000.000268.000.000310.000.000372.760.0001.150.000.0001.500.000.000486.990.000282.000.000450.000.0001.600.000.000305.000.000800.000.000420.000.000480.000.000250.000.000315.000.000120.000.000290.000.000365.000.000800.000.000483.000.000500.000.000346.990.000339.000.000609.800.000514.990.000340.000.000133.200.000680.000.000339.000.0001.100.000.0003.300.000.000445.000.000190.000.000210.000.000510.000.000477.000.000290.000.000406.000.000267.990.000423.000.000296.000.000268.000.000165.000.000500.000.000255.000.000142.000.000365.000.000167.000.000375.000.000287.990.000498.900.000740.000.000270.000.000305.000.000580.000.000327.000.000214.830.0001.500.000.000350.000.000530.000.000310.000.0001.150.000.000372.760.0001.800.000.000520.000.000165.000.000160.000.000600.000.000170.000.000820.000.0001.200.000.000883.000.000750.000.000495.000.000300.000.000220.000.000365.000.000630.000.000490.000.000485.000.000580.000.0001.340.000.000665.000.000490.000.000580.000.000375.000.000470.000.000266.000.000485.000.0001.700.000.0001.400.000.000398.000.000540.000.000350.000.000960.000.000650.000.000420.000.000165.000.000360.000.000850.000.000795.000.000410.000.0001.100.000.000498.000.000345.000.000780.000.000195.000.000295.000.000600.000.000190.000.000193.000.000610.000.000950.000.000700.000.000395.000.000320.000.000560.000.000275.000.000800.000.000360.000.000750.000.000202.000.000565.000.000490.000.000465.000.000300.000.000780.000.000170.000.0001.200.000.000450.000.000770.000.000345.000.0001.300.000.000387.000.000850.000.000200.000.0001.700.000.000699.000.000800.000.000275.000.000265.000.000650.000.000347.000.000560.000.000275.000.000800.000.000331.500.000296.000.000288.000.000410.000.000240.000.000350.000.000235.000.000182.000.000685.000.000830.000.0001.000.000.000740.000.000845.000.000860.000.0003.300.000.000950.000.000720.000.000250.000.000350.000.000235.000.0001.550.000.000365.000.000509.395.301495.000.000400.000.0001.144.253.0001.379.000.0001.393.529.000260.000.000642.437.0001.226.400.000155.000.000175.000.000169.000.000150.000.000360.000.000125.000.000500.000.000365.000.000330.000.000530.000.000485.000.000500.000.000515.000.000518.000.000409.365.000515.000.000447.500.000504.900.000500.000.000360.000.000480.000.0001.789.000.000747.552.8001.400.000.000153.000.000430.000.000490.000.00013.200.000.000900.000.000698.000.0001.385.733.652450.000.0001.200.000.0002.190.000.000875.000.0001.300.000.000500.000.000504.900.000447.500.000360.000.000165.000.000595.000.0001.344.332.0001.860.000.000550.000.000594.000.000711.582.986680.000.0002.333.673.498845.000.000620.000.000385.000.0001.722.400.0001.250.000.0001.250.000.000989.000.000340.000.000225.000.000820.000.000650.000.0001.350.000.000700.000.000450.000.000550.000.000430.000.000280.000.000160.000.000320.000.0002.400.000.000195.000.000200.000.000650.000.000200.000.0001.500.000.000160.000.0001.500.000.000420.000.000450.000.000490.000.0001.800.000.000490.000.000238.000.000870.000.000285.000.000630.000.000990.000.000220.000.000485.000.000235.000.000249.900.000492.134.0001.400.000.000525.000.000820.000.000695.000.000630.000.0001.600.000.000470.500.000243.000.000495.000.000440.000.000157.200.0001.700.000.000375.000.000143.000.000900.000.000630.000.000750.000.000490.000.0002.000.000.000490.000.0001.359.000.0001.100.000.000270.000.000398.800.000878.200.000340.000.000363.000.000260.000.000260.000.000290.000.000600.000.000555.000.000730.000.000500.000.000340.000.000520.000.000750.000.000463.000.0002.300.000.000288.000.000231.298.464450.000.0001.100.000.000250.000.000380.000.000425.000.000750.000.000350.000.0001.200.000.000241.280.000330.000.000232.483.200890.000.000240.000.000486.000.000236.000.000939.275.008750.000.000750.000.000645.000.000395.500.000420.000.000170.000.000390.000.000285.000.000480.000.000260.000.000590.000.000270.000.000630.000.000765.000.000510.000.000386.000.000253.100.000360.000.000374.500.000415.000.000439.000.000144.000.000462.500.000449.000.000450.000.000872.000.000370.000.000142.500.000146.500.000147.000.000164.000.000325.000.000396.000.000396.000.000430.000.000488.000.000750.000.000406.500.000415.000.000579.000.000660.000.0001.500.000.000900.000.000640.000.000379.000.000580.000.0001.580.000.0002.800.000.000700.000.000345.000.000600.000.0005.299.999.744240.000.000432.000.000680.000.000630.000.000335.000.000233.000.000310.000.00094.500.000220.000.000310.000.000410.000.000466.000.000385.000.000415.000.000185.000.000298.500.000930.000.000820.000.000700.000.000425.000.0002.300.000.000850.000.000370.000.0002.600.000.000800.000.000828.400.000310.000.000160.000.0001.100.000.000365.000.000599.000.000220.000.000350.000.0001.350.000.000250.000.000165.000.000520.000.000950.000.000365.000.000690.000.000158.000.000410.000.000580.000.000237.000.000220.000.0001.300.000.000380.000.000594.000.0001.900.000.0001.690.000.0002.400.000.000320.000.0001.300.000.0002.200.000.0002.500.000.0001.050.000.0001.180.000.000360.000.000590.000.000740.607.900250.000.0002.950.000.0001.180.000.000280.000.000639.000.0002.300.000.000144.000.000890.000.000580.000.0001.350.000.000895.000.0002.600.000.000100.000.000270.000.000340.000.000438.000.000780.000.000111.500.000229.000.000350.000.000150.000.000380.000.000170.000.000338.000.000384.000.000311.000.000469.000.000800.000.000170.000.000235.000.000449.500.000270.164.320680.000.000419.000.000680.000.00094.500.000628.000.000520.000.000360.000.000160.000.000460.000.000320.000.000640.000.0001.484.999.936330.000.000750.000.0002.500.000.000670.000.0001.200.000.000400.000.000750.000.000390.000.000800.000.000580.000.000550.000.000165.000.000580.000.000750.000.000990.000.000345.000.0003.200.000.000350.000.000610.000.000599.000.000205.000.000279.280.1601.400.000.0003.149.100.0323.149.100.032280.000.000251.000.0001.200.000.000500.000.000500.000.0005.800.000.000379.000.000680.000.000240.000.000377.000.000197.000.000590.000.0003.627.099.9041.150.000.000230.000.000260.000.0001.700.000.000134.135.000109.700.000324.100.000430.000.0001.100.000.000310.000.000220.000.000425.000.000230.000.000440.000.0003.400.000.000415.000.0001.200.000.000590.000.000280.000.000255.000.0001.600.000.0001.000.000.000331.000.000720.000.000160.000.000200.000.000474.000.000320.000.000500.000.000430.000.0002.200.000.000776.000.000400.000.000450.000.000370.000.000370.000.000175.000.000175.000.0001.650.000.000165.000.000950.000.0001.200.000.000850.000.000700.000.000599.000.000330.000.000120.000.000700.000.000150.000.000750.000.000485.000.000450.000.000555.000.0001.100.000.000170.000.000485.000.0005.299.999.744350.000.0001.200.000.000670.000.0001.100.000.000245.000.000620.000.000690.000.000800.000.000950.000.0001.600.000.000199.000.000460.000.000270.000.000730.000.000650.000.000540.000.000530.000.000389.000.000650.000.000610.000.000174.000.000302.000.000620.000.000285.000.000338.000.000388.500.000406.500.0001.195.000.000530.000.000510.000.000248.500.000465.000.0001.150.000.000550.000.000360.000.0001.250.000.000380.000.000600.000.000430.000.000380.000.000590.000.000350.000.000215.000.000233.000.000930.000.000430.000.000340.000.000280.000.000150.000.000185.000.0001.000.000.000850.000.000310.000.000750.000.000223.000.000370.000.000750.000.0002.470.000.128660.000.000360.000.000223.000.000345.000.000590.000.000730.000.000724.460.000499.000.0002.080.000.000320.000.00084.000.000129.800.000332.500.000600.000.000129.800.000670.000.000199.900.0001.250.000.000699.927.0001.500.000.000775.564.000206.375.776145.000.000470.000.000332.500.000280.500.000157.200.000650.000.0001.100.000.000235.000.000330.000.000470.500.000497.391.000395.000.000157.200.000206.375.776350.000.000155.000.000322.000.000795.000.000157.200.000384.000.000249.900.000249.900.000950.000.000650.000.0002.500.000.0002.400.000.000525.000.0001.740.000.000350.000.0001.970.000.000439.300.000980.000.0001.500.000.000340.000.0001.500.000.000595.000.000120.000.000435.000.000332.000.000575.000.00099.920.000960.000.000770.000.000460.000.0001.000.000.000455.000.000135.000.000897.000.000323.100.000450.000.000250.000.0001.850.000.000152.000.000259.100.000407.342.016130.000.000168.000.0001.246.000.000500.000.000145.000.000120.000.000900.000.0001.200.000.000250.000.000140.000.000385.000.000160.000.000550.000.000580.000.000315.000.000355.000.000400.000.000650.000.000620.000.000400.000.000550.000.000160.000.000731.000.000670.000.0001.050.000.0002.500.000.000750.000.000130.000.000250.000.000160.000.0001.000.000.0001.500.000.000165.000.000615.000.000252.000.000345.000.000550.000.000270.000.000350.000.000350.000.000350.000.000142.000.000249.500.000325.000.000249.000.000298.500.000400.000.0001.330.000.000600.000.000117.000.0001.014.570.000185.000.000185.000.0001.100.000.000470.000.000720.000.0002.095.000.064360.000.0003.200.000.000420.000.000230.000.000233.000.000199.000.000350.000.000320.000.000311.000.000380.000.000100.000.000400.000.000145.000.000474.500.000290.000.000343.000.000620.000.000143.000.000330.000.000197.000.0001.500.000.000498.431.000550.000.000650.000.000327.900.000800.000.000850.000.000690.000.0001.500.000.000900.000.0001.300.000.000830.000.0001.400.000.000340.000.000550.000.000770.000.0002.200.000.0005.500.000.000500.000.0001.600.000.0002.100.000.000350.000.000160.000.0001.450.000.000450.000.000384.500.0001.010.000.000169.500.000275.000.000462.000.000394.500.000368.000.000382.000.000295.000.000155.000.000404.000.0001.250.000.000395.000.000205.000.000453.500.000262.000.000270.000.000420.000.000162.000.000350.000.000384.000.0001.500.000.0001.350.000.000365.000.000310.000.000228.000.000680.000.000310.000.000950.000.000420.000.000430.000.000895.000.000435.000.000897.000.000430.000.000390.000.000360.000.000350.000.000520.000.000330.000.000360.000.0001.090.000.000390.000.0003.300.000.000220.000.000420.000.000790.000.000720.000.000290.000.0004.200.000.000800.000.000520.000.000155.000.000320.000.000136.000.000395.000.000860.000.0002.700.000.000390.000.000995.000.000390.000.0001.500.000.000700.000.000470.000.000140.000.0001.700.000.0002.500.000.000750.000.000280.000.000140.000.000850.000.0001.300.000.00090.000.0003.000.000.000500.000.000120.000.0002.500.000.0002.500.000.000998.000.000914.300.000250.000.000850.000.0001.200.000.000280.000.000580.000.000170.000.000237.000.000245.000.000181.000.000455.000.000150.000.000155.000.000460.000.000540.000.000340.000.000278.000.000790.000.000600.000.000319.000.000177.000.000575.000.000700.000.000132.000.000413.500.000412.000.000120.000.000620.000.0004.200.000.000150.500.000900.000.000230.000.00096.000.000270.000.000270.000.000315.000.000447.500.000150.000.000800.000.000720.000.000440.000.000844.000.000360.000.000200.000.000500.000.0001.500.000.000474.500.0001.500.000.000240.000.000680.000.000660.000.0001.400.000.0004.500.000.000645.000.000980.000.000420.000.000390.000.000240.000.0002.530.000.0005.200.000.000638.000.0001.200.000.0001.100.000.000430.000.0002.400.000.0004.238.000.000380.000.000278.000.000979.999.0001.590.000.000500.000.000850.000.000960.000.000162.000.000400.000.000740.000.0002.250.000.000800.000.000155.000.000580.000.0002.500.000.000357.000.000599.000.0001.950.000.000880.000.000470.000.000147.000.000215.000.0001.700.000.000205.000.000200.000.0003.200.000.000840.000.000743.710.000834.460.000160.000.000270.000.000570.000.000170.000.000990.000.000398.000.0001.400.000.0001.900.000.000720.000.0001.150.000.0001.350.000.000535.000.000500.000.000240.000.0001.200.000.000310.000.000350.000.000320.000.0001.450.000.0002.200.000.000242.000.000350.000.000400.000.000185.000.000485.000.000494.000.000270.000.0001.200.000.000980.000.0001.350.000.000850.000.000256.000.000340.000.000385.000.0002.900.000.000970.000.0001.350.000.000240.000.0007.000.000.0002.650.000.0001.100.000.0002.700.000.0002.500.000.0001.200.000.000230.000.000540.000.000710.000.000610.000.000170.000.0001.700.000.000240.000.0001.299.000.000900.000.000780.000.0002.500.000.000750.000.000495.000.000650.000.0001.000.000.000330.000.000630.000.000850.000.000850.000.000950.000.000900.000.0005.250.000.0001.750.000.000380.000.000960.000.000460.000.0002.755.500.0001.700.000.0001.550.000.000335.000.000590.000.000590.000.000390.000.000265.000.000150.000.000459.000.0002.850.000.000531.000.0001.650.000.0001.200.000.0001.499.999.000405.000.000430.000.000500.000.000560.000.000620.000.000540.000.000550.000.000800.000.000950.000.000525.000.000846.000.000635.000.000345.000.000880.000.000960.000.000460.000.000330.000.000260.000.000430.000.0001.580.000.000540.000.000190.000.000700.000.0003.900.000.0001.200.000.000380.000.000230.000.0001.400.000.000450.000.000920.000.000580.000.000440.000.000980.000.000750.000.000385.000.000450.000.000432.000.000800.000.000410.000.000890.000.000760.000.000206.000.000225.000.0001.800.000.000160.000.000980.000.000592.500.000594.000.000285.000.0001.100.000.0001.800.000.000477.000.000620.000.000650.000.000355.000.000498.000.0001.450.000.000125.000.000660.000.000680.000.000680.000.0001.193.390.000460.000.000795.000.000679.000.000255.000.000190.000.000170.000.000900.000.000530.000.000230.000.000850.000.000450.000.000360.000.000143.000.000806.000.000700.000.000480.000.000500.000.0002.200.000.000280.000.000480.000.000500.000.000508.000.000343.000.000375.000.000310.000.000280.000.000480.000.000350.000.000340.000.000250.000.000260.000.0001.150.000.000300.000.000650.000.000482.000.000129.690.000145.000.000136.000.000150.000.000393.000.000183.000.000136.000.000134.000.000124.000.000129.000.000124.000.000650.000.000155.000.000150.500.000128.000.000128.000.000128.000.000196.000.000196.000.0002.300.000.000690.000.0001.100.000.000550.000.000570.000.000195.000.000350.000.000749.999.999375.000.000535.000.000215.000.000320.000.000160.000.000600.000.000180.000.000130.000.000125.500.000340.000.000131.000.000136.000.000116.000.000136.000.000130.000.000127.500.000145.000.000126.500.000128.500.000155.000.000125.000.000125.000.000150.000.000147.300.000125.730.000150.000.000120.800.000150.000.000102.000.000174.000.000680.000.000720.000.000240.000.000468.270.000145.000.000790.000.0003.807.000.0001.000.000.000450.000.000499.000.000360.000.000310.000.000790.000.000365.000.000210.000.000780.000.000425.000.0001.200.000.0001.000.000.000430.000.000410.000.000700.000.000850.000.0001.500.000.000140.000.000450.000.0001.650.000.0001.250.000.000285.000.000880.000.0001.250.000.000153.000.000850.000.0001.500.000.000323.000.000285.000.000552.600.000430.000.0001.700.000.000182.000.000479.030.000125.000.000176.000.000148.000.000155.000.000136.000.000130.000.000122.000.000148.000.000120.800.000134.000.000125.500.000102.000.000129.000.000450.000.000136.000.000147.300.000332.000.000150.000.000130.000.000205.000.000128.000.000129.000.000126.500.000102.000.000120.800.000131.000.000148.000.000122.000.000142.000.000125.500.000134.000.000125.000.000136.000.000136.000.000126.500.000147.300.000142.000.000280.400.000120.800.000122.000.000125.000.000125.000.000150.000.000136.000.000134.000.000134.000.000159.000.000159.000.000550.000.000880.000.000165.000.0004.250.000.0001.500.000.000600.000.000450.000.000154.000.000550.000.000350.000.000395.000.000464.000.0001.200.000.000160.000.000152.000.000270.000.0009.200.000.000262.000.000543.000.0003.500.000.000275.000.000812.955.500880.000.000745.000.000980.000.0001.500.000.000800.000.000157.000.000150.000.000310.000.000136.000.000153.500.000125.000.000130.000.000128.000.000153.500.000125.500.000134.000.000130.000.000128.000.000150.000.000124.000.000147.300.000131.000.000148.000.000128.000.000128.000.000120.800.000155.000.000134.000.000131.000.000147.300.000124.000.000153.500.000124.000.000129.000.000120.800.000129.000.000129.000.000150.000.000385.000.000188.000.000277.000.000232.000.000285.000.000442.436.000508.000.0003.500.000.000270.000.000411.000.000270.000.000318.000.000298.500.000280.000.000860.000.000116.000.000120.000.0001.100.000.000410.000.000800.000.000516.742.260520.000.000280.000.0001.670.000.0002.000.000.000359.000.0002.900.000.0005.000.000.0001.650.000.0001.070.000.000385.000.000600.000.000299.000.000460.000.000450.000.000354.000.000860.000.000298.500.000280.000.000270.000.000318.000.0001.280.000.0001.900.000.000335.000.000980.000.000450.000.0001.000.000.0002.150.000.0001.100.000.0002.500.000.000400.000.000470.000.000250.000.000510.000.000550.000.000175.000.000650.000.0003.400.000.0001.250.000.0001.100.000.000133.000.000750.000.0001.800.000.000330.000.000188.000.000170.000.000128.000.000540.000.000270.000.000365.000.000382.000.000280.000.000750.000.0001.700.000.000130.000.0001.150.000.000470.000.000350.000.000200.000.0002.200.000.000430.000.000436.000.000429.000.000825.000.000348.000.0001.300.000.000575.000.0001.380.000.000367.500.000251.000.000429.000.000430.000.000436.000.000382.000.000330.000.000380.000.000750.000.000310.000.000800.000.0001.700.000.000750.000.0001.800.000.000280.000.000188.000.000470.000.000200.000.000635.000.000170.000.000778.000.000130.000.0001.150.000.000350.000.000270.000.000365.000.000128.000.000160.000.000540.000.000133.000.000199.000.000750.000.000220.000.000249.000.000365.000.000328.000.000540.000.000460.000.000265.000.000279.400.000377.900.000163.500.000460.000.0003.000.000.000440.000.000345.000.000650.000.0001.250.000.000950.000.0002.800.000.000670.000.000347.000.000760.000.000440.000.000430.000.000820.000.0001.300.000.000139.999.9991.300.000.000749.000.000599.900.0001.500.000.0001.880.000.000890.000.000139.999.999270.000.000420.000.000500.000.000565.000.0001.400.000.000215.000.0001.300.000.000495.000.000865.000.000490.000.000650.000.0002.350.000.0001.600.000.0001.050.000.000745.000.0001.500.000.000360.000.0001.320.000.000295.000.000560.000.000491.000.000695.000.0001.200.000.000422.000.0001.300.000.000590.000.000980.000.0002.190.000.000280.000.000419.600.000160.500.000442.436.000360.000.0001.150.000.0004.000.000.000730.000.0006.500.000.000339.000.000482.000.000405.000.000375.000.000423.000.000500.000.0005.200.000.0001.960.000.000830.000.000980.000.0003.500.000.0001.200.000.0004.800.000.000480.000.0002.800.000.0001.080.000.000950.000.000850.000.000980.000.0001.100.000.000670.000.0001.836.000.000760.000.000440.000.000347.000.000274.000.000290.000.000270.000.0001.300.000.000460.000.0002.190.000.000240.000.000380.000.000215.000.0001.300.000.000495.000.000139.999.999900.000.000390.000.000749.000.000405.084.000458.930.000890.000.0001.880.000.000270.000.000480.000.000545.000.000320.000.000599.900.000815.402.051235.000.000150.000.000510.000.000249.000.000356.000.000303.960.000690.000.000528.000.000739.000.000739.000.000528.000.000850.000.000624.750.000408.000.000462.000.000600.000.000490.000.000462.000.000372.000.000275.000.000115.000.000149.000.000528.000.000310.000.000355.000.000528.000.000739.000.000325.000.000739.000.000320.000.000192.000.0001.100.000.000183.680.000142.000.000390.000.0001.500.000.000150.480.000739.000.000930.000.0002.200.000.000133.000.000212.500.000270.000.000305.000.000270.000.000190.000.000320.000.000210.000.000404.000.000149.000.000190.000.000149.000.000217.000.000111.000.000390.000.000250.000.000650.000.000350.000.000890.000.000320.000.0001.960.000.0005.200.000.0002.500.000.000410.000.000670.000.000650.000.0002.030.000.0001.050.000.0001.490.000.000600.000.000526.000.000483.000.000268.000.000458.000.000273.000.000339.000.000482.000.000315.000.000375.000.000258.000.0001.600.000.0001.050.000.000422.000.000830.000.0003.900.000.000990.000.0004.000.000.000980.000.0005.083.000.0005.400.000.000149.000.0002.700.000.000117.810.000240.000.000210.000.000580.000.0001.600.000.000186.000.000190.000.000110.000.000182.000.000169.000.000205.000.000272.000.000330.000.000295.000.000330.000.000237.000.0001.050.000.000190.000.000295.000.000205.000.000149.000.000126.000.000235.000.000739.000.000404.000.000330.000.000295.000.000500.000.0001.200.000.000739.000.000739.000.000720.000.000739.000.000390.000.000172.000.000250.000.000170.000.000303.960.000303.960.000528.000.000739.000.000311.000.000250.000.000169.000.000258.360.000190.000.000180.000.000205.000.000175.000.000190.000.000190.000.000985.000.000520.000.000900.000.0001.250.000.000650.000.000138.000.000125.000.000123.000.000800.000.000365.000.000170.000.000147.000.000510.000.0001.700.000.000205.000.000212.500.000190.000.0003.200.000.0003.200.000.000739.000.000149.000.0004.750.000.000190.000.000365.000.000212.500.000700.000.000313.000.000850.000.000305.000.000145.000.000739.000.000176.000.000176.000.000176.000.000250.000.000176.000.000170.000.000176.000.000250.000.000169.000.000690.000.0001.890.000.000170.000.000700.000.000165.000.000165.000.000780.000.000207.200.000134.000.000138.000.000115.500.000126.000.000795.000.000499.000.000245.500.000870.000.000634.000.000175.000.000680.000.000900.000.000670.000.000450.000.000500.000.000500.000.000500.000.000175.000.000690.000.000390.000.000390.000.000479.000.000740.000.000390.000.000830.000.000658.000.000820.000.0001.400.000.000550.000.000248.000.000410.000.000420.000.0001.210.000.000260.000.000298.000.000550.000.000171.000.0001.480.000.000870.000.000800.000.000357.000.000300.000.000480.000.000153.000.000147.000.000750.000.000418.000.000600.000.000390.000.000530.000.0001.600.000.000508.000.0001.793.000.0002.095.000.000136.000.000550.000.000870.000.000350.000.000430.000.000550.000.000245.000.000162.000.000680.000.000330.000.000142.000.000119.000.000348.000.000116.000.000119.000.000323.000.000130.000.000130.000.0001.600.000.000228.000.000840.000.000315.000.000325.000.0001.495.000.000397.000.000169.000.000172.000.000176.000.000438.000.000241.200.000528.000.000450.000.000739.000.000739.000.000116.100.000250.000.000172.000.000177.000.000450.000.000310.000.000180.000.000250.000.0001.000.000.000210.000.000380.000.000400.000.0001.890.000.000520.000.000739.000.0001.200.000.000170.000.000395.000.000570.000.000275.000.000190.000.000690.000.000860.000.000795.000.0001.650.000.000630.000.000570.000.000785.000.000250.000.000272.250.000450.000.000455.000.000575.000.000265.000.000750.000.000272.250.000440.000.000500.000.0001.540.000.000119.000.0001.600.000.000475.000.000327.000.000340.000.000710.000.000500.000.000450.000.000440.000.0001.250.000.000590.000.000290.500.000290.500.000171.000.000360.000.000245.000.000245.000.000290.500.0001.590.000.000795.000.000550.000.000350.000.000400.000.000510.000.000690.000.000700.000.000250.000.000169.000.000172.000.000176.000.000116.100.000395.000.000570.000.000275.000.000203.000.000840.000.000466.000.0002.095.000.000550.000.000870.000.0005.000.000.0001.850.000.000194.000.000323.000.000900.000.000950.000.0001.100.000.000285.000.000323.000.000508.000.000720.000.000385.000.000140.000.0001.480.000.0001.190.000.000490.000.000115.000.000670.000.000131.000.000150.000.000300.000.000168.000.000680.000.000160.000.0001.105.000.000354.000.000180.000.000177.000.0001.700.000.000996.000.000121.000.000353.000.000134.000.000115.500.000207.200.000126.000.000498.000.000165.000.000165.000.000780.000.000670.000.000450.000.000500.000.000500.000.000500.000.0001.495.000.0004.000.000.000199.000.000325.000.000840.000.000460.000.000499.500.000430.000.000660.000.0001.790.000.000480.000.000466.000.000466.000.0001.100.000.000508.000.000508.000.000850.000.000230.000.000295.000.000950.000.000550.000.000330.000.000163.000.000339.000.000486.000.000450.000.000260.000.000460.000.0003.000.000.000415.000.000380.000.000136.000.000133.000.000545.000.000760.000.000465.000.000105.000.000134.000.000476.500.000148.000.000360.000.000423.000.000610.000.000400.000.000397.000.000480.000.0001.300.000.00082.170.000354.000.000140.000.000397.000.000430.000.0002.850.000.000466.000.000466.000.0001.100.000.000405.000.000490.000.000508.000.000470.000.000700.000.000508.000.000128.700.000930.000.000660.000.0001.790.000.000480.000.000850.000.000353.000.0001.950.000.000144.000.000144.000.000144.000.000435.000.000585.000.000488.000.000550.000.000153.000.000483.000.000175.000.000245.000.000500.000.000385.000.000285.000.000173.000.000390.500.000550.000.000354.000.000870.000.000449.000.000550.000.000895.000.0001.600.000.000980.000.000360.000.000489.000.000500.000.000620.000.000610.000.000152.000.000650.000.000230.000.000390.000.000330.000.0002.900.000.000850.000.000995.000.000870.000.000634.000.000175.000.000175.000.000207.200.000134.000.000138.000.000115.500.000126.000.000450.000.000500.000.000500.000.000153.000.000500.000.000310.000.000210.000.000475.000.0001.500.000.000485.000.000465.000.0001.495.000.000550.000.000600.000.000425.000.000530.000.0002.200.000.000369.000.000285.000.000300.000.0001.200.000.000300.000.0001.250.000.0001.170.000.000371.000.000300.000.000890.000.000130.000.000499.500.0003.850.000.000460.000.000498.000.000300.000.000480.000.000155.000.000320.000.000217.000.000199.000.0004.000.000.000325.000.000182.000.000200.000.000371.000.000180.180.000720.000.000750.000.000900.000.000650.000.000870.000.000270.000.000213.000.0001.900.000.0002.000.000.000163.000.000620.000.000600.000.0002.100.000.000450.000.000820.000.000750.000.000529.000.000889.000.000319.000.000120.000.000365.000.000360.000.000323.000.000390.000.000390.000.000390.000.000390.000.0002.200.000.000340.000.000720.000.000665.000.0001.350.000.0001.050.000.000270.000.000850.000.000880.000.000150.000.000528.000.000330.000.000525.000.000890.000.000550.000.0001.000.000.000500.000.0002.500.000.0001.200.000.000550.000.000850.000.000400.000.000735.000.0001.250.000.000295.000.000450.000.000514.000.000590.000.000435.000.000630.000.000420.000.000390.000.000390.000.000390.000.000450.000.000140.000.000347.000.000250.000.000165.000.000390.000.000390.000.000130.000.000345.000.0001.500.000.000296.000.000310.000.0001.195.000.000228.000.000585.000.000390.000.000180.000.000470.000.000520.000.000456.000.000390.000.000530.000.000390.000.000390.000.000390.000.000390.000.000250.000.0001.200.000.000278.000.000800.000.000580.000.000390.000.000400.000.000135.000.000720.000.000695.000.000390.500.000490.000.000148.000.000180.000.000176.500.000600.000.0001.290.000.000472.000.000175.000.000380.000.000710.000.000750.000.000390.000.000310.000.000272.250.000137.000.000470.000.000190.000.000400.000.000450.000.000450.000.000515.000.000410.000.000300.000.000650.000.000152.000.000340.000.000173.500.000525.000.0002.700.000.000750.000.000159.000.000159.000.000159.000.000159.000.000437.000.000203.823.000159.000.000437.000.000180.000.000895.000.000645.000.000295.000.000610.000.0001.340.000.000545.000.000331.500.000430.000.000287.000.000990.000.000795.000.000419.600.000196.000.0001.250.000.000360.000.000550.000.000482.000.000335.000.000398.600.000476.500.000515.000.000465.000.0002.300.000.000422.000.000397.000.000411.000.000535.000.000720.000.0001.000.000.000356.000.0001.170.000.000422.000.000560.000.000330.000.000390.500.0001.000.000.000490.000.000163.000.000530.000.000173.000.000422.000.000340.500.000449.500.000850.000.000255.000.000278.000.000395.000.000230.000.000422.000.000400.000.000425.000.000825.000.000298.000.000920.000.000850.000.000900.000.000196.000.0001.100.000.000210.000.000256.000.000320.000.000550.000.0001.500.000.000540.000.000167.000.000153.000.000520.000.000980.000.0004.500.000.0003.300.000.000700.000.0001.615.000.000280.000.0001.250.000.000240.000.000116.000.000265.000.000365.000.000372.760.000358.000.000422.000.000397.000.000720.000.0001.000.000.000356.000.000390.500.0001.000.000.000490.000.000315.000.000355.000.000440.000.000237.000.0001.200.000.000137.000.000470.000.000340.000.000173.500.000400.000.0002.000.000.000422.000.000400.000.000695.000.000770.000.000465.000.000515.000.000465.000.0002.300.000.000116.000.000390.000.000390.000.000630.000.000330.000.0001.050.000.000408.000.000870.000.000409.000.000510.000.000482.000.000430.000.000535.000.0001.250.000.000255.000.000475.000.000177.000.000560.000.000113.000.000675.000.000285.000.000285.000.000142.800.000587.000.000388.000.000430.000.0001.000.000.000372.000.000345.000.000390.000.000700.000.000458.000.0003.800.000.000278.000.000680.000.000730.000.000190.000.000145.000.000220.000.000400.000.000275.000.000316.000.000480.000.000153.000.0001.700.000.000357.000.000470.000.000450.000.000390.000.000390.000.000355.000.000980.000.000134.000.000360.000.000515.000.000214.000.000278.000.000450.000.000270.000.000196.000.000131.000.000255.000.000167.000.0001.250.000.000322.000.0001.100.000.000840.000.0003.800.000.000487.000.000220.000.0001.400.000.0001.700.000.000142.800.000587.000.000388.000.000430.000.0001.000.000.000372.000.000345.000.000390.000.000700.000.000458.000.000404.000.000630.000.0001.036.000.000700.000.000295.000.000330.000.0001.050.000.000408.000.000830.000.0001.395.000.000220.800.000550.000.0001.670.000.000350.000.000375.000.000125.000.000228.000.000408.000.000400.000.000670.000.000690.000.0001.350.000.000338.000.000480.700.000298.000.000500.000.000163.500.000419.600.000172.000.000479.000.000134.000.000437.000.000437.000.0002.700.000.000279.000.000489.000.000220.000.000338.000.0001.100.000.000190.000.000739.000.000190.000.000450.000.000381.000.000950.000.000545.000.000278.000.000169.000.000462.000.0002.200.000.0001.050.000.000479.000.0001.200.000.000739.000.000790.000.000370.000.000440.000.000298.000.000489.000.000880.000.000167.500.000371.000.000595.000.000490.000.000277.000.000168.000.000680.000.000510.000.000158.000.000310.000.000440.000.000165.000.000399.000.000510.000.000282.150.000520.000.000370.260.000373.000.000285.000.0001.000.000.000277.000.000320.000.000387.000.000212.000.000650.000.0001.350.000.000510.000.000260.000.000158.000.000240.000.000158.000.000145.000.000195.000.000158.000.000420.000.000358.000.000323.000.0003.600.000.000545.000.000230.000.000309.000.000624.750.000437.000.000437.000.000310.000.000680.000.000437.000.000570.000.000338.000.0001.100.000.000200.000.000450.000.000119.000.000870.000.000158.000.000170.000.000739.000.000790.000.000370.000.000288.000.000650.000.000489.000.000462.000.000153.000.000408.000.000980.000.000850.000.000524.000.000750.000.000160.500.000177.000.000540.000.0001.150.000.000134.000.000200.000.000528.000.0001.300.000.000528.000.0002.000.000.0001.950.000.000522.500.000130.000.000119.000.000698.000.000175.000.000131.000.000167.000.000249.000.000255.000.000196.000.000207.000.000256.000.000880.000.000624.750.000196.000.000445.000.000115.000.000276.000.000298.000.000550.000.000196.000.000116.820.000550.000.000950.000.000238.000.000820.000.000120.000.000159.000.0001.600.000.000880.000.000445.000.000196.000.000115.000.000256.000.000624.750.000257.000.0001.490.000.000275.000.000600.000.000667.000.000238.000.000480.000.000370.000.000285.000.000195.000.000680.000.0002.000.000.000249.000.000298.500.000207.000.000210.000.000372.000.000205.000.000295.000.0001.450.000.000420.000.000330.000.000330.000.000330.000.000437.000.000437.000.000116.000.0001.200.000.000387.000.000410.000.000483.000.000510.000.000212.000.000277.000.000320.000.000387.000.000650.000.0001.350.000.000510.000.000260.000.000158.000.000240.000.000158.000.000145.000.000145.500.000280.000.000438.000.000474.500.000380.000.000340.000.000517.500.0001.100.000.000290.000.000380.000.000341.000.000320.000.000295.000.000266.000.000485.000.000260.000.000187.000.000595.000.0001.320.000.000750.000.000750.000.000645.000.000395.500.000420.000.000170.000.000390.000.000285.000.000480.000.000260.000.000590.000.000270.000.000630.000.000765.000.000510.000.000386.000.000253.100.000360.000.000374.500.000415.000.000439.000.000144.000.000462.500.000449.000.000450.000.000872.000.000370.000.000142.500.000146.500.000147.000.000164.000.000325.000.000396.000.000396.000.000430.000.000488.000.000750.000.000406.500.000415.000.000579.000.000660.000.0001.500.000.000900.000.000665.000.000395.000.0002.300.000.000390.000.000260.000.000425.000.000690.000.000600.000.000250.000.000800.000.0001.090.000.000540.000.000810.000.000332.500.000214.000.000670.000.000175.000.00085.000.000332.500.000176.000.000235.000.000249.900.000492.134.0001.400.000.000525.000.000820.000.000695.000.000630.000.0001.600.000.000470.500.000850.000.000370.000.0002.600.000.000800.000.000828.400.000310.000.000160.000.0001.100.000.000365.000.000599.000.000220.000.000350.000.0001.350.000.000250.000.000165.000.000520.000.000950.000.000377.000.000800.000.000820.000.000820.000.000690.000.0002.500.000.000240.000.000650.000.000850.000.0001.150.000.000950.000.000950.000.000120.000.000260.000.000290.000.000600.000.000555.000.000730.000.000500.000.000340.000.000520.000.000750.000.000463.000.0002.300.000.000288.000.000231.298.464450.000.0001.100.000.000250.000.000380.000.000425.000.000750.000.000350.000.0001.200.000.000241.280.000330.000.000232.483.200890.000.000240.000.000486.000.000236.000.000939.275.008220.000.000149.600.000620.000.000487.000.000320.000.000664.320.000265.700.0001.150.000.000455.000.0001.000.000.000155.000.000466.000.000330.000.000796.000.000306.200.000124.000.000580.000.000800.000.000820.000.000650.000.000232.483.200389.649.984450.000.000759.000.000410.000.000950.000.000237.716.992260.000.000245.000.000126.050.0002.849.999.872237.716.992260.000.000245.000.000126.050.0002.849.999.872697.000.000340.000.000950.000.000920.000.000650.000.0005.699.999.744885.000.0001.200.000.000330.000.000283.000.0001.400.000.000135.000.000595.000.000215.000.000520.000.000195.500.000780.000.0001.280.000.000338.000.000580.000.0001.250.000.000350.000.000690.000.000511.000.000650.000.000630.000.000475.000.000420.000.000500.000.000125.000.000200.000.0001.250.000.000780.000.000210.000.000250.000.000112.000.000407.342.016518.000.000530.000.000306.000.000235.000.000255.000.0001.150.000.000700.000.000750.000.000185.000.000290.500.000160.000.000560.000.0001.900.000.000465.000.000560.000.000465.000.000129.000.000365.000.000220.000.0001.300.000.000380.000.000594.000.0001.900.000.0001.690.000.0002.400.000.000320.000.0001.300.000.0002.200.000.0002.500.000.0001.050.000.0001.180.000.000360.000.000590.000.000740.607.900250.000.0002.950.000.0001.180.000.000280.000.000639.000.0002.300.000.000144.000.000890.000.000580.000.0001.350.000.000895.000.0002.600.000.000100.000.000270.000.000670.000.0001.100.000.000245.000.000620.000.000690.000.000800.000.000950.000.0001.600.000.000199.000.000460.000.000270.000.000730.000.000650.000.000540.000.000530.000.000389.000.000650.000.000199.000.000240.000.0005.299.999.744360.000.0001.250.000.000680.000.000950.000.000480.000.000435.000.000520.000.000720.000.000250.000.000520.000.000435.000.000520.000.000720.000.000250.000.000520.000.000260.000.000470.000.000330.000.0001.600.000.000950.000.000490.000.000700.000.0001.100.000.000990.000.0002.500.000.0001.200.000.000245.000.000220.000.000335.000.000140.000.000280.000.000599.000.000185.000.0001.000.000.000850.000.000310.000.000750.000.000223.000.000370.000.000750.000.000590.000.000730.000.000724.460.000499.000.0002.080.000.000320.000.00084.000.000129.800.000332.500.000600.000.000129.800.000670.000.000199.900.0001.250.000.000699.927.0001.500.000.000775.564.000345.000.000206.375.776145.000.000470.000.000332.500.000280.500.000157.200.000650.000.0001.100.000.000235.000.000330.000.000470.500.000497.391.000331.000.000720.000.000160.000.000200.000.000474.000.000320.000.000500.000.000430.000.0002.200.000.000776.000.000400.000.000450.000.000370.000.000370.000.000175.000.000175.000.0001.650.000.000165.000.000950.000.0001.200.000.000850.000.000700.000.000599.000.000330.000.000250.000.000800.000.000358.000.000185.000.000530.000.000350.000.000960.000.000770.000.000460.000.0001.000.000.000455.000.000135.000.000897.000.000323.100.000450.000.000250.000.0001.850.000.000152.000.000259.100.000407.342.016130.000.000168.000.0001.246.000.000500.000.000670.000.0002.470.000.128850.000.000270.000.000665.000.000450.000.0001.025.000.00098.000.000329.000.000400.000.0005.200.000.000340.000.0001.250.000.000949.100.0321.250.000.000628.000.000878.200.000425.000.000440.000.000265.000.000240.000.000315.790.016105.000.0001.000.000.000358.500.000120.000.000650.000.000297.500.000300.000.000560.000.000252.000.000345.000.000550.000.000270.000.000350.000.000350.000.000350.000.000142.000.000249.500.000325.000.000249.000.000298.500.000400.000.0001.330.000.000600.000.000117.000.0001.014.570.000185.000.000185.000.0001.100.000.000470.000.000720.000.0002.095.000.064360.000.0003.200.000.000420.000.000230.000.000233.000.000199.000.000350.000.000320.000.000311.000.000380.000.000100.000.000400.000.000145.000.000474.500.000290.000.000343.000.000620.000.000143.000.000330.000.000430.000.000400.000.0001.170.000.0001.900.000.000875.000.000366.000.000980.000.000478.900.0004.300.000.0001.000.000.000470.000.0001.300.000.000520.000.0001.200.000.0006.160.000.000870.000.000420.000.0001.550.000.0001.500.000.0004.000.000.000340.000.000700.000.0001.390.000.000998.000.000157.000.0001.100.000.000490.000.000875.000.000270.000.000610.000.000450.000.000384.500.0001.010.000.000169.500.000275.000.000462.000.000394.500.000368.000.000382.000.000295.000.000155.000.000404.000.0001.250.000.000395.000.000205.000.000453.500.000262.000.000270.000.000420.000.000162.000.000350.000.000384.000.0001.500.000.000650.000.000250.000.000280.000.000560.000.000200.000.0001.700.000.000500.000.00074.300.000144.000.000140.000.00060.000.000400.000.000320.000.000950.000.0001.900.000.0001.120.000.000550.000.000260.000.000450.000.000440.000.0001.350.000.000480.000.000568.000.000145.000.0003.000.000.000155.000.000320.000.000136.000.000395.000.000860.000.0002.700.000.000390.000.000995.000.000390.000.0001.500.000.000700.000.000470.000.000995.000.000390.000.0001.500.000.000700.000.000470.000.000140.000.0001.700.000.0002.500.000.000750.000.000280.000.000140.000.000850.000.0001.300.000.00090.000.0003.000.000.000500.000.000120.000.0002.500.000.0002.500.000.000998.000.000914.300.000250.000.000850.000.0001.200.000.000280.000.000580.000.000170.000.000237.000.000245.000.000181.000.000520.000.000229.000.000135.000.000800.000.000150.000.000596.000.000870.000.000320.000.0001.690.000.000750.000.000750.000.0001.070.000.0001.250.000.0001.690.000.000680.000.000750.000.000800.000.000700.000.000640.000.000618.000.0001.070.000.000320.000.000120.000.000596.000.000897.000.000610.000.000750.000.000320.000.000310.000.000980.000.000117.000.000127.000.000120.000.0003.627.099.90498.000.0001.450.000.000260.000.000264.710.000262.000.000320.000.000229.000.000360.000.000285.500.000252.000.000252.000.000939.275.008435.000.000240.000.000260.000.000125.000.000230.000.000102.000.000550.000.000265.700.000474.000.000215.000.000176.000.000144.000.000170.000.000500.000.000215.000.000176.000.000144.000.000170.000.000500.000.000232.000.000420.500.000409.500.000480.000.000315.000.000990.000.000670.000.000975.000.0001.600.000.0001.450.000.000633.710.0001.900.000.000743.710.000633.710.0002.400.000.0001.550.000.0008.358.000.000743.710.000834.460.000160.000.000270.000.000570.000.000170.000.000990.000.000398.000.000535.000.000500.000.000240.000.0001.200.000.000310.000.000350.000.000320.000.0001.450.000.0002.200.000.000242.000.000350.000.000400.000.000185.000.000485.000.000494.000.000270.000.0001.200.000.000980.000.0001.350.000.000850.000.000256.000.000340.000.000385.000.0002.900.000.000970.000.0001.350.000.000240.000.0007.000.000.0002.650.000.0001.100.000.0002.700.000.0002.500.000.0001.200.000.000230.000.000540.000.000710.000.000610.000.000170.000.0001.700.000.000240.000.0001.299.000.000900.000.000780.000.0002.500.000.000750.000.000495.000.000650.000.000385.000.0001.400.000.0001.820.000.000460.000.000650.000.0001.250.000.000390.000.000480.000.0001.300.000.000550.000.000280.000.0001.250.000.000140.000.000230.000.000650.000.000790.000.000350.000.000880.000.000750.000.000318.000.0001.100.000.000750.000.0001.100.000.000850.000.000790.000.0001.200.000.0002.150.000.000950.000.000360.000.000550.000.000560.000.000620.000.000540.000.000550.000.000800.000.000950.000.000525.000.000846.000.000635.000.000345.000.000880.000.000960.000.000460.000.0002.400.000.0004.238.000.000380.000.000278.000.000979.999.0001.590.000.000500.000.000850.000.000960.000.000162.000.000400.000.000740.000.0002.250.000.000800.000.000155.000.000580.000.0002.500.000.000357.000.000599.000.0001.950.000.000880.000.000470.000.000147.000.000215.000.0001.700.000.000205.000.000200.000.0003.200.000.000840.000.000567.240.000570.000.000830.000.0001.250.000.000520.000.000890.000.000315.000.000900.000.000335.000.0001.350.000.0002.800.000.000360.000.000450.000.000920.000.000610.000.000950.000.000850.000.000870.000.000280.000.000700.000.000335.000.000550.000.000450.000.000960.000.0001.700.000.000345.000.000485.000.000520.000.000330.000.000750.000.000650.000.000585.000.000750.000.000380.000.0004.000.000.000190.000.000370.000.0001.600.000.000285.000.0001.240.000.000975.000.000410.000.000670.000.000230.000.000345.000.000450.000.000960.000.0006.720.791.000370.000.0003.143.226.0001.833.000.0001.150.000.000399.000.0001.750.000.000340.000.0001.000.000.000330.000.000630.000.000850.000.000850.000.000950.000.0003.950.000.000750.000.000130.000.0002.290.000.000760.000.000800.000.000530.000.000140.000.000380.000.000340.000.000285.000.0002.750.000.000930.000.000820.000.000480.000.000750.000.000400.000.000350.000.0001.160.000.0001.500.000.000460.000.000420.000.000220.000.000285.000.000315.000.000560.000.000220.000.000890.000.000980.000.0001.300.000.000800.000.000650.000.000440.000.000280.000.000430.000.000285.000.000690.000.000220.000.000220.000.000315.000.000220.000.000560.000.000285.000.000410.000.0001.000.000.000350.000.000190.000.000174.000.000680.000.000720.000.000240.000.000468.270.000145.000.000790.000.0003.807.000.0001.000.000.000450.000.000499.000.000360.000.000310.000.00016.000.000.000210.000.0001.200.000.000430.000.000320.000.000375.000.000620.000.000359.000.000400.000.0002.750.000.000425.000.000950.000.000950.000.000600.000.000135.000.000587.000.0001.350.000.000550.000.000630.000.000760.000.000242.000.000615.000.000345.000.000740.000.0001.080.000.000190.000.000255.000.000280.000.000480.000.000350.000.000130.000.000148.000.000155.000.000479.030.000120.800.000134.000.000125.500.000122.000.000148.000.000102.000.000125.000.000125.000.000128.000.000148.000.000129.000.000128.000.000102.000.000131.000.000155.000.000145.000.000153.500.000129.000.000131.000.000125.000.000102.000.000128.500.000145.000.000450.000.000153.500.000129.000.000102.000.000131.000.000129.000.000128.000.000125.000.000155.000.000145.000.000125.000.000102.000.000131.000.000128.500.000145.000.000153.500.000129.000.000148.000.000153.500.000129.000.000450.000.000136.000.000612.000.000159.000.000131.000.000129.690.000130.000.000150.000.000130.000.000129.000.000150.000.000124.000.000150.000.000131.000.000128.000.000125.000.000120.800.000150.000.000102.000.000150.000.000125.500.000122.000.000150.000.000122.000.000120.800.000125.000.000120.800.000134.000.000134.000.000145.000.000130.000.000125.730.000128.000.000145.000.000136.000.000125.000.000155.000.000128.500.000145.000.000129.000.000131.000.000129.000.000129.000.000131.000.000102.000.000130.000.000136.000.000124.000.000130.000.000128.000.000131.000.000136.000.000125.000.000153.500.000129.000.000150.000.000128.000.000127.500.000136.000.000125.500.000130.000.000134.000.000125.000.000125.500.000142.000.000136.000.000125.000.000150.000.000145.000.000125.000.000136.000.000147.300.000128.000.000255.000.000540.000.000240.000.000190.000.000466.000.000498.000.000609.000.000336.000.000730.000.000220.000.0001.150.000.000580.000.000620.000.0001.300.000.000350.000.000670.000.000179.999.999460.000.000651.000.000622.000.000419.999.999280.000.000193.000.000460.000.000179.999.000640.000.000390.000.000536.000.000670.000.000600.000.000136.000.000120.800.000134.000.000134.000.000145.000.000130.000.000125.730.000128.000.000145.000.000120.800.000150.000.000136.000.000125.000.000155.000.000102.000.000150.000.000131.000.000128.500.000145.000.000129.000.000129.000.000120.800.000125.000.000125.000.000153.500.000126.500.000128.500.000155.000.000124.000.000147.300.000380.000.000280.000.000188.000.000770.000.000635.000.000750.000.000600.000.000650.000.000410.000.0001.400.000.000218.000.000449.000.000348.000.0001.300.000.000575.000.0001.380.000.000477.000.000367.500.000251.000.000393.400.000592.000.000165.000.000150.500.000298.000.000140.000.000270.000.000285.000.000500.000.000380.000.000240.000.000685.000.000395.000.000320.000.000360.000.000220.000.000195.000.000345.000.000240.000.000214.000.000370.000.000980.000.000249.000.000534.000.0002.200.000.0001.390.000.0001.700.000.000595.000.000450.000.000180.000.000328.000.000163.500.000460.000.0003.000.000.000408.000.000142.000.000419.600.000116.000.000358.000.000160.500.000442.436.000270.000.000318.000.000298.500.000280.000.000860.000.000116.000.000120.000.0001.100.000.000410.000.000800.000.000516.742.260520.000.000280.000.0001.670.000.0002.000.000.000359.000.0002.900.000.0005.000.000.0001.650.000.0001.070.000.000602.113.626882.532.9461.300.000.000565.000.000995.000.0001.400.000.0002.600.000.000850.000.000480.000.000380.000.0004.600.000.0001.850.000.000750.000.000890.000.000820.000.0001.500.000.000650.000.0001.400.000.000730.000.000460.000.0001.260.000.000416.000.000168.000.000416.000.000510.000.000388.000.000320.000.000319.000.000280.000.000350.000.000261.500.000485.000.000180.000.0001.450.000.000250.000.000408.000.000230.000.000477.000.000280.000.000255.000.000330.000.0001.200.000.000345.000.0002.200.000.000450.000.0003.000.000.000595.000.000260.000.000260.000.000640.000.000385.000.000600.000.000475.000.000825.000.000415.000.000430.000.000460.000.000450.000.0003.500.000.000255.000.000260.000.000261.500.000408.000.000408.000.000116.000.000505.000.000510.000.000167.000.000419.600.000534.000.000445.000.000300.000.000354.000.000299.000.000690.000.000508.000.000442.436.000232.000.000285.000.000277.000.000188.000.000385.000.000489.000.000340.000.000323.000.0001.170.000.000450.000.000580.000.000408.000.000730.000.000280.000.000298.500.000411.000.000270.000.000318.000.000550.000.0001.150.000.0001.200.000.0002.900.000.0002.800.000.000900.000.000290.500.000474.500.0001.100.000.000390.000.000875.000.000375.000.000349.000.0001.300.000.0002.865.000.000406.000.000920.000.000519.000.000500.000.0003.600.000.000280.000.000225.000.000451.000.000350.000.000491.000.0001.550.000.000560.000.0001.250.000.000980.000.0001.250.000.0002.800.000.0002.200.000.0005.500.000.000165.000.000261.500.000405.000.000423.000.000500.000.000550.000.0001.050.000.0001.490.000.000600.000.000273.000.000268.000.000315.000.000458.000.000258.000.000670.000.000274.000.000290.000.000347.000.000346.000.000739.000.000900.000.000316.000.000739.000.000739.000.000350.000.000350.000.000739.000.000528.000.000840.000.0001.000.000.000739.000.000330.000.000418.000.000354.000.000490.000.000980.000.000615.000.0001.500.000.000830.000.0002.500.000.000335.000.0002.150.000.0001.000.000.0001.100.000.000450.000.000980.000.000250.000.0001.800.000.0001.500.000.000295.000.0001.280.000.000920.000.000900.000.000870.000.000750.000.0001.700.000.0001.600.000.000860.000.000116.000.000332.808.000340.000.000411.000.000500.000.0001.550.000.0001.080.000.0002.200.000.0007.500.000.000390.000.000245.000.0002.700.000.0001.000.000.000397.000.0007.000.000.000418.000.000468.000.000422.000.000396.000.0007.200.000.000740.000.000451.000.000350.000.000440.000.000720.000.0001.300.000.0001.300.000.0002.300.000.000900.000.000290.500.000474.500.0002.200.000.000120.000.000116.000.000168.000.0001.150.000.0001.680.000.000680.000.000740.000.0001.850.000.000750.000.000820.000.000890.000.0001.500.000.000460.000.0001.350.000.000435.000.0002.000.000.000145.000.000398.000.000320.000.000950.000.000760.000.000550.000.000450.000.000560.000.000880.000.0001.400.000.000730.000.000650.000.000380.000.000550.000.000416.000.000680.000.000330.000.0002.000.000.000170.000.000390.000.000320.000.000890.000.000450.000.000404.000.000150.000.000850.000.000624.750.000249.000.000142.000.000510.000.000235.000.000950.000.000290.000.000900.000.000180.000.000180.000.000310.000.0001.100.000.000303.960.000303.960.0001.040.000.000350.000.000115.000.000330.000.0002.200.000.000129.000.000205.000.000760.000.000311.000.000739.000.000528.000.000739.000.0001.600.000.0001.300.000.000739.000.000528.000.000134.000.0001.750.000.000350.000.000365.000.000550.000.000330.000.000172.000.000169.000.000250.000.000380.000.000170.000.000210.000.0001.000.000.000311.000.000315.000.000148.000.000190.000.000365.000.000169.000.000177.000.000169.000.000200.000.000190.000.000400.000.000176.000.000177.000.000170.000.000172.000.000241.200.000275.000.000700.000.000690.000.000435.000.000415.000.000190.000.000365.000.000226.000.000116.000.000360.000.000739.000.000739.000.000520.000.000170.000.000510.000.000388.000.000261.500.000485.000.000416.000.000180.000.000230.000.000350.000.000430.000.000550.000.000245.000.000162.000.000680.000.000330.000.000142.000.000119.000.000348.000.000116.000.000119.000.000323.000.000130.000.000130.000.0001.600.000.000228.000.000840.000.000315.000.000325.000.0001.495.000.000397.000.000397.000.000455.000.000575.000.000327.000.000750.000.000272.250.000440.000.000265.000.000510.000.000795.000.000550.000.000785.000.000570.000.000340.000.000475.000.000440.000.000500.000.000450.000.0001.540.000.000171.000.000300.000.0001.250.000.000300.000.000155.000.0001.170.000.000890.000.000130.000.000371.000.000320.000.000217.000.000369.000.000285.000.0003.850.000.000460.000.000530.000.0002.200.000.000499.500.0004.000.000.000138.000.000134.000.000115.500.000126.000.000860.000.000500.000.000634.000.000450.000.000500.000.000500.000.000500.000.000870.000.000680.000.000900.000.000670.000.000245.500.0001.650.000.000630.000.000795.000.000690.000.000499.000.0004.000.000.000199.000.000300.000.0001.200.000.000300.000.0001.170.000.000371.000.0001.250.000.000840.000.000337.110.000130.000.0001.480.000.0001.190.000.000115.000.000285.000.000323.000.000194.000.000323.000.0001.100.000.000670.000.000490.000.000630.000.0003.000.000.000400.000.000300.000.000720.000.000800.000.000508.000.000200.000.000620.000.000168.000.000144.000.000715.000.000850.000.000690.000.000400.000.000550.000.000980.000.000385.000.000380.000.000960.000.000560.000.000175.000.000175.000.000500.000.000225.000.000499.500.000980.000.000500.000.000522.000.000895.000.000140.000.000320.000.000354.000.000186.000.000397.000.000397.000.000397.000.000245.000.000354.000.000397.000.000361.000.000397.000.000397.000.000354.000.000190.000.000420.000.000550.000.000220.000.000500.000.000250.000.000177.000.0001.700.000.000165.000.000850.000.000353.000.000680.000.000400.000.000550.000.0002.600.000.000275.000.000475.000.000355.000.000996.000.000180.000.000121.000.000300.000.000167.000.0001.950.000.000650.000.000530.000.000450.000.000275.000.000550.000.0001.090.000.000210.000.000475.000.000500.000.000735.000.0001.000.000.000290.000.000165.000.000169.000.000176.000.0001.950.000.000144.000.000435.000.000175.000.000390.000.000259.000.000368.000.000310.000.000580.000.000360.000.000278.000.000323.000.000176.500.000278.000.000148.000.000250.000.000295.000.000980.000.000230.000.000950.000.000390.500.000460.000.000545.000.0003.000.000.000460.000.000149.000.000149.000.000700.000.000250.000.000550.000.000498.000.000290.500.000158.000.000337.110.000130.000.000490.000.000800.000.0001.395.000.000250.000.000310.000.000168.000.000600.000.0003.000.000.0002.900.000.000115.000.000194.000.000323.000.000900.000.000950.000.0001.100.000.000285.000.000323.000.000508.000.000720.000.000385.000.000486.000.000255.000.000395.000.0002.000.000.000460.000.000470.000.000190.000.000255.000.000278.000.000400.000.000340.000.000173.500.000525.000.000137.000.000390.500.000180.000.000490.000.000148.000.000278.000.000468.000.000360.000.000255.000.000390.500.000490.000.0001.000.000.000720.000.000265.000.000315.000.000680.000.000730.000.000169.000.000177.000.000177.000.000148.000.000190.000.000380.000.000210.000.0001.040.000.000550.000.000111.000.000217.000.000237.000.000220.000.000322.000.000115.000.000310.000.000134.000.000900.000.000311.000.000149.000.0004.750.000.0003.200.000.0003.200.000.000397.000.000397.000.000397.000.000245.000.000186.000.000354.000.000397.000.000395.000.000390.000.000700.000.0001.250.000.000312.000.000460.000.000475.000.000483.000.000449.500.000173.000.000153.000.000285.000.000173.000.000465.000.000630.000.000849.000.000500.000.000700.000.000475.000.000450.000.0002.600.000.000449.500.0001.250.000.000422.000.000483.000.000350.000.000460.000.000430.000.000550.000.000475.000.000995.000.0004.200.000.000356.000.0001.300.000.000400.000.0002.520.000.000426.000.000390.500.0001.450.000.000491.000.000550.000.0001.000.000.000550.000.000960.000.000353.000.000475.000.000260.000.000515.000.0001.600.000.000255.000.000420.000.0001.800.000.000825.000.000289.900.000449.000.000152.000.000980.000.000860.000.0001.480.000.000870.000.0001.950.000.000148.000.000180.000.0001.158.199.973404.000.000360.000.000315.000.000473.000.000203.000.000203.823.0001.200.000.000143.000.000165.000.000235.000.0001.800.000.000360.000.000275.000.000190.000.000400.000.000145.000.000220.000.000515.000.000468.000.000360.000.000411.000.000535.000.000700.000.000520.000.000515.000.000410.000.000220.000.000144.000.000995.000.000980.000.000820.000.000196.000.000535.000.0001.250.000.000255.000.000475.000.000330.000.000295.000.000475.000.000116.000.000377.900.000310.000.000490.000.0002.000.000.000196.000.000560.000.000113.000.000419.000.000345.000.000136.600.000360.000.000550.000.0001.036.000.000700.000.000295.000.000522.500.000225.000.000275.000.000830.000.000420.000.000167.000.000550.000.000422.000.000356.000.000385.000.000175.000.000245.000.000700.000.000245.000.000910.000.000895.000.0001.600.000.000242.550.000242.550.000580.000.000700.000.000149.000.000430.000.000780.000.000850.000.000500.000.000203.823.000390.000.000330.000.000241.200.000490.000.0001.050.000.000850.000.000500.000.000458.000.000404.000.000795.000.000196.000.000419.600.000825.000.000290.000.000196.000.0001.050.000.0001.150.000.000430.000.000482.000.000630.000.000345.000.000390.000.000700.000.000458.000.000142.800.000372.000.0001.050.000.000408.000.000220.000.0001.700.000.000365.000.000515.000.000357.000.000500.000.000155.000.000700.000.000330.000.000170.000.000180.000.000180.000.000180.000.0001.200.000.0001.850.000.000180.000.000449.000.000255.000.000420.000.000590.000.0001.500.000.000350.000.000620.000.000500.000.000422.000.000134.000.000870.000.000360.000.000489.000.000680.000.000322.000.000300.000.000475.000.000750.000.000390.000.000496.000.000327.000.000265.000.000500.000.000440.000.0001.540.000.000870.000.0001.195.000.000585.000.000400.000.000735.000.000390.000.000390.000.000530.000.000390.000.0001.250.000.000630.000.000456.000.000228.000.000180.000.000470.000.000550.000.000415.000.000380.000.000136.000.000900.000.000995.000.000476.500.000460.000.000155.000.000390.000.000259.000.000368.000.000580.000.000278.000.000323.000.000176.500.000472.000.0001.290.000.000380.000.000710.000.000750.000.000272.250.000310.000.000144.000.000435.000.0001.950.000.000175.000.000520.000.000456.000.000168.000.000950.000.000390.500.000250.000.000460.000.000353.000.000585.000.000488.000.000397.000.000720.000.0001.000.000.0001.150.000.000465.000.000390.000.000535.000.000700.000.000483.000.000449.500.0001.250.000.000460.000.000422.000.000475.000.000475.000.000450.000.0002.600.000.0001.250.000.000390.500.000400.000.000356.000.0001.300.000.000491.000.000550.000.0002.900.000.000850.000.000330.000.000995.000.000203.823.000390.000.000230.000.000600.000.000187.000.000687.000.000419.600.000165.000.000399.000.000510.000.000282.150.000520.000.000370.260.000129.000.000550.000.000487.000.000749.000.000373.000.000153.000.000550.000.000516.000.000322.000.000900.000.000354.000.000650.000.000393.000.000210.000.000144.000.000323.000.000270.000.0001.050.000.0001.250.000.0001.000.000.000230.000.000190.080.000150.000.000640.000.000372.000.000460.000.000550.000.000449.000.000354.000.0003.100.000.000830.000.000310.000.000450.000.000490.000.000380.000.0001.500.000.000470.000.000491.000.000390.000.000460.000.000390.000.000270.000.0001.800.000.000430.000.000550.000.000825.000.000475.000.000995.000.000650.000.000610.000.000152.000.000280.000.000820.000.000260.000.000390.000.000153.000.0001.615.000.000520.000.000475.000.000242.550.000255.000.0001.200.000.000491.000.000400.000.000390.500.000390.500.000475.000.0001.550.000.0001.150.000.0001.050.000.000522.500.000245.000.000630.000.000330.000.0001.050.000.000408.000.000870.000.000409.000.000510.000.000482.000.000430.000.000535.000.000372.760.0001.380.000.000450.000.000440.000.0001.600.000.000280.000.000320.000.000390.000.000177.000.000825.000.0001.550.000.000175.000.000167.000.000153.000.000428.000.000530.000.000358.000.000256.000.000525.000.000153.000.000475.000.000210.000.000365.000.000335.000.000520.000.000550.000.000365.000.000116.000.000265.000.000290.000.000250.000.000360.000.0001.350.000.000375.000.000500.000.000780.000.000667.000.000496.000.000372.000.000295.000.000420.000.000330.000.000330.000.000205.000.000116.000.000437.000.000437.000.000330.000.0001.450.000.000365.000.000830.000.000450.000.000530.000.000290.500.000266.000.0002.550.000.000528.000.000130.000.0001.700.000.000980.000.000629.000.000430.000.000360.000.000220.800.0001.050.000.000850.000.000830.000.000220.800.000500.000.000458.000.000196.000.000196.000.000560.000.000113.000.000345.000.0001.036.000.000377.900.000475.000.000310.000.000475.000.000490.000.0002.000.000.000255.000.000550.000.0001.250.000.000700.000.000295.000.000330.000.000630.000.000142.800.000372.000.0001.050.000.000408.000.000345.000.000390.000.000700.000.000458.000.000680.000.000330.000.000158.000.000510.000.000387.000.000310.000.000455.000.000580.000.000739.000.000335.000.000462.000.0001.100.000.000620.000.000880.000.0002.200.000.0001.050.000.0001.200.000.000595.000.000479.000.000371.000.000347.000.000489.000.000298.000.000207.000.000167.000.000850.000.0001.400.000.000601.000.000483.000.000422.000.000350.000.000404.000.000398.422.000285.000.0002.200.000.0001.250.000.000130.000.000130.000.000479.000.000270.000.0001.050.000.000354.000.000900.000.000129.000.000550.000.000153.000.000550.000.000516.000.000650.000.000749.000.000322.000.000487.000.000260.000.000490.000.000322.000.0001.100.000.000370.000.000990.000.000520.000.0001.050.000.000180.000.000381.000.000285.000.000440.000.000277.000.000168.000.000300.000.000145.000.000850.000.000155.000.000587.000.000450.000.000290.000.000385.000.000137.000.0001.100.000.000119.000.000450.000.000870.000.000158.000.000152.000.000177.000.000525.000.000570.000.000167.500.000880.000.000950.000.000116.000.0001.200.000.000298.000.0001.290.000.000800.000.000127.000.000130.000.0002.180.000.000380.000.0001.100.000.000153.000.000160.500.000112.000.000524.000.000750.000.0002.550.000.000385.000.000408.000.000870.000.000158.000.000850.000.000119.000.000450.000.000170.000.000570.000.000920.000.000620.000.000119.000.0002.700.000.000550.000.000980.000.000440.000.000130.000.000460.000.000380.000.000180.000.000560.000.000895.000.000380.000.0001.200.000.000299.900.000330.000.000530.000.000340.000.000300.000.000195.000.000800.000.000660.000.000990.000.0001.100.000.0006.500.000.000800.000.000258.000.000130.000.000540.000.000480.000.000500.000.000500.000.0004.729.592.0005.500.000.000470.000.0001.400.000.000620.000.000580.000.000400.000.0004.000.000.0001.050.000.000650.000.000920.000.000920.000.000295.000.000269.500.000350.000.000950.000.000420.000.000491.000.000650.000.000495.000.000420.000.000234.000.000189.000.000950.000.000686.000.0001.100.000.0001.750.000.000434.000.000331.000.008700.000.000336.000.000700.000.000950.000.000265.200.000190.000.000425.000.000390.000.000338.000.000165.000.000269.500.000150.500.000450.000.000850.000.000370.000.000635.000.000790.000.000340.000.000320.000.000215.000.000423.000.0001.200.000.000430.000.000380.000.008700.000.000370.000.000718.000.000339.800.000450.000.000635.000.000215.000.000820.000.000339.800.0001.200.000.000450.000.000430.000.0081.200.000.000299.900.000330.000.000340.000.000530.000.000300.000.000195.000.000800.000.000990.000.000660.000.0006.500.000.000800.000.000258.000.0001.100.000.0001.400.000.000500.000.000480.000.000540.000.000470.000.0004.729.592.0005.500.000.000130.000.000500.000.000422.000.000167.000.0001.100.000.000298.000.000650.000.000686.000.0001.750.000.000434.000.000350.000.000420.000.000620.000.000495.000.000405.000.0001.300.000.000650.000.000150.000.000330.000.000400.000.000250.000.000920.000.000650.000.0001.630.000.000546.000.000548.000.000495.000.0004.000.000.000269.500.000234.000.000189.000.000420.000.000495.000.000920.000.000150.000.000330.000.000495.000.000650.000.000950.000.0001.050.000.000189.000.000295.000.000269.500.000920.000.000420.000.000950.000.000500.000.000580.000.0002.400.000.000189.000.000818.000.000950.000.000350.000.000165.000.000530.000.000550.000.000880.000.000182.000.000700.000.000980.000.000650.000.000398.000.000385.000.000340.000.000580.000.000140.000.000380.000.000470.000.000545.000.000337.000.000580.000.000500.000.000498.000.000820.000.000116.000.000131.000.000175.000.000460.000.000170.000.000470.000.0001.300.000.000235.000.000289.000.000425.000.000535.000.000598.000.0001.450.000.000534.000.000860.000.000500.000.000800.000.000330.000.000800.000.000330.000.000535.000.000575.000.000120.000.000380.000.000160.000.000146.500.000230.000.000115.000.000780.000.000474.000.000125.500.000519.000.0001.200.000.000720.000.000330.000.000328.000.000110.533.500132.000.0003.960.000.000199.000.000125.000.000375.000.000215.000.000397.000.000263.000.000146.000.000205.000.000139.000.000265.000.000218.000.000428.000.000500.000.000132.000.000110.533.500199.000.000490.000.000380.000.000520.000.000470.000.000370.000.000380.000.0001.300.000.000260.000.000711.000.000450.000.000340.000.000800.000.000132.000.0001.200.000.000128.000.000530.000.000370.000.000620.000.000525.000.000510.000.0001.100.000.000230.000.000395.000.000860.000.000500.000.000800.000.000330.000.000535.000.000575.000.000230.000.000115.000.000780.000.000474.000.0001.200.000.000720.000.000125.500.000397.000.000330.000.000519.000.000215.000.000263.000.000375.000.000125.000.000146.500.000160.000.000380.000.000120.000.000110.533.500205.000.000328.000.000450.000.000428.000.000218.000.000146.000.000139.000.000132.000.000199.000.000500.000.000490.000.0003.960.000.000250.000.000380.000.000850.000.000265.000.000260.000.0001.300.000.000380.000.000520.000.000450.000.000470.000.000370.000.000711.000.000340.000.000800.000.000132.000.0001.200.000.000128.000.000530.000.000205.000.000445.000.000380.000.000889.698.927270.000.000360.000.000450.000.000298.000.000260.000.00098.000.000187.000.000134.000.000117.000.000200.000.000285.000.000215.000.000244.000.000262.000.000500.000.000468.000.000290.000.000330.000.000116.000.000297.000.000242.000.000327.000.000257.000.000465.000.000337.000.000398.422.000163.000.000257.000.000477.000.000298.500.000131.000.000167.000.000380.000.000110.000.000355.000.000160.000.000222.000.000180.000.000407.000.000154.000.000357.000.000152.000.000187.000.000105.000.000154.000.000124.000.000145.660.000152.000.000245.000.00082.000.000396.000.000132.000.000170.000.000250.000.000340.000.000490.000.000328.000.000199.000.000120.000.000121.000.000110.000.000558.000.000150.000.000330.000.000191.070.000230.000.000180.000.000365.000.000133.000.000136.620.000171.000.000118.500.000186.000.000116.000.000500.000.00092.500.000188.000.000146.000.000200.000.000172.000.000168.000.000129.500.000159.000.000418.000.000423.000.000126.000.000448.000.000162.000.000145.000.000133.000.000152.000.000135.000.000167.000.000230.000.000127.500.000408.000.000290.000.000266.000.000278.000.000143.500.000145.530.000159.000.000186.000.000109.000.000177.000.000340.000.000205.000.000200.000.000142.000.000180.000.000397.000.000153.000.000275.000.000118.000.000320.000.000189.000.000480.700.000445.000.000292.000.000450.000.000240.600.000380.000.000133.000.000152.000.000151.500.000500.000.000327.000.000138.000.000204.930.000116.820.000245.000.000442.436.000348.000.000277.000.000126.000.000205.000.000440.000.000251.000.00099.000.000154.000.000172.000.000249.000.000310.000.000202.000.000369.000.000184.500.00084.150.000134.000.000306.000.000170.000.000295.000.000353.000.000270.000.000177.000.000312.000.000270.000.000202.000.000138.000.000327.000.000116.820.000295.000.000296.000.000204.930.000171.000.000186.000.000120.000.000205.000.000440.000.000500.000.000350.000.000167.000.000251.000.000205.000.000225.000.000176.000.000505.000.000280.000.000262.000.000500.000.000468.000.000290.000.000330.000.000116.000.000297.000.000242.000.000327.000.000257.000.000465.000.000337.000.000244.000.000398.422.00098.000.000187.000.000200.000.000285.000.000215.000.000134.000.000117.000.000163.000.000257.000.000477.000.000182.000.000200.000.000141.000.000170.000.000390.000.000320.000.000180.000.000131.000.000171.000.000298.500.000141.000.000320.000.000125.000.000185.000.000126.000.000145.500.000163.500.000332.000.000210.000.000177.000.000180.000.000610.000.000193.000.000152.000.000160.000.000133.000.000190.000.000153.000.000127.500.00095.000.000322.000.000150.000.000115.000.000162.000.000280.000.000129.000.000140.000.000212.000.000123.000.000138.000.000280.000.000162.000.000182.000.000200.000.000110.000.000115.000.000114.000.000380.000.000165.330.000450.000.000160.000.000143.000.000375.000.000292.000.000230.000.000408.000.000290.000.000320.000.000180.000.000153.000.000278.000.000175.000.000397.000.000240.600.000118.000.000275.000.000482.000.000108.000.000234.000.000125.000.000152.000.000133.000.000380.000.000145.000.000145.000.000365.000.000146.000.000180.000.000171.000.000188.000.000133.000.000136.620.000116.000.000500.000.000118.500.000186.000.00092.500.000496.000.000634.000.000350.000.000126.000.000277.000.000185.869.000186.000.000177.000.000205.000.000440.000.000442.436.000348.000.000500.000.000165.000.000309.000.000138.000.000208.000.000300.000.000483.000.000158.000.000110.500.000103.000.000300.000.000102.000.000309.000.000297.000.000182.000.000190.000.000450.000.000132.000.000119.000.000260.000.000200.000.000131.000.000160.000.000112.000.000253.500.000246.000.000510.000.000127.000.000250.000.000136.600.000270.000.000144.000.000197.000.000249.500.000141.000.000387.000.000300.000.000270.000.000119.000.000265.000.000166.000.000181.000.000190.000.000148.000.000560.000.000400.000.0002.000.000.000550.000.000800.000.000700.000.000340.000.000550.000.000450.000.000195.000.000750.000.000240.000.000450.000.000390.000.0001.500.000.000155.000.000320.000.000780.000.000200.000.000560.000.000800.000.000660.000.000380.000.0001.200.000.000155.000.000460.000.000550.000.000800.000.000700.000.000195.000.0001.100.000.000920.000.000150.000.000210.000.000195.000.000133.000.000120.000.000255.000.0001.700.000.000130.000.000180.000.000750.000.000420.000.000265.000.000140.000.0001.400.000.000320.000.000170.000.000420.000.000630.000.000290.000.000750.000.0001.400.000.000120.000.000133.000.000255.000.000130.000.000180.000.000140.000.000420.000.000265.000.000168.000.000295.000.000250.000.000160.000.000300.000.0001.400.000.000500.000.000300.000.000134.999.998280.000.000420.000.000260.000.000140.000.000290.000.0001.300.000.0001.080.000.000145.000.000190.000.000180.000.000450.000.000990.000.0001.900.000.000200.000.000320.000.000300.000.000600.000.000900.000.000320.000.000250.000.000750.000.000160.000.000230.000.0001.350.000.000395.000.000600.000.000150.000.000620.000.000690.000.0001.300.000.0001.590.000.000220.000.000230.000.000340.000.0001.500.000.0001.050.000.000850.000.0001.700.000.0001.650.000.000539.000.000400.000.000165.000.000290.000.000295.000.000250.000.000140.000.000420.000.000300.000.000134.999.998260.000.000280.000.000300.000.0001.400.000.0002.200.000.000700.000.000930.000.000160.000.000500.000.000450.000.000390.000.0001.080.000.000990.000.000145.000.000780.000.0001.900.000.0001.000.000.000320.000.000990.000.000300.000.000160.000.000750.000.000230.000.0001.050.000.0001.350.000.000560.000.0001.850.000.000350.000.000670.000.000370.000.000280.000.000430.000.000450.000.000505.000.000430.000.000450.000.0001.300.000.0001.590.000.000320.000.000320.000.000395.000.000600.000.000900.000.000250.000.000300.000.000780.000.000162.000.0001.590.000.000340.000.0001.500.000.000220.000.000850.000.000780.000.000115.000.000200.000.000550.000.000430.000.000600.000.000465.000.000650.000.000400.000.0001.200.000.000398.000.000160.000.000680.000.000330.000.000649.000.000700.000.000820.000.000180.000.000390.000.0001.080.000.000990.000.000145.000.000190.000.000450.000.000125.000.000580.000.000535.000.0001.350.000.000190.000.000150.000.0001.100.000.000750.000.000180.000.0001.900.000.000750.000.000880.000.000110.000.0001.050.000.000230.000.000240.000.000660.000.000160.000.000170.000.000460.000.000190.000.000540.000.000700.000.000197.000.000130.000.000680.000.000820.000.000649.000.000180.000.000430.000.000470.000.000187.000.0001.100.000.0001.500.000.000490.000.000370.000.000320.000.000275.000.0001.800.000.000320.000.000380.000.000700.000.000230.000.000290.000.0001.150.000.000115.000.000200.000.000470.000.000550.000.000300.000.000650.000.000230.000.000670.000.000355.000.000430.000.000680.000.000330.000.000950.000.000398.000.000465.000.000600.000.000670.000.000360.000.000580.000.000260.000.000550.000.000185.000.000163.000.000665.000.000750.000.000312.000.000300.000.0001.050.000.000460.000.000560.000.000197.000.000580.000.000535.000.0001.350.000.000180.000.0001.900.000.000600.000.000280.000.000140.000.000160.000.000170.000.000660.000.000230.000.000240.000.000110.000.000540.000.0003.500.000.000188.000.000848.000.0001.150.000.000510.000.000310.000.000145.000.000699.000.000490.000.000200.000.000300.000.000196.000.000570.000.000330.000.000480.000.0001.500.000.000900.000.000480.000.0001.100.000.000698.000.0001.300.000.000400.000.000330.000.000650.000.000340.000.0002.000.000.000155.000.000750.000.000155.000.000760.000.000700.000.000430.000.000160.000.000550.000.000465.000.000600.000.000580.000.000398.000.000330.000.000312.000.000560.000.000490.000.000200.000.000650.000.000900.000.0001.850.000.000130.000.000320.000.000150.000.000190.000.000800.000.000190.000.0001.550.000.000400.000.000650.000.000135.000.000550.000.000700.000.0001.600.000.0001.500.000.000205.000.000649.000.000150.000.000230.000.000730.000.000200.000.000205.000.000430.000.000610.000.000260.000.0001.800.000.0001.300.000.000520.000.000650.000.0001.600.000.0001.300.000.0001.500.000.000430.000.000185.000.000310.000.000400.000.000650.000.000135.000.000240.000.000190.000.000130.000.0001.550.000.000250.000.000390.000.000320.000.000185.000.000310.000.000390.000.000250.000.000500.000.000550.000.000700.000.000649.000.000820.000.000700.000.000150.000.000530.000.000780.000.000286.500.0001.150.000.000650.000.000115.000.000850.000.0001.400.000.000160.000.000520.000.000270.000.000700.000.000200.000.000150.000.000730.000.000230.000.000390.000.0001.300.000.000350.000.000130.000.000390.000.000190.000.0001.550.000.000365.000.000220.000.000310.000.000400.000.000650.000.000135.000.000700.000.0001.600.000.000165.000.000620.000.0001.850.000.000240.000.000800.000.000300.000.000185.000.000290.000.000430.000.000550.000.000650.000.000150.000.000230.000.000700.000.000730.000.000600.000.000290.000.000205.000.000560.000.0001.500.000.000390.000.000200.000.000380.000.000450.000.000155.000.000460.000.000610.000.000800.000.000210.000.000320.000.000195.000.0001.100.000.000920.000.000340.000.000550.000.0002.000.000.000155.000.000150.000.000780.000.000660.000.000550.000.000400.000.000170.000.000420.000.000355.000.000650.000.000600.000.000805.000.000200.000.000850.000.000170.000.000335.000.000250.000.000850.000.000215.000.0001.200.000.000950.000.000510.000.000480.000.000480.000.000235.000.000600.000.000649.999.999650.000.0001.300.000.000300.000.000290.000.000210.000.000125.000.000440.000.000600.000.000175.000.000900.000.000125.000.0001.200.000.000145.000.000130.000.000500.000.000200.000.000590.000.000400.000.000365.000.000130.000.000137.000.000550.000.000185.000.0001.100.000.000430.000.000375.000.000110.000.000110.000.000150.000.000560.000.000468.000.000130.000.0001.950.000.000668.000.000180.000.000400.000.000700.000.000200.000.000340.000.000349.000.000850.000.000300.000.000550.000.0001.300.000.000150.000.000350.000.000430.000.000500.000.000145.000.000600.000.000850.000.0001.700.000.0001.650.000.000539.000.000400.000.000165.000.000290.000.000295.000.000250.000.000140.000.000420.000.000300.000.000134.999.998260.000.000280.000.000300.000.0001.400.000.0002.200.000.000700.000.000930.000.000160.000.000500.000.000450.000.000390.000.0001.080.000.000470.000.000600.000.000320.000.000700.000.000180.000.000850.000.000155.000.000164.000.000490.000.000410.000.000750.000.000130.000.000550.000.000177.600.000560.000.000780.000.000380.000.000160.000.0001.700.000.0001.050.000.000650.000.000170.000.0001.301.265.0001.200.000.000155.000.000185.000.000190.000.000200.000.000190.000.000500.000.000170.000.000155.000.000180.000.000230.000.000380.000.000280.000.000320.000.000320.000.0001.170.000.000450.000.000650.000.000800.000.000245.000.0001.100.000.000850.000.000540.000.000210.000.000225.000.000350.000.000210.000.000310.000.000225.000.000160.000.000170.000.000500.000.000400.000.000110.000.000550.000.000510.000.000950.000.000890.000.000720.000.000480.000.000169.000.000378.000.000290.000.000355.000.000550.000.000170.000.000600.000.000200.000.000630.000.000285.000.000520.000.000170.000.000560.000.000410.000.000800.000.000175.000.000270.000.000140.000.0001.000.000.000120.000.000478.900.000260.000.000650.000.0002.600.000.000170.000.000420.000.000700.000.000380.000.000170.000.000385.000.000530.000.0001.300.000.000160.000.000580.000.000820.000.000180.000.0002.350.000.000948.000.000260.000.000360.000.000385.000.000250.000.000165.000.000308.000.000330.000.000128.000.000850.000.000153.500.000450.000.000530.000.000520.000.000400.000.000600.000.0003.500.000.000400.000.000360.000.000300.000.000850.000.000500.000.000350.000.000750.000.000450.000.000670.000.000270.000.000180.000.000270.000.000450.000.000175.000.000550.000.000140.000.000478.900.000250.000.000800.000.000400.000.000110.000.000230.000.000450.000.000380.000.000530.000.000160.000.000400.000.0001.170.000.000320.000.000153.500.000290.000.000245.000.0003.500.000.000660.000.000230.000.000240.000.000110.000.000540.000.000700.000.000685.000.000180.000.000450.000.000880.000.000230.000.000550.000.000560.000.000120.000.000220.000.000420.000.000190.000.000180.000.000450.000.000180.000.0001.300.000.0001.100.000.000750.000.000310.000.000300.000.000848.000.000145.000.000699.000.000196.000.000570.000.0001.300.000.000200.000.000515.000.000680.000.000155.000.000400.000.000320.000.000140.000.000450.000.0001.300.000.000820.000.000350.000.000530.000.000600.000.000710.000.000168.000.000280.000.000520.000.0001.400.000.000250.000.0001.000.000.000600.000.000130.000.000120.000.000460.000.000620.000.0001.050.000.000240.000.000135.000.000120.000.000135.000.000550.000.000700.000.0001.600.000.0001.500.000.000165.000.000750.000.0001.120.000.000330.000.000620.000.0002.000.000.000155.000.000245.000.000240.000.0001.300.000.000400.000.000220.000.000365.000.000340.000.000480.000.000480.000.0001.100.000.000698.000.000785.000.000700.000.000155.000.0001.000.000.0001.200.000.000300.000.000550.000.000730.000.000135.000.000250.000.000800.000.000660.000.000380.000.000600.000.000480.000.000485.000.000385.000.000500.000.0001.600.000.000309.000.000260.000.0001.300.000.000340.000.000400.000.000590.000.0001.200.000.000550.000.000680.000.000330.000.000240.000.0001.200.000.000240.000.000310.000.000430.000.000198.000.000120.000.000750.000.000155.000.0001.820.000.000420.000.000900.000.000370.000.000230.000.000480.000.000450.000.000380.000.000370.000.000210.000.000850.000.000340.000.000420.000.000497.000.000340.000.000174.999.999430.000.0001.300.000.000240.000.000300.000.000430.000.000300.000.000850.000.000900.000.000420.000.000120.000.0001.000.000.000850.000.000690.000.000250.000.000174.999.9991.250.000.000250.000.000198.000.000850.000.000340.000.000497.000.000420.000.000999.000.000240.000.0001.200.000.000125.000.000380.000.000300.000.000250.000.000485.000.000159.000.000135.000.000302.800.000370.000.000359.000.000279.000.000222.000.000379.000.000465.000.000720.000.000515.000.000640.000.000266.000.000720.000.000640.000.000275.000.000195.000.000165.000.000410.000.000300.000.000650.000.000635.000.000550.000.000140.000.000230.000.000445.000.000270.000.000150.000.000160.000.000440.000.000285.000.000250.000.000600.000.000320.000.000210.000.000780.000.000310.000.000290.000.000410.000.000460.000.000361.000.000395.000.000468.000.000234.000.000285.000.000250.000.000600.000.000361.000.000460.000.000320.000.000290.000.000410.000.000310.000.000210.000.000780.000.000570.000.0002.500.000.000200.000.000270.000.000360.000.000480.000.000590.000.0001.600.000.000850.000.000230.000.000330.000.000800.000.000560.000.000430.000.000265.000.000133.000.000950.000.000275.000.000519.000.0001.100.000.000650.000.000140.000.0001.200.000.000285.000.000250.000.000320.000.000361.000.000460.000.000600.000.000290.000.000410.000.000310.000.000210.000.000780.000.000550.000.000550.000.000180.000.0001.700.000.000252.000.000145.000.000340.000.000175.000.000490.000.000128.000.000165.000.000440.000.000410.000.000850.000.000158.000.0001.950.000.000275.000.000560.000.000225.000.000145.000.000185.000.000116.100.000550.000.000117.000.000260.000.000890.000.000180.000.0001.500.000.000500.000.000300.000.000380.000.000485.000.000360.000.000640.000.000195.000.000565.000.000650.000.000560.000.000596.614.000373.226.000389.708.000456.742.000596.614.000389.708.000373.226.000495.000.000850.000.000900.000.000389.708.000214.900.000347.429.519365.000.000422.000.000580.000.000560.000.0001.030.000.000450.000.000340.200.000150.000.000171.171.000350.000.000420.000.000272.000.000162.000.000255.000.000255.000.000340.000.000405.000.000210.000.000109.385.000395.000.000210.000.000189.600.000190.000.000420.000.000340.000.000500.000.000343.000.000177.000.000281.000.000260.000.0001.690.000.0002.101.242.0001.050.000.000150.000.000456.820.992167.700.000182.800.000192.800.000189.000.000300.000.000410.000.000342.000.000398.800.000300.000.000599.000.000595.000.0001.150.000.138790.000.00010.451.500.0001.995.000.0461.573.191.375406.000.000320.000.000267.000.000450.000.000135.000.00095.000.000160.000.000405.000.000320.000.000405.000.000320.000.000340.000.000109.385.000260.000.000425.000.000515.000.000256.500.000325.000.000340.000.000180.000.000239.000.000345.000.000202.000.000127.000.000175.000.0002.515.535.000650.000.000439.516.0001.000.000.000360.000.000370.000.0001.300.000.000680.000.000450.000.000382.000.000180.000.000222.000.000202.000.000463.000.000420.000.000375.000.000835.000.000460.000.000550.000.000320.000.000330.000.000128.000.000117.000.000260.000.000477.000.0001.600.000.000510.000.000473.000.000485.000.000580.000.000310.000.000180.000.000250.000.000310.000.000200.000.000790.000.000950.000.0005.000.000.0001.100.000.0001.800.000.000550.000.000410.000.000155.000.0001.100.000.0001.000.000.000185.000.000180.000.000138.000.000180.000.000193.000.000650.000.000601.000.0001.310.000.000185.000.000163.000.000355.000.000205.000.000177.500.000370.000.000435.000.000395.000.000195.000.000140.000.000210.000.000810.000.0001.380.000.000700.000.000475.000.000182.000.000355.000.000457.000.000355.000.000120.000.000340.000.000280.000.000453.500.000210.000.000600.000.000210.000.000230.000.000195.000.000202.000.000195.000.000190.000.000470.000.000355.000.000245.000.000453.500.000370.000.000330.000.000150.000.000255.000.000280.000.000324.000.000166.000.000260.000.000453.500.000650.000.000750.000.000190.000.000202.000.000205.000.000205.000.000870.000.000109.000.000205.000.0002.133.000.000202.000.000166.000.000320.000.000120.000.000415.000.000453.500.000400.000.000550.000.0002.800.000.000355.000.000166.000.000185.000.000166.000.000453.500.000353.000.000222.000.000409.000.000463.000.000280.000.000450.000.000629.000.000280.000.000310.000.000125.000.000340.000.000450.000.000650.000.000870.000.000850.000.000434.000.000220.000.0004.100.000.000389.708.000214.900.000142.000.000370.000.000135.000.0001.400.000.000184.500.000142.000.000800.000.000485.000.000380.000.000515.000.000260.000.000460.000.000630.000.000850.000.0002.100.000.000776.000.000650.000.000300.000.000410.000.000342.000.000398.800.000300.000.000599.000.000595.000.0001.150.000.138790.000.00010.451.500.0001.995.000.0461.573.191.375406.000.000320.000.000267.000.000450.000.000135.000.00095.000.000160.000.000405.000.000320.000.000405.000.000320.000.000340.000.000109.385.000260.000.000425.000.000515.000.000256.500.000325.000.0001.100.000.000795.000.000120.000.0001.937.500.000440.000.0002.300.000.000340.000.0001.368.000.0001.368.000.000210.000.000220.000.000650.000.000350.000.000220.000.000300.000.000113.000.000380.000.000450.000.000190.000.000423.000.000193.000.000340.000.0001.800.000.000180.000.000205.000.000239.000.000345.000.000202.000.000127.000.000175.000.0002.515.535.000650.000.000202.000.000222.000.000463.000.000180.000.000439.516.0001.000.000.000360.000.0001.300.000.000680.000.000450.000.000370.000.0001.100.000.000310.000.000310.000.000200.000.000180.000.000580.000.000180.000.000155.000.0001.000.000.000185.000.0001.100.000.000180.000.000138.000.000355.000.000457.000.000210.000.000700.000.000182.000.000177.500.000475.000.000355.000.000475.000.000810.000.0001.380.000.000355.000.000222.000.000195.000.000230.000.000195.000.000195.000.000700.000.000475.000.000182.000.000355.000.000457.000.000355.000.000120.000.000340.000.000280.000.000453.500.000210.000.000600.000.000210.000.000230.000.000195.000.000202.000.000195.000.000195.000.000225.000.000166.000.0001.300.000.000225.000.000166.000.000185.000.000222.000.000149.000.000163.000.000410.000.000211.000.000353.000.000163.000.000600.000.000210.000.000340.000.000410.000.000210.000.000280.000.000453.500.000353.000.000166.000.000166.000.0001.300.000.000202.000.000210.000.000355.000.000245.000.000166.000.000370.000.000453.500.000166.000.000205.000.000270.000.000170.000.000276.000.000463.000.000850.000.000355.000.000210.000.000463.000.000860.000.000353.000.000202.000.000320.000.000650.000.000280.000.000324.000.000453.500.000166.000.000255.000.000245.000.000195.000.000195.000.000195.000.000249.000.000275.000.000170.000.000550.000.0006.400.000.000233.000.000420.000.000990.000.000435.000.000355.000.0001.200.000.000291.000.000695.000.000260.000.000150.000.016990.000.000599.000.000260.000.000150.000.016990.000.000958.000.000276.000.000195.000.000700.000.000245.000.000175.000.000420.000.000300.000.000800.000.000380.000.000340.000.000520.000.000230.000.000980.000.000630.000.000341.550.000502.000.000160.000.000399.000.000445.900.000419.990.000281.900.0002.000.000.0001.300.000.000286.000.0001.550.000.000286.000.000420.000.000375.000.0002.500.000.0003.000.000.000710.000.000312.000.000207.400.000850.000.0001.150.000.0001.590.000.000530.000.0001.750.000.000385.000.0001.200.000.0001.080.000.000560.000.000330.000.000730.000.000760.000.000495.000.000540.000.000540.000.000695.000.0003.961.962.0002.317.500.0001.000.000.000390.000.000295.000.0002.317.500.0001.000.000.0003.961.962.0002.200.000.000950.000.000600.000.000495.000.000340.000.0001.300.000.000756.000.0001.400.000.000850.000.000223.000.000460.000.000435.000.000394.000.000450.000.000720.000.000890.000.000518.990.0001.900.000.000780.000.000460.000.000590.000.000470.000.000550.000.000899.800.000780.000.000785.000.0002.499.900.0001.800.000.000690.000.000388.900.0001.550.000.0001.850.000.000510.000.000526.000.0002.200.000.0001.500.000.000175.000.000549.990.000354.000.0002.500.000.000520.000.000750.000.0001.300.000.000530.000.000630.000.000795.000.0001.700.000.000529.000.000850.000.0002.550.000.000350.000.000795.000.0001.550.000.000425.000.000460.000.000170.000.000160.000.000980.000.000270.000.000650.000.000267.000.000487.000.000389.000.000375.000.000370.000.000420.000.0001.490.000.000245.000.000690.000.000369.990.000385.000.000550.000.000399.000.000160.000.000445.900.000419.990.000281.900.0002.000.000.0001.300.000.000286.000.000375.000.0003.000.000.0002.500.000.0001.550.000.000420.000.000286.000.0003.690.000.000500.000.0003.000.000.0001.300.000.0001.350.000.000360.000.0001.200.000.000420.000.000710.000.000854.000.0002.400.000.000108.000.000494.400.000174.000.000340.000.000324.000.0002.200.000.0003.550.000.000400.000.0001.793.000.0001.650.000.000317.000.000450.000.0001.500.000.000180.000.000550.000.000698.000.0001.200.000.000515.000.000390.000.000495.000.000390.000.000590.000.000985.000.000540.000.000210.000.000290.500.0002.050.000.000290.500.0001.200.000.000483.000.0001.800.000.0002.900.000.000950.000.000495.000.000400.000.000315.000.000405.000.000430.000.0001.949.900.0001.500.000.000459.100.0002.500.000.000359.000.000510.000.0002.100.000.000320.000.0002.000.000.000780.000.0002.500.000.000580.000.000203.000.000740.000.000520.000.0001.400.000.0001.250.000.0003.000.000.0001.690.000.000456.000.0002.500.000.000549.990.000388.900.0002.200.000.0003.800.000.000375.000.0004.620.000.0002.499.900.000870.000.000720.000.0001.850.000.000440.000.000354.000.0001.550.000.000510.000.000526.000.0001.500.000.000435.000.000879.000.000690.000.000920.000.0001.250.000.0003.000.000.000879.000.0001.100.000.000920.000.000435.000.000630.000.000795.000.000795.000.000270.000.000170.000.000160.000.000460.000.0001.700.000.000530.000.000350.000.000750.000.000529.000.000850.000.0001.300.000.000650.000.000267.000.000487.000.0001.550.000.000425.000.0002.550.000.000420.000.000375.000.000370.000.000385.000.000360.000.000420.000.000108.000.0002.400.000.000494.400.0001.200.000.000560.000.000174.000.000149.900.000420.000.000470.000.000457.000.000366.000.000480.000.000280.000.000350.000.000253.000.000457.000.000345.000.000402.000.000483.000.000350.000.000278.000.000199.478.700410.000.000260.000.000332.000.000260.000.000258.000.00079.000.00093.000.000140.000.000666.000.000281.000.000167.000.000355.000.000250.000.000730.000.000170.000.000480.000.000285.000.000158.000.000145.000.000190.000.000250.000.000120.000.000250.000.000280.000.000260.000.000285.000.000275.000.000280.000.000145.000.000300.000.000230.000.000200.000.000145.000.000310.000.0002.800.000.000265.000.000360.000.000850.000.000580.000.000410.000.000530.000.000415.800.000700.000.0001.050.000.000660.000.000305.000.000520.000.000360.000.000170.000.000331.000.0001.500.000.0001.400.000.000799.000.000920.000.000450.000.000780.000.000367.000.000450.000.000579.500.000580.000.000180.000.000416.000.000400.000.000180.000.000526.000.0001.430.000.000260.000.000500.000.0002.800.000.000260.000.000370.000.000455.000.000650.000.000750.000.000390.000.000370.000.000565.000.000360.000.000885.000.000257.000.000220.000.000160.000.000180.000.000200.000.000450.000.0001.850.000.000170.000.000320.000.000200.000.000390.000.000360.000.000565.000.000370.000.000257.000.000885.000.000220.000.000230.000.0001.300.000.000650.000.0001.450.000.000320.000.000550.000.000390.000.000970.000.000750.000.000300.000.0001.050.000.000365.000.000580.000.000305.000.0001.350.000.000750.000.000730.000.000430.000.000256.000.0001.650.000.0001.590.000.000285.000.000285.000.000930.000.000190.000.000950.000.000850.000.000898.000.000680.000.000370.000.0001.400.000.000980.000.000305.000.0001.900.000.0001.450.000.000780.000.0001.950.000.000890.000.000630.000.0002.200.000.0001.180.000.000800.000.000290.000.000250.000.0001.290.000.000220.000.000480.000.000550.000.000410.000.000443.100.000589.740.868345.000.000589.740.8681.400.000.000450.000.000645.853.7021.350.000.0001.300.000.0004.600.000.000840.000.000866.522.476440.000.0001.100.000.000375.000.000810.000.000500.000.000394.000.000459.000.000485.000.000372.000.000470.000.000850.000.000722.000.000620.000.000779.000.0003.500.000.000693.000.000700.000.000990.000.000535.000.000400.000.000720.000.000499.000.000480.000.000530.000.000565.000.000460.000.0002.550.000.0001.190.000.0001.700.000.000624.000.000155.000.000330.000.000250.000.000155.000.0002.000.000.000380.000.000650.000.000160.000.000145.000.000650.000.000300.000.0001.300.000.000208.000.000550.000.000520.000.000360.000.000590.000.000167.000.000160.000.000650.000.000145.000.000650.000.0001.050.000.000550.000.000208.000.0001.300.000.000500.000.000189.000.000300.000.000350.000.000280.000.000300.000.000190.000.000498.000.000650.000.000360.000.000395.000.0001.170.000.000650.000.000310.000.000315.000.000520.000.000700.000.000400.000.000170.000.000750.000.000950.000.000950.000.000400.000.000450.000.000200.000.000200.000.000305.000.000385.000.0002.800.000.000600.000.000310.000.000269.500.000170.000.000650.000.0001.170.000.000395.000.000280.000.000820.000.000700.000.000450.000.000370.000.0001.200.000.000730.000.000300.000.000900.000.000295.000.000374.000.000490.000.000600.000.000490.000.000730.000.000300.000.0001.200.000.0001.500.000.000600.000.000900.000.000750.000.000240.000.000590.000.000820.000.0001.350.000.0002.990.000.000220.000.0001.450.000.000451.500.000140.000.000155.000.000750.000.000170.000.000430.000.000800.000.0001.000.000.000790.000.000390.000.000400.000.000160.000.000700.000.000620.000.000500.000.000182.000.000130.000.000500.000.000245.000.000697.000.000380.000.0001.400.000.000780.000.0001.150.000.000940.000.000300.000.000105.000.000200.000.000990.000.000300.000.000290.000.000375.000.000320.000.000415.000.000320.000.0001.500.000.000550.000.000175.000.000480.000.000541.900.000390.000.000200.000.000500.000.000370.000.000175.000.000580.000.000178.000.000260.000.000690.000.000880.000.0003.950.000.000400.000.000140.000.000160.000.000780.000.000605.000.000372.100.000330.000.000287.000.000380.000.000340.000.0003.200.000.000330.000.000140.000.0001.250.000.000165.000.0001.375.000.000615.000.0001.200.000.000555.000.000290.000.000670.000.000900.000.000335.000.000144.990.000'"
            ],
            "application/vnd.google.colaboratory.intrinsic+json": {
              "type": "string"
            }
          },
          "metadata": {},
          "execution_count": 32
        }
      ]
    },
    {
      "cell_type": "code",
      "source": [
        "inmuebles['Precio'] = inmuebles['Precio'].str.replace('.','',regex=True) # Reemplazar el . por vacio en los valores de los inmuebles."
      ],
      "metadata": {
        "id": "O4PZCY0AOTIh"
      },
      "execution_count": 33,
      "outputs": []
    },
    {
      "cell_type": "code",
      "source": [
        "inmuebles[['Precio','Barrio']] # Podemos ver como se ha eliminado el punto"
      ],
      "metadata": {
        "colab": {
          "base_uri": "https://localhost:8080/",
          "height": 424
        },
        "id": "85K4T3OXOm-_",
        "outputId": "ee037666-181d-48d7-b25f-687f170d233a"
      },
      "execution_count": 34,
      "outputs": [
        {
          "output_type": "execute_result",
          "data": {
            "text/plain": [
              "          Precio                  Barrio\n",
              "0      360000000      Zona Noroccidental\n",
              "1      670000000                Castilla\n",
              "2     1120000000         Chico Reservado\n",
              "3      890000000                 Usaquén\n",
              "4      970000000             Bella Suiza\n",
              "...          ...                     ...\n",
              "9515   290000000                 Kennedy\n",
              "9516   670000000  Parque Central Bavaria\n",
              "9517   900000000                Restrepo\n",
              "9518   335000000                Engativa\n",
              "9519   144990000                 Tintala\n",
              "\n",
              "[9520 rows x 2 columns]"
            ],
            "text/html": [
              "\n",
              "  <div id=\"df-38b24b5d-dc01-4f04-bb5d-e705f3a2e456\">\n",
              "    <div class=\"colab-df-container\">\n",
              "      <div>\n",
              "<style scoped>\n",
              "    .dataframe tbody tr th:only-of-type {\n",
              "        vertical-align: middle;\n",
              "    }\n",
              "\n",
              "    .dataframe tbody tr th {\n",
              "        vertical-align: top;\n",
              "    }\n",
              "\n",
              "    .dataframe thead th {\n",
              "        text-align: right;\n",
              "    }\n",
              "</style>\n",
              "<table border=\"1\" class=\"dataframe\">\n",
              "  <thead>\n",
              "    <tr style=\"text-align: right;\">\n",
              "      <th></th>\n",
              "      <th>Precio</th>\n",
              "      <th>Barrio</th>\n",
              "    </tr>\n",
              "  </thead>\n",
              "  <tbody>\n",
              "    <tr>\n",
              "      <th>0</th>\n",
              "      <td>360000000</td>\n",
              "      <td>Zona Noroccidental</td>\n",
              "    </tr>\n",
              "    <tr>\n",
              "      <th>1</th>\n",
              "      <td>670000000</td>\n",
              "      <td>Castilla</td>\n",
              "    </tr>\n",
              "    <tr>\n",
              "      <th>2</th>\n",
              "      <td>1120000000</td>\n",
              "      <td>Chico Reservado</td>\n",
              "    </tr>\n",
              "    <tr>\n",
              "      <th>3</th>\n",
              "      <td>890000000</td>\n",
              "      <td>Usaquén</td>\n",
              "    </tr>\n",
              "    <tr>\n",
              "      <th>4</th>\n",
              "      <td>970000000</td>\n",
              "      <td>Bella Suiza</td>\n",
              "    </tr>\n",
              "    <tr>\n",
              "      <th>...</th>\n",
              "      <td>...</td>\n",
              "      <td>...</td>\n",
              "    </tr>\n",
              "    <tr>\n",
              "      <th>9515</th>\n",
              "      <td>290000000</td>\n",
              "      <td>Kennedy</td>\n",
              "    </tr>\n",
              "    <tr>\n",
              "      <th>9516</th>\n",
              "      <td>670000000</td>\n",
              "      <td>Parque Central Bavaria</td>\n",
              "    </tr>\n",
              "    <tr>\n",
              "      <th>9517</th>\n",
              "      <td>900000000</td>\n",
              "      <td>Restrepo</td>\n",
              "    </tr>\n",
              "    <tr>\n",
              "      <th>9518</th>\n",
              "      <td>335000000</td>\n",
              "      <td>Engativa</td>\n",
              "    </tr>\n",
              "    <tr>\n",
              "      <th>9519</th>\n",
              "      <td>144990000</td>\n",
              "      <td>Tintala</td>\n",
              "    </tr>\n",
              "  </tbody>\n",
              "</table>\n",
              "<p>9520 rows × 2 columns</p>\n",
              "</div>\n",
              "      <button class=\"colab-df-convert\" onclick=\"convertToInteractive('df-38b24b5d-dc01-4f04-bb5d-e705f3a2e456')\"\n",
              "              title=\"Convert this dataframe to an interactive table.\"\n",
              "              style=\"display:none;\">\n",
              "        \n",
              "  <svg xmlns=\"http://www.w3.org/2000/svg\" height=\"24px\"viewBox=\"0 0 24 24\"\n",
              "       width=\"24px\">\n",
              "    <path d=\"M0 0h24v24H0V0z\" fill=\"none\"/>\n",
              "    <path d=\"M18.56 5.44l.94 2.06.94-2.06 2.06-.94-2.06-.94-.94-2.06-.94 2.06-2.06.94zm-11 1L8.5 8.5l.94-2.06 2.06-.94-2.06-.94L8.5 2.5l-.94 2.06-2.06.94zm10 10l.94 2.06.94-2.06 2.06-.94-2.06-.94-.94-2.06-.94 2.06-2.06.94z\"/><path d=\"M17.41 7.96l-1.37-1.37c-.4-.4-.92-.59-1.43-.59-.52 0-1.04.2-1.43.59L10.3 9.45l-7.72 7.72c-.78.78-.78 2.05 0 2.83L4 21.41c.39.39.9.59 1.41.59.51 0 1.02-.2 1.41-.59l7.78-7.78 2.81-2.81c.8-.78.8-2.07 0-2.86zM5.41 20L4 18.59l7.72-7.72 1.47 1.35L5.41 20z\"/>\n",
              "  </svg>\n",
              "      </button>\n",
              "      \n",
              "  <style>\n",
              "    .colab-df-container {\n",
              "      display:flex;\n",
              "      flex-wrap:wrap;\n",
              "      gap: 12px;\n",
              "    }\n",
              "\n",
              "    .colab-df-convert {\n",
              "      background-color: #E8F0FE;\n",
              "      border: none;\n",
              "      border-radius: 50%;\n",
              "      cursor: pointer;\n",
              "      display: none;\n",
              "      fill: #1967D2;\n",
              "      height: 32px;\n",
              "      padding: 0 0 0 0;\n",
              "      width: 32px;\n",
              "    }\n",
              "\n",
              "    .colab-df-convert:hover {\n",
              "      background-color: #E2EBFA;\n",
              "      box-shadow: 0px 1px 2px rgba(60, 64, 67, 0.3), 0px 1px 3px 1px rgba(60, 64, 67, 0.15);\n",
              "      fill: #174EA6;\n",
              "    }\n",
              "\n",
              "    [theme=dark] .colab-df-convert {\n",
              "      background-color: #3B4455;\n",
              "      fill: #D2E3FC;\n",
              "    }\n",
              "\n",
              "    [theme=dark] .colab-df-convert:hover {\n",
              "      background-color: #434B5C;\n",
              "      box-shadow: 0px 1px 3px 1px rgba(0, 0, 0, 0.15);\n",
              "      filter: drop-shadow(0px 1px 2px rgba(0, 0, 0, 0.3));\n",
              "      fill: #FFFFFF;\n",
              "    }\n",
              "  </style>\n",
              "\n",
              "      <script>\n",
              "        const buttonEl =\n",
              "          document.querySelector('#df-38b24b5d-dc01-4f04-bb5d-e705f3a2e456 button.colab-df-convert');\n",
              "        buttonEl.style.display =\n",
              "          google.colab.kernel.accessAllowed ? 'block' : 'none';\n",
              "\n",
              "        async function convertToInteractive(key) {\n",
              "          const element = document.querySelector('#df-38b24b5d-dc01-4f04-bb5d-e705f3a2e456');\n",
              "          const dataTable =\n",
              "            await google.colab.kernel.invokeFunction('convertToInteractive',\n",
              "                                                     [key], {});\n",
              "          if (!dataTable) return;\n",
              "\n",
              "          const docLinkHtml = 'Like what you see? Visit the ' +\n",
              "            '<a target=\"_blank\" href=https://colab.research.google.com/notebooks/data_table.ipynb>data table notebook</a>'\n",
              "            + ' to learn more about interactive tables.';\n",
              "          element.innerHTML = '';\n",
              "          dataTable['output_type'] = 'display_data';\n",
              "          await google.colab.output.renderOutput(dataTable, element);\n",
              "          const docLink = document.createElement('div');\n",
              "          docLink.innerHTML = docLinkHtml;\n",
              "          element.appendChild(docLink);\n",
              "        }\n",
              "      </script>\n",
              "    </div>\n",
              "  </div>\n",
              "  "
            ]
          },
          "metadata": {},
          "execution_count": 34
        }
      ]
    },
    {
      "cell_type": "code",
      "source": [
        "inmuebles.info()"
      ],
      "metadata": {
        "colab": {
          "base_uri": "https://localhost:8080/"
        },
        "id": "ZP57N8bXO9Lm",
        "outputId": "15a76c70-fdc9-46cd-c204-40c18aab310c"
      },
      "execution_count": 35,
      "outputs": [
        {
          "output_type": "stream",
          "name": "stdout",
          "text": [
            "<class 'pandas.core.frame.DataFrame'>\n",
            "RangeIndex: 9520 entries, 0 to 9519\n",
            "Data columns (total 10 columns):\n",
            " #   Column        Non-Null Count  Dtype \n",
            "---  ------        --------------  ----- \n",
            " 0   Tipo          9520 non-null   object\n",
            " 1   Descripcion   9520 non-null   object\n",
            " 2   Habitaciones  9520 non-null   int64 \n",
            " 3   Banos         9520 non-null   int64 \n",
            " 4   Area          9520 non-null   int64 \n",
            " 5   Barrio        9520 non-null   object\n",
            " 6   UPZ           9478 non-null   object\n",
            " 7   Valor         9520 non-null   object\n",
            " 8   Moneda        9520 non-null   object\n",
            " 9   Precio        9520 non-null   object\n",
            "dtypes: int64(3), object(7)\n",
            "memory usage: 743.9+ KB\n"
          ]
        }
      ]
    },
    {
      "cell_type": "code",
      "source": [
        "inmuebles['Precio_Millon'] = inmuebles.Precio.astype('float')/1000000 #Para mejor visualizacion le eliminamos seis 0 y convertimos a tipo float el precio del inmueble\n",
        "inmuebles.info()"
      ],
      "metadata": {
        "colab": {
          "base_uri": "https://localhost:8080/"
        },
        "id": "0JwDQyb6POMq",
        "outputId": "1ea52600-1015-4a5a-f2a1-86dfbb957e7a"
      },
      "execution_count": 36,
      "outputs": [
        {
          "output_type": "stream",
          "name": "stdout",
          "text": [
            "<class 'pandas.core.frame.DataFrame'>\n",
            "RangeIndex: 9520 entries, 0 to 9519\n",
            "Data columns (total 11 columns):\n",
            " #   Column         Non-Null Count  Dtype  \n",
            "---  ------         --------------  -----  \n",
            " 0   Tipo           9520 non-null   object \n",
            " 1   Descripcion    9520 non-null   object \n",
            " 2   Habitaciones   9520 non-null   int64  \n",
            " 3   Banos          9520 non-null   int64  \n",
            " 4   Area           9520 non-null   int64  \n",
            " 5   Barrio         9520 non-null   object \n",
            " 6   UPZ            9478 non-null   object \n",
            " 7   Valor          9520 non-null   object \n",
            " 8   Moneda         9520 non-null   object \n",
            " 9   Precio         9520 non-null   object \n",
            " 10  Precio_Millon  9520 non-null   float64\n",
            "dtypes: float64(1), int64(3), object(7)\n",
            "memory usage: 818.2+ KB\n"
          ]
        }
      ]
    },
    {
      "cell_type": "code",
      "source": [
        "inmuebles.describe()"
      ],
      "metadata": {
        "colab": {
          "base_uri": "https://localhost:8080/",
          "height": 300
        },
        "id": "2OFAMdrAPoNq",
        "outputId": "a6f06e6d-0489-4e3c-f000-6e49c8be665a"
      },
      "execution_count": 37,
      "outputs": [
        {
          "output_type": "execute_result",
          "data": {
            "text/plain": [
              "       Habitaciones        Banos           Area  Precio_Millon\n",
              "count   9520.000000  9520.000000    9520.000000    9520.000000\n",
              "mean       3.072479     2.447899     146.664706     602.062354\n",
              "std        2.049856     1.255314    1731.379622     704.602062\n",
              "min        1.000000     0.000000       2.000000      60.000000\n",
              "25%        2.000000     2.000000      57.000000     250.000000\n",
              "50%        3.000000     2.000000      80.000000     409.182500\n",
              "75%        3.000000     3.000000     135.000000     680.000000\n",
              "max      110.000000     9.000000  166243.000000   16000.000000"
            ],
            "text/html": [
              "\n",
              "  <div id=\"df-70fcb0a3-ccca-471a-b83d-d653dcc0b8fd\">\n",
              "    <div class=\"colab-df-container\">\n",
              "      <div>\n",
              "<style scoped>\n",
              "    .dataframe tbody tr th:only-of-type {\n",
              "        vertical-align: middle;\n",
              "    }\n",
              "\n",
              "    .dataframe tbody tr th {\n",
              "        vertical-align: top;\n",
              "    }\n",
              "\n",
              "    .dataframe thead th {\n",
              "        text-align: right;\n",
              "    }\n",
              "</style>\n",
              "<table border=\"1\" class=\"dataframe\">\n",
              "  <thead>\n",
              "    <tr style=\"text-align: right;\">\n",
              "      <th></th>\n",
              "      <th>Habitaciones</th>\n",
              "      <th>Banos</th>\n",
              "      <th>Area</th>\n",
              "      <th>Precio_Millon</th>\n",
              "    </tr>\n",
              "  </thead>\n",
              "  <tbody>\n",
              "    <tr>\n",
              "      <th>count</th>\n",
              "      <td>9520.000000</td>\n",
              "      <td>9520.000000</td>\n",
              "      <td>9520.000000</td>\n",
              "      <td>9520.000000</td>\n",
              "    </tr>\n",
              "    <tr>\n",
              "      <th>mean</th>\n",
              "      <td>3.072479</td>\n",
              "      <td>2.447899</td>\n",
              "      <td>146.664706</td>\n",
              "      <td>602.062354</td>\n",
              "    </tr>\n",
              "    <tr>\n",
              "      <th>std</th>\n",
              "      <td>2.049856</td>\n",
              "      <td>1.255314</td>\n",
              "      <td>1731.379622</td>\n",
              "      <td>704.602062</td>\n",
              "    </tr>\n",
              "    <tr>\n",
              "      <th>min</th>\n",
              "      <td>1.000000</td>\n",
              "      <td>0.000000</td>\n",
              "      <td>2.000000</td>\n",
              "      <td>60.000000</td>\n",
              "    </tr>\n",
              "    <tr>\n",
              "      <th>25%</th>\n",
              "      <td>2.000000</td>\n",
              "      <td>2.000000</td>\n",
              "      <td>57.000000</td>\n",
              "      <td>250.000000</td>\n",
              "    </tr>\n",
              "    <tr>\n",
              "      <th>50%</th>\n",
              "      <td>3.000000</td>\n",
              "      <td>2.000000</td>\n",
              "      <td>80.000000</td>\n",
              "      <td>409.182500</td>\n",
              "    </tr>\n",
              "    <tr>\n",
              "      <th>75%</th>\n",
              "      <td>3.000000</td>\n",
              "      <td>3.000000</td>\n",
              "      <td>135.000000</td>\n",
              "      <td>680.000000</td>\n",
              "    </tr>\n",
              "    <tr>\n",
              "      <th>max</th>\n",
              "      <td>110.000000</td>\n",
              "      <td>9.000000</td>\n",
              "      <td>166243.000000</td>\n",
              "      <td>16000.000000</td>\n",
              "    </tr>\n",
              "  </tbody>\n",
              "</table>\n",
              "</div>\n",
              "      <button class=\"colab-df-convert\" onclick=\"convertToInteractive('df-70fcb0a3-ccca-471a-b83d-d653dcc0b8fd')\"\n",
              "              title=\"Convert this dataframe to an interactive table.\"\n",
              "              style=\"display:none;\">\n",
              "        \n",
              "  <svg xmlns=\"http://www.w3.org/2000/svg\" height=\"24px\"viewBox=\"0 0 24 24\"\n",
              "       width=\"24px\">\n",
              "    <path d=\"M0 0h24v24H0V0z\" fill=\"none\"/>\n",
              "    <path d=\"M18.56 5.44l.94 2.06.94-2.06 2.06-.94-2.06-.94-.94-2.06-.94 2.06-2.06.94zm-11 1L8.5 8.5l.94-2.06 2.06-.94-2.06-.94L8.5 2.5l-.94 2.06-2.06.94zm10 10l.94 2.06.94-2.06 2.06-.94-2.06-.94-.94-2.06-.94 2.06-2.06.94z\"/><path d=\"M17.41 7.96l-1.37-1.37c-.4-.4-.92-.59-1.43-.59-.52 0-1.04.2-1.43.59L10.3 9.45l-7.72 7.72c-.78.78-.78 2.05 0 2.83L4 21.41c.39.39.9.59 1.41.59.51 0 1.02-.2 1.41-.59l7.78-7.78 2.81-2.81c.8-.78.8-2.07 0-2.86zM5.41 20L4 18.59l7.72-7.72 1.47 1.35L5.41 20z\"/>\n",
              "  </svg>\n",
              "      </button>\n",
              "      \n",
              "  <style>\n",
              "    .colab-df-container {\n",
              "      display:flex;\n",
              "      flex-wrap:wrap;\n",
              "      gap: 12px;\n",
              "    }\n",
              "\n",
              "    .colab-df-convert {\n",
              "      background-color: #E8F0FE;\n",
              "      border: none;\n",
              "      border-radius: 50%;\n",
              "      cursor: pointer;\n",
              "      display: none;\n",
              "      fill: #1967D2;\n",
              "      height: 32px;\n",
              "      padding: 0 0 0 0;\n",
              "      width: 32px;\n",
              "    }\n",
              "\n",
              "    .colab-df-convert:hover {\n",
              "      background-color: #E2EBFA;\n",
              "      box-shadow: 0px 1px 2px rgba(60, 64, 67, 0.3), 0px 1px 3px 1px rgba(60, 64, 67, 0.15);\n",
              "      fill: #174EA6;\n",
              "    }\n",
              "\n",
              "    [theme=dark] .colab-df-convert {\n",
              "      background-color: #3B4455;\n",
              "      fill: #D2E3FC;\n",
              "    }\n",
              "\n",
              "    [theme=dark] .colab-df-convert:hover {\n",
              "      background-color: #434B5C;\n",
              "      box-shadow: 0px 1px 3px 1px rgba(0, 0, 0, 0.15);\n",
              "      filter: drop-shadow(0px 1px 2px rgba(0, 0, 0, 0.3));\n",
              "      fill: #FFFFFF;\n",
              "    }\n",
              "  </style>\n",
              "\n",
              "      <script>\n",
              "        const buttonEl =\n",
              "          document.querySelector('#df-70fcb0a3-ccca-471a-b83d-d653dcc0b8fd button.colab-df-convert');\n",
              "        buttonEl.style.display =\n",
              "          google.colab.kernel.accessAllowed ? 'block' : 'none';\n",
              "\n",
              "        async function convertToInteractive(key) {\n",
              "          const element = document.querySelector('#df-70fcb0a3-ccca-471a-b83d-d653dcc0b8fd');\n",
              "          const dataTable =\n",
              "            await google.colab.kernel.invokeFunction('convertToInteractive',\n",
              "                                                     [key], {});\n",
              "          if (!dataTable) return;\n",
              "\n",
              "          const docLinkHtml = 'Like what you see? Visit the ' +\n",
              "            '<a target=\"_blank\" href=https://colab.research.google.com/notebooks/data_table.ipynb>data table notebook</a>'\n",
              "            + ' to learn more about interactive tables.';\n",
              "          element.innerHTML = '';\n",
              "          dataTable['output_type'] = 'display_data';\n",
              "          await google.colab.output.renderOutput(dataTable, element);\n",
              "          const docLink = document.createElement('div');\n",
              "          docLink.innerHTML = docLinkHtml;\n",
              "          element.appendChild(docLink);\n",
              "        }\n",
              "      </script>\n",
              "    </div>\n",
              "  </div>\n",
              "  "
            ]
          },
          "metadata": {},
          "execution_count": 37
        }
      ]
    },
    {
      "cell_type": "code",
      "source": [
        "pd.set_option('display.precision',2) #Eliminar posiciones decimales para que sea más fácil leer\n",
        "pd.set_option('display.float_format', lambda x: '%.2f' % x) # 2f es 2 números float\n",
        "inmuebles.describe()"
      ],
      "metadata": {
        "colab": {
          "base_uri": "https://localhost:8080/",
          "height": 300
        },
        "id": "fA1hAJW8QWZ7",
        "outputId": "f3176ef3-523c-4d99-8c57-83b22e0cdc81"
      },
      "execution_count": 38,
      "outputs": [
        {
          "output_type": "execute_result",
          "data": {
            "text/plain": [
              "       Habitaciones   Banos      Area  Precio_Millon\n",
              "count       9520.00 9520.00   9520.00        9520.00\n",
              "mean           3.07    2.45    146.66         602.06\n",
              "std            2.05    1.26   1731.38         704.60\n",
              "min            1.00    0.00      2.00          60.00\n",
              "25%            2.00    2.00     57.00         250.00\n",
              "50%            3.00    2.00     80.00         409.18\n",
              "75%            3.00    3.00    135.00         680.00\n",
              "max          110.00    9.00 166243.00       16000.00"
            ],
            "text/html": [
              "\n",
              "  <div id=\"df-301bc2e3-8c83-41d1-af9b-4abfaf658557\">\n",
              "    <div class=\"colab-df-container\">\n",
              "      <div>\n",
              "<style scoped>\n",
              "    .dataframe tbody tr th:only-of-type {\n",
              "        vertical-align: middle;\n",
              "    }\n",
              "\n",
              "    .dataframe tbody tr th {\n",
              "        vertical-align: top;\n",
              "    }\n",
              "\n",
              "    .dataframe thead th {\n",
              "        text-align: right;\n",
              "    }\n",
              "</style>\n",
              "<table border=\"1\" class=\"dataframe\">\n",
              "  <thead>\n",
              "    <tr style=\"text-align: right;\">\n",
              "      <th></th>\n",
              "      <th>Habitaciones</th>\n",
              "      <th>Banos</th>\n",
              "      <th>Area</th>\n",
              "      <th>Precio_Millon</th>\n",
              "    </tr>\n",
              "  </thead>\n",
              "  <tbody>\n",
              "    <tr>\n",
              "      <th>count</th>\n",
              "      <td>9520.00</td>\n",
              "      <td>9520.00</td>\n",
              "      <td>9520.00</td>\n",
              "      <td>9520.00</td>\n",
              "    </tr>\n",
              "    <tr>\n",
              "      <th>mean</th>\n",
              "      <td>3.07</td>\n",
              "      <td>2.45</td>\n",
              "      <td>146.66</td>\n",
              "      <td>602.06</td>\n",
              "    </tr>\n",
              "    <tr>\n",
              "      <th>std</th>\n",
              "      <td>2.05</td>\n",
              "      <td>1.26</td>\n",
              "      <td>1731.38</td>\n",
              "      <td>704.60</td>\n",
              "    </tr>\n",
              "    <tr>\n",
              "      <th>min</th>\n",
              "      <td>1.00</td>\n",
              "      <td>0.00</td>\n",
              "      <td>2.00</td>\n",
              "      <td>60.00</td>\n",
              "    </tr>\n",
              "    <tr>\n",
              "      <th>25%</th>\n",
              "      <td>2.00</td>\n",
              "      <td>2.00</td>\n",
              "      <td>57.00</td>\n",
              "      <td>250.00</td>\n",
              "    </tr>\n",
              "    <tr>\n",
              "      <th>50%</th>\n",
              "      <td>3.00</td>\n",
              "      <td>2.00</td>\n",
              "      <td>80.00</td>\n",
              "      <td>409.18</td>\n",
              "    </tr>\n",
              "    <tr>\n",
              "      <th>75%</th>\n",
              "      <td>3.00</td>\n",
              "      <td>3.00</td>\n",
              "      <td>135.00</td>\n",
              "      <td>680.00</td>\n",
              "    </tr>\n",
              "    <tr>\n",
              "      <th>max</th>\n",
              "      <td>110.00</td>\n",
              "      <td>9.00</td>\n",
              "      <td>166243.00</td>\n",
              "      <td>16000.00</td>\n",
              "    </tr>\n",
              "  </tbody>\n",
              "</table>\n",
              "</div>\n",
              "      <button class=\"colab-df-convert\" onclick=\"convertToInteractive('df-301bc2e3-8c83-41d1-af9b-4abfaf658557')\"\n",
              "              title=\"Convert this dataframe to an interactive table.\"\n",
              "              style=\"display:none;\">\n",
              "        \n",
              "  <svg xmlns=\"http://www.w3.org/2000/svg\" height=\"24px\"viewBox=\"0 0 24 24\"\n",
              "       width=\"24px\">\n",
              "    <path d=\"M0 0h24v24H0V0z\" fill=\"none\"/>\n",
              "    <path d=\"M18.56 5.44l.94 2.06.94-2.06 2.06-.94-2.06-.94-.94-2.06-.94 2.06-2.06.94zm-11 1L8.5 8.5l.94-2.06 2.06-.94-2.06-.94L8.5 2.5l-.94 2.06-2.06.94zm10 10l.94 2.06.94-2.06 2.06-.94-2.06-.94-.94-2.06-.94 2.06-2.06.94z\"/><path d=\"M17.41 7.96l-1.37-1.37c-.4-.4-.92-.59-1.43-.59-.52 0-1.04.2-1.43.59L10.3 9.45l-7.72 7.72c-.78.78-.78 2.05 0 2.83L4 21.41c.39.39.9.59 1.41.59.51 0 1.02-.2 1.41-.59l7.78-7.78 2.81-2.81c.8-.78.8-2.07 0-2.86zM5.41 20L4 18.59l7.72-7.72 1.47 1.35L5.41 20z\"/>\n",
              "  </svg>\n",
              "      </button>\n",
              "      \n",
              "  <style>\n",
              "    .colab-df-container {\n",
              "      display:flex;\n",
              "      flex-wrap:wrap;\n",
              "      gap: 12px;\n",
              "    }\n",
              "\n",
              "    .colab-df-convert {\n",
              "      background-color: #E8F0FE;\n",
              "      border: none;\n",
              "      border-radius: 50%;\n",
              "      cursor: pointer;\n",
              "      display: none;\n",
              "      fill: #1967D2;\n",
              "      height: 32px;\n",
              "      padding: 0 0 0 0;\n",
              "      width: 32px;\n",
              "    }\n",
              "\n",
              "    .colab-df-convert:hover {\n",
              "      background-color: #E2EBFA;\n",
              "      box-shadow: 0px 1px 2px rgba(60, 64, 67, 0.3), 0px 1px 3px 1px rgba(60, 64, 67, 0.15);\n",
              "      fill: #174EA6;\n",
              "    }\n",
              "\n",
              "    [theme=dark] .colab-df-convert {\n",
              "      background-color: #3B4455;\n",
              "      fill: #D2E3FC;\n",
              "    }\n",
              "\n",
              "    [theme=dark] .colab-df-convert:hover {\n",
              "      background-color: #434B5C;\n",
              "      box-shadow: 0px 1px 3px 1px rgba(0, 0, 0, 0.15);\n",
              "      filter: drop-shadow(0px 1px 2px rgba(0, 0, 0, 0.3));\n",
              "      fill: #FFFFFF;\n",
              "    }\n",
              "  </style>\n",
              "\n",
              "      <script>\n",
              "        const buttonEl =\n",
              "          document.querySelector('#df-301bc2e3-8c83-41d1-af9b-4abfaf658557 button.colab-df-convert');\n",
              "        buttonEl.style.display =\n",
              "          google.colab.kernel.accessAllowed ? 'block' : 'none';\n",
              "\n",
              "        async function convertToInteractive(key) {\n",
              "          const element = document.querySelector('#df-301bc2e3-8c83-41d1-af9b-4abfaf658557');\n",
              "          const dataTable =\n",
              "            await google.colab.kernel.invokeFunction('convertToInteractive',\n",
              "                                                     [key], {});\n",
              "          if (!dataTable) return;\n",
              "\n",
              "          const docLinkHtml = 'Like what you see? Visit the ' +\n",
              "            '<a target=\"_blank\" href=https://colab.research.google.com/notebooks/data_table.ipynb>data table notebook</a>'\n",
              "            + ' to learn more about interactive tables.';\n",
              "          element.innerHTML = '';\n",
              "          dataTable['output_type'] = 'display_data';\n",
              "          await google.colab.output.renderOutput(dataTable, element);\n",
              "          const docLink = document.createElement('div');\n",
              "          docLink.innerHTML = docLinkHtml;\n",
              "          element.appendChild(docLink);\n",
              "        }\n",
              "      </script>\n",
              "    </div>\n",
              "  </div>\n",
              "  "
            ]
          },
          "metadata": {},
          "execution_count": 38
        }
      ]
    },
    {
      "cell_type": "code",
      "source": [
        "inmuebles.loc[inmuebles.Habitaciones == 110] #Identificar cual es el inmueble que tiene 110 habitaciones"
      ],
      "metadata": {
        "colab": {
          "base_uri": "https://localhost:8080/",
          "height": 179
        },
        "id": "boVAQbi5RKsm",
        "outputId": "38a18340-7c05-4c74-9e07-382b5859bb16"
      },
      "execution_count": 39,
      "outputs": [
        {
          "output_type": "execute_result",
          "data": {
            "text/plain": [
              "     Tipo                Descripcion  Habitaciones  Banos  Area    Barrio  \\\n",
              "897  Casa  Casa en venta en La Uribe           110      2   110  La Uribe   \n",
              "\n",
              "         UPZ          Valor Moneda     Precio  Precio_Millon  \n",
              "897  Usaquén  $ 480.000.000      $  480000000         480.00  "
            ],
            "text/html": [
              "\n",
              "  <div id=\"df-fbea4953-8a10-4ed6-8fd0-e9f2f9f1a0a0\">\n",
              "    <div class=\"colab-df-container\">\n",
              "      <div>\n",
              "<style scoped>\n",
              "    .dataframe tbody tr th:only-of-type {\n",
              "        vertical-align: middle;\n",
              "    }\n",
              "\n",
              "    .dataframe tbody tr th {\n",
              "        vertical-align: top;\n",
              "    }\n",
              "\n",
              "    .dataframe thead th {\n",
              "        text-align: right;\n",
              "    }\n",
              "</style>\n",
              "<table border=\"1\" class=\"dataframe\">\n",
              "  <thead>\n",
              "    <tr style=\"text-align: right;\">\n",
              "      <th></th>\n",
              "      <th>Tipo</th>\n",
              "      <th>Descripcion</th>\n",
              "      <th>Habitaciones</th>\n",
              "      <th>Banos</th>\n",
              "      <th>Area</th>\n",
              "      <th>Barrio</th>\n",
              "      <th>UPZ</th>\n",
              "      <th>Valor</th>\n",
              "      <th>Moneda</th>\n",
              "      <th>Precio</th>\n",
              "      <th>Precio_Millon</th>\n",
              "    </tr>\n",
              "  </thead>\n",
              "  <tbody>\n",
              "    <tr>\n",
              "      <th>897</th>\n",
              "      <td>Casa</td>\n",
              "      <td>Casa en venta en La Uribe</td>\n",
              "      <td>110</td>\n",
              "      <td>2</td>\n",
              "      <td>110</td>\n",
              "      <td>La Uribe</td>\n",
              "      <td>Usaquén</td>\n",
              "      <td>$ 480.000.000</td>\n",
              "      <td>$</td>\n",
              "      <td>480000000</td>\n",
              "      <td>480.00</td>\n",
              "    </tr>\n",
              "  </tbody>\n",
              "</table>\n",
              "</div>\n",
              "      <button class=\"colab-df-convert\" onclick=\"convertToInteractive('df-fbea4953-8a10-4ed6-8fd0-e9f2f9f1a0a0')\"\n",
              "              title=\"Convert this dataframe to an interactive table.\"\n",
              "              style=\"display:none;\">\n",
              "        \n",
              "  <svg xmlns=\"http://www.w3.org/2000/svg\" height=\"24px\"viewBox=\"0 0 24 24\"\n",
              "       width=\"24px\">\n",
              "    <path d=\"M0 0h24v24H0V0z\" fill=\"none\"/>\n",
              "    <path d=\"M18.56 5.44l.94 2.06.94-2.06 2.06-.94-2.06-.94-.94-2.06-.94 2.06-2.06.94zm-11 1L8.5 8.5l.94-2.06 2.06-.94-2.06-.94L8.5 2.5l-.94 2.06-2.06.94zm10 10l.94 2.06.94-2.06 2.06-.94-2.06-.94-.94-2.06-.94 2.06-2.06.94z\"/><path d=\"M17.41 7.96l-1.37-1.37c-.4-.4-.92-.59-1.43-.59-.52 0-1.04.2-1.43.59L10.3 9.45l-7.72 7.72c-.78.78-.78 2.05 0 2.83L4 21.41c.39.39.9.59 1.41.59.51 0 1.02-.2 1.41-.59l7.78-7.78 2.81-2.81c.8-.78.8-2.07 0-2.86zM5.41 20L4 18.59l7.72-7.72 1.47 1.35L5.41 20z\"/>\n",
              "  </svg>\n",
              "      </button>\n",
              "      \n",
              "  <style>\n",
              "    .colab-df-container {\n",
              "      display:flex;\n",
              "      flex-wrap:wrap;\n",
              "      gap: 12px;\n",
              "    }\n",
              "\n",
              "    .colab-df-convert {\n",
              "      background-color: #E8F0FE;\n",
              "      border: none;\n",
              "      border-radius: 50%;\n",
              "      cursor: pointer;\n",
              "      display: none;\n",
              "      fill: #1967D2;\n",
              "      height: 32px;\n",
              "      padding: 0 0 0 0;\n",
              "      width: 32px;\n",
              "    }\n",
              "\n",
              "    .colab-df-convert:hover {\n",
              "      background-color: #E2EBFA;\n",
              "      box-shadow: 0px 1px 2px rgba(60, 64, 67, 0.3), 0px 1px 3px 1px rgba(60, 64, 67, 0.15);\n",
              "      fill: #174EA6;\n",
              "    }\n",
              "\n",
              "    [theme=dark] .colab-df-convert {\n",
              "      background-color: #3B4455;\n",
              "      fill: #D2E3FC;\n",
              "    }\n",
              "\n",
              "    [theme=dark] .colab-df-convert:hover {\n",
              "      background-color: #434B5C;\n",
              "      box-shadow: 0px 1px 3px 1px rgba(0, 0, 0, 0.15);\n",
              "      filter: drop-shadow(0px 1px 2px rgba(0, 0, 0, 0.3));\n",
              "      fill: #FFFFFF;\n",
              "    }\n",
              "  </style>\n",
              "\n",
              "      <script>\n",
              "        const buttonEl =\n",
              "          document.querySelector('#df-fbea4953-8a10-4ed6-8fd0-e9f2f9f1a0a0 button.colab-df-convert');\n",
              "        buttonEl.style.display =\n",
              "          google.colab.kernel.accessAllowed ? 'block' : 'none';\n",
              "\n",
              "        async function convertToInteractive(key) {\n",
              "          const element = document.querySelector('#df-fbea4953-8a10-4ed6-8fd0-e9f2f9f1a0a0');\n",
              "          const dataTable =\n",
              "            await google.colab.kernel.invokeFunction('convertToInteractive',\n",
              "                                                     [key], {});\n",
              "          if (!dataTable) return;\n",
              "\n",
              "          const docLinkHtml = 'Like what you see? Visit the ' +\n",
              "            '<a target=\"_blank\" href=https://colab.research.google.com/notebooks/data_table.ipynb>data table notebook</a>'\n",
              "            + ' to learn more about interactive tables.';\n",
              "          element.innerHTML = '';\n",
              "          dataTable['output_type'] = 'display_data';\n",
              "          await google.colab.output.renderOutput(dataTable, element);\n",
              "          const docLink = document.createElement('div');\n",
              "          docLink.innerHTML = docLinkHtml;\n",
              "          element.appendChild(docLink);\n",
              "        }\n",
              "      </script>\n",
              "    </div>\n",
              "  </div>\n",
              "  "
            ]
          },
          "metadata": {},
          "execution_count": 39
        }
      ]
    },
    {
      "cell_type": "code",
      "source": [
        "inmuebles.loc[inmuebles.Area == 2] #Identificar cual es el inmueble que tiene un área de 2m2."
      ],
      "metadata": {
        "colab": {
          "base_uri": "https://localhost:8080/",
          "height": 179
        },
        "id": "zcCwMeZJRhhC",
        "outputId": "72f3838f-2d9d-4111-c5a2-9cbcb4135bef"
      },
      "execution_count": 40,
      "outputs": [
        {
          "output_type": "execute_result",
          "data": {
            "text/plain": [
              "             Tipo                            Descripcion  Habitaciones  Banos  \\\n",
              "8401  Apartamento  Apartamento en venta en San Cristobal             3      1   \n",
              "\n",
              "      Area         Barrio      UPZ          Valor Moneda     Precio  \\\n",
              "8401     2  San Cristobal  Sosiego  $ 180.000.000      $  180000000   \n",
              "\n",
              "      Precio_Millon  \n",
              "8401         180.00  "
            ],
            "text/html": [
              "\n",
              "  <div id=\"df-bccc094b-8601-4fb0-bbbe-e5cc9cf62f87\">\n",
              "    <div class=\"colab-df-container\">\n",
              "      <div>\n",
              "<style scoped>\n",
              "    .dataframe tbody tr th:only-of-type {\n",
              "        vertical-align: middle;\n",
              "    }\n",
              "\n",
              "    .dataframe tbody tr th {\n",
              "        vertical-align: top;\n",
              "    }\n",
              "\n",
              "    .dataframe thead th {\n",
              "        text-align: right;\n",
              "    }\n",
              "</style>\n",
              "<table border=\"1\" class=\"dataframe\">\n",
              "  <thead>\n",
              "    <tr style=\"text-align: right;\">\n",
              "      <th></th>\n",
              "      <th>Tipo</th>\n",
              "      <th>Descripcion</th>\n",
              "      <th>Habitaciones</th>\n",
              "      <th>Banos</th>\n",
              "      <th>Area</th>\n",
              "      <th>Barrio</th>\n",
              "      <th>UPZ</th>\n",
              "      <th>Valor</th>\n",
              "      <th>Moneda</th>\n",
              "      <th>Precio</th>\n",
              "      <th>Precio_Millon</th>\n",
              "    </tr>\n",
              "  </thead>\n",
              "  <tbody>\n",
              "    <tr>\n",
              "      <th>8401</th>\n",
              "      <td>Apartamento</td>\n",
              "      <td>Apartamento en venta en San Cristobal</td>\n",
              "      <td>3</td>\n",
              "      <td>1</td>\n",
              "      <td>2</td>\n",
              "      <td>San Cristobal</td>\n",
              "      <td>Sosiego</td>\n",
              "      <td>$ 180.000.000</td>\n",
              "      <td>$</td>\n",
              "      <td>180000000</td>\n",
              "      <td>180.00</td>\n",
              "    </tr>\n",
              "  </tbody>\n",
              "</table>\n",
              "</div>\n",
              "      <button class=\"colab-df-convert\" onclick=\"convertToInteractive('df-bccc094b-8601-4fb0-bbbe-e5cc9cf62f87')\"\n",
              "              title=\"Convert this dataframe to an interactive table.\"\n",
              "              style=\"display:none;\">\n",
              "        \n",
              "  <svg xmlns=\"http://www.w3.org/2000/svg\" height=\"24px\"viewBox=\"0 0 24 24\"\n",
              "       width=\"24px\">\n",
              "    <path d=\"M0 0h24v24H0V0z\" fill=\"none\"/>\n",
              "    <path d=\"M18.56 5.44l.94 2.06.94-2.06 2.06-.94-2.06-.94-.94-2.06-.94 2.06-2.06.94zm-11 1L8.5 8.5l.94-2.06 2.06-.94-2.06-.94L8.5 2.5l-.94 2.06-2.06.94zm10 10l.94 2.06.94-2.06 2.06-.94-2.06-.94-.94-2.06-.94 2.06-2.06.94z\"/><path d=\"M17.41 7.96l-1.37-1.37c-.4-.4-.92-.59-1.43-.59-.52 0-1.04.2-1.43.59L10.3 9.45l-7.72 7.72c-.78.78-.78 2.05 0 2.83L4 21.41c.39.39.9.59 1.41.59.51 0 1.02-.2 1.41-.59l7.78-7.78 2.81-2.81c.8-.78.8-2.07 0-2.86zM5.41 20L4 18.59l7.72-7.72 1.47 1.35L5.41 20z\"/>\n",
              "  </svg>\n",
              "      </button>\n",
              "      \n",
              "  <style>\n",
              "    .colab-df-container {\n",
              "      display:flex;\n",
              "      flex-wrap:wrap;\n",
              "      gap: 12px;\n",
              "    }\n",
              "\n",
              "    .colab-df-convert {\n",
              "      background-color: #E8F0FE;\n",
              "      border: none;\n",
              "      border-radius: 50%;\n",
              "      cursor: pointer;\n",
              "      display: none;\n",
              "      fill: #1967D2;\n",
              "      height: 32px;\n",
              "      padding: 0 0 0 0;\n",
              "      width: 32px;\n",
              "    }\n",
              "\n",
              "    .colab-df-convert:hover {\n",
              "      background-color: #E2EBFA;\n",
              "      box-shadow: 0px 1px 2px rgba(60, 64, 67, 0.3), 0px 1px 3px 1px rgba(60, 64, 67, 0.15);\n",
              "      fill: #174EA6;\n",
              "    }\n",
              "\n",
              "    [theme=dark] .colab-df-convert {\n",
              "      background-color: #3B4455;\n",
              "      fill: #D2E3FC;\n",
              "    }\n",
              "\n",
              "    [theme=dark] .colab-df-convert:hover {\n",
              "      background-color: #434B5C;\n",
              "      box-shadow: 0px 1px 3px 1px rgba(0, 0, 0, 0.15);\n",
              "      filter: drop-shadow(0px 1px 2px rgba(0, 0, 0, 0.3));\n",
              "      fill: #FFFFFF;\n",
              "    }\n",
              "  </style>\n",
              "\n",
              "      <script>\n",
              "        const buttonEl =\n",
              "          document.querySelector('#df-bccc094b-8601-4fb0-bbbe-e5cc9cf62f87 button.colab-df-convert');\n",
              "        buttonEl.style.display =\n",
              "          google.colab.kernel.accessAllowed ? 'block' : 'none';\n",
              "\n",
              "        async function convertToInteractive(key) {\n",
              "          const element = document.querySelector('#df-bccc094b-8601-4fb0-bbbe-e5cc9cf62f87');\n",
              "          const dataTable =\n",
              "            await google.colab.kernel.invokeFunction('convertToInteractive',\n",
              "                                                     [key], {});\n",
              "          if (!dataTable) return;\n",
              "\n",
              "          const docLinkHtml = 'Like what you see? Visit the ' +\n",
              "            '<a target=\"_blank\" href=https://colab.research.google.com/notebooks/data_table.ipynb>data table notebook</a>'\n",
              "            + ' to learn more about interactive tables.';\n",
              "          element.innerHTML = '';\n",
              "          dataTable['output_type'] = 'display_data';\n",
              "          await google.colab.output.renderOutput(dataTable, element);\n",
              "          const docLink = document.createElement('div');\n",
              "          docLink.innerHTML = docLinkHtml;\n",
              "          element.appendChild(docLink);\n",
              "        }\n",
              "      </script>\n",
              "    </div>\n",
              "  </div>\n",
              "  "
            ]
          },
          "metadata": {},
          "execution_count": 40
        }
      ]
    },
    {
      "cell_type": "code",
      "source": [
        "#Gráfico de la distribución del precio de los inmuebles.\n",
        "inmuebles['Precio_Millon'].plot.hist(bins=100, title= 'Distribución del precio de los inmuebles en Bogotá');"
      ],
      "metadata": {
        "colab": {
          "base_uri": "https://localhost:8080/",
          "height": 281
        },
        "id": "fd44PJPCSJwN",
        "outputId": "a465eced-03ff-455c-966f-e922ed9d15f0"
      },
      "execution_count": 41,
      "outputs": [
        {
          "output_type": "display_data",
          "data": {
            "text/plain": [
              "<Figure size 432x288 with 1 Axes>"
            ],
            "image/png": "[encoded data removed]"
          },
          "metadata": {
            "needs_background": "light"
          }
        }
      ]
    },
    {
      "cell_type": "code",
      "source": [
        "import matplotlib.pyplot as plt\n",
        "import seaborn as sns\n",
        "\n",
        "plt.figure(figsize=(10,6))\n",
        "grafica = sns.histplot(data=inmuebles, x='Precio_Millon', kde=True, hue='Tipo')\n",
        "grafica.set_title('Distribución de Valores de los inmuebles en Bogotá')\n",
        "plt.xlim((50,1000))\n",
        "plt.savefig('/content/drive/MyDrive/inmersion_datos/valor_inmuebles.png',format='png')\n",
        "plt.show()"
      ],
      "metadata": {
        "colab": {
          "base_uri": "https://localhost:8080/",
          "height": 405
        },
        "id": "yhdim-1uSx2c",
        "outputId": "586fa4f4-6e2f-469b-e1f7-f09c8127866e"
      },
      "execution_count": 42,
      "outputs": [
        {
          "output_type": "display_data",
          "data": {
            "text/plain": [
              "<Figure size 720x432 with 1 Axes>"
            ],
            "image/png": "[encoded data removed]"
          },
          "metadata": {
            "needs_background": "light"
          }
        }
      ]
    },
    {
      "cell_type": "markdown",
      "source": [
        "**Desafíos**\n",
        "\n",
        "1. Estudiar mejor el histograma de valores, seleccionar 3 tipos de inmuebles (Refinar el gráfico: Títulos, aumentar el tamaño de labels, colores, conclusión de la información)\n"
      ],
      "metadata": {
        "id": "q4dm6mfCYB-h"
      }
    },
    {
      "cell_type": "code",
      "source": [
        "import matplotlib.pyplot as plt\n",
        "import seaborn as sns\n",
        "\n",
        "tipos=['Apartamento', 'Casa', 'Oficina/Consultorio']\n",
        "inmuebles_seleccionados = inmuebles[(inmuebles.Tipo == tipos[0]) | (inmuebles.Tipo == tipos[1]) | (inmuebles.Tipo == tipos[2])]\n",
        "plt.figure(figsize=(12,8), edgecolor='black')\n",
        "grafica = sns.histplot(data=inmuebles_seleccionados, x='Precio_Millon', kde=True, hue='Tipo', palette='dark')\n",
        "grafica.set_title('Distribución de Valores de los inmuebles en Bogotá', fontsize= 15, color= 'blue')\n",
        "plt.xlabel('Precio en millones de pesos colombianos', fontsize=12)\n",
        "plt.ylabel('Cantidad de Inmuebles', fontsize=12)\n",
        "plt.xlim((50,1200))\n",
        "plt.savefig('/content/drive/MyDrive/inmersion_datos/valor_inmuebles_seleccionados.png',format='png')\n",
        "plt.show()"
      ],
      "metadata": {
        "colab": {
          "base_uri": "https://localhost:8080/",
          "height": 519
        },
        "id": "tbAnuoaA_-pG",
        "outputId": "001a0559-5c08-4c0c-ef3c-6bf9a2dd300d"
      },
      "execution_count": 92,
      "outputs": [
        {
          "output_type": "display_data",
          "data": {
            "text/plain": [
              "<Figure size 864x576 with 1 Axes>"
            ],
            "image/png": "[encoded data removed]"
          },
          "metadata": {
            "needs_background": "light"
          }
        }
      ]
    },
    {
      "cell_type": "markdown",
      "source": [
        "A partir de este gráfico podemos ver que hay una mayor Oferta y a menor precio de Apartamentos que de Casa.También que el rango de precio donde encontramos más apartamentos es entre 200-500 millones pesos colombianos. También que la cantidad de casa  valores de las casas"
      ],
      "metadata": {
        "id": "BylI0EsY9Tgy"
      }
    },
    {
      "cell_type": "markdown",
      "source": [
        "\n",
        "2. Precio del m2 por barrio y hacer el gráfico más adecuado para esta nueva variable."
      ],
      "metadata": {
        "id": "j0s10YJ59VXI"
      }
    },
    {
      "cell_type": "code",
      "source": [
        "#Calcular el precio del m2 de los inmuebles\n",
        "inmuebles['precio_m2']=inmuebles['Precio_Millon']/inmuebles['Area']\n",
        "#Calcular el precio del m2 por barrio\n",
        "precio_m2_barrio=inmuebles.groupby('Barrio')['precio_m2']\n",
        "\n",
        "#Ordenar los valores promedio del m2 por barrio de mayor a menor.\n",
        "precio_m2_barrio=inmuebles.groupby('Barrio')['precio_m2'].mean().sort_values(ascending=False)\n",
        "top10_barrio=precio_m2_barrio.head(10)\n",
        "print(f'Los top 10 de barrios donde es más caro el m2: {top10_barrio}')"
      ],
      "metadata": {
        "colab": {
          "base_uri": "https://localhost:8080/"
        },
        "id": "xhOLEgWV-BF1",
        "outputId": "6eb52515-4f00-453e-fea3-6922418244dd"
      },
      "execution_count": 111,
      "outputs": [
        {
          "output_type": "stream",
          "name": "stdout",
          "text": [
            "Los top 10 de barrios donde es más caro el m2: Barrio\n",
            "El Virrey         10.20\n",
            "Santa Ana          9.36\n",
            "La Merced          8.98\n",
            "Chico Norte        8.54\n",
            "Los Rosales        8.17\n",
            "El Refugio         7.96\n",
            "Las Nieves         7.89\n",
            "El Retiro          7.72\n",
            "Chico Reservado    7.61\n",
            "Chapinero          7.43\n",
            "Name: precio_m2, dtype: float64\n"
          ]
        }
      ]
    },
    {
      "cell_type": "code",
      "source": [
        "#Crear gráfico de barras verticales\n",
        "\n",
        "plt.figure(figsize=(10,10), edgecolor='black')\n",
        "grafica = sns.barplot(data=inmuebles, x='precio_m2', y='Barrio', palette='deep')\n",
        "grafica.set_title('Top 10 del Precio promedio del m2 por barrio en Bogotá', fontsize= 15, color= 'blue')\n",
        "plt.xlabel('Precio en millones de pesos colombianos', fontsize=12)\n",
        "plt.ylabel('Barrios', fontsize=12)\n",
        "plt.xlim((0,10))\n",
        "plt.ylim((-1, 10.5))\n",
        "plt.savefig('/content/drive/MyDrive/inmersion_datos/Costo_m2.png',format='png')\n",
        "plt.show()"
      ],
      "metadata": {
        "colab": {
          "base_uri": "https://localhost:8080/",
          "height": 628
        },
        "id": "e45C0sOeLkPn",
        "outputId": "30428dbe-6f35-440f-dba4-786ae94a2cf0"
      },
      "execution_count": 117,
      "outputs": [
        {
          "output_type": "display_data",
          "data": {
            "text/plain": [
              "<Figure size 720x720 with 1 Axes>"
            ],
            "image/png": "[encoded data removed]"
          },
          "metadata": {
            "needs_background": "light"
          }
        }
      ]
    }
  ]
}